{
 "cells": [
  {
   "cell_type": "code",
   "execution_count": 1,
   "metadata": {},
   "outputs": [],
   "source": [
    "import time\n",
    "import datetime as dt\n",
    "from datetime import timedelta\n",
    "import pandas as pd\n",
    "import numpy as np\n",
    "import matplotlib.pyplot as plt\n",
    "import seaborn as sns\n",
    "import plotly.express as px\n",
    "\n",
    "from matplotlib import rc\n",
    "rc('font', family='AppleGothic')\n",
    "plt.rcParams['axes.unicode_minus'] = False"
   ]
  },
  {
   "cell_type": "markdown",
   "metadata": {},
   "source": [
    "## 충전량 데이터"
   ]
  },
  {
   "cell_type": "markdown",
   "metadata": {},
   "source": [
    "### 전처리"
   ]
  },
  {
   "cell_type": "code",
   "execution_count": 2,
   "metadata": {},
   "outputs": [],
   "source": [
    "#데이터 불러오기\n",
    "df_1 = pd.read_csv('/Users/joozero/Desktop/joozero/서울특별시_소유 전기차충전소의 충전량_20240229.csv', encoding='cp949')\n",
    "df_2 = pd.read_csv('/Users/joozero/Desktop/joozero/서울특별시 소유 전기차충전소의 충전량_202107019_20220119.csv', encoding='cp949')"
   ]
  },
  {
   "cell_type": "code",
   "execution_count": 3,
   "metadata": {},
   "outputs": [
    {
     "name": "stdout",
     "output_type": "stream",
     "text": [
      "<class 'pandas.core.frame.DataFrame'>\n",
      "RangeIndex: 144509 entries, 0 to 144508\n",
      "Data columns (total 12 columns):\n",
      " #   Column    Non-Null Count   Dtype  \n",
      "---  ------    --------------   -----  \n",
      " 0   연번        144509 non-null  int64  \n",
      " 1   충전구분      144509 non-null  object \n",
      " 2   충전소명      144509 non-null  object \n",
      " 3   주소        144509 non-null  object \n",
      " 4   위도        144509 non-null  float64\n",
      " 5   경도        144509 non-null  float64\n",
      " 6   충전기 최대용량  144509 non-null  int64  \n",
      " 7   충전량(kWh)  144509 non-null  float64\n",
      " 8   충전시간      144509 non-null  object \n",
      " 9   충전날짜      144509 non-null  object \n",
      " 10  충전시작시간    144509 non-null  object \n",
      " 11  충전종료시간    144509 non-null  object \n",
      "dtypes: float64(3), int64(2), object(7)\n",
      "memory usage: 13.2+ MB\n"
     ]
    }
   ],
   "source": [
    "df_1.info()"
   ]
  },
  {
   "cell_type": "code",
   "execution_count": 4,
   "metadata": {},
   "outputs": [
    {
     "name": "stdout",
     "output_type": "stream",
     "text": [
      "<class 'pandas.core.frame.DataFrame'>\n",
      "RangeIndex: 29971 entries, 0 to 29970\n",
      "Data columns (total 10 columns):\n",
      " #   Column     Non-Null Count  Dtype  \n",
      "---  ------     --------------  -----  \n",
      " 0   순번         29971 non-null  int64  \n",
      " 1   충전구분       29971 non-null  object \n",
      " 2   충전소명       29971 non-null  object \n",
      " 3   주소         29971 non-null  object \n",
      " 4   충전기 최대 용량  29971 non-null  int64  \n",
      " 5   충전량(kWh)   29971 non-null  float64\n",
      " 6   충전시간       29971 non-null  object \n",
      " 7   날짜         29971 non-null  object \n",
      " 8   충전시작시간     29971 non-null  object \n",
      " 9   충전종료시간     29971 non-null  object \n",
      "dtypes: float64(1), int64(2), object(7)\n",
      "memory usage: 2.3+ MB\n"
     ]
    }
   ],
   "source": [
    "df_2.info()"
   ]
  },
  {
   "cell_type": "code",
   "execution_count": 5,
   "metadata": {},
   "outputs": [
    {
     "data": {
      "text/html": [
       "<div>\n",
       "<style scoped>\n",
       "    .dataframe tbody tr th:only-of-type {\n",
       "        vertical-align: middle;\n",
       "    }\n",
       "\n",
       "    .dataframe tbody tr th {\n",
       "        vertical-align: top;\n",
       "    }\n",
       "\n",
       "    .dataframe thead th {\n",
       "        text-align: right;\n",
       "    }\n",
       "</style>\n",
       "<table border=\"1\" class=\"dataframe\">\n",
       "  <thead>\n",
       "    <tr style=\"text-align: right;\">\n",
       "      <th></th>\n",
       "      <th>연번</th>\n",
       "      <th>충전구분</th>\n",
       "      <th>충전소명</th>\n",
       "      <th>주소</th>\n",
       "      <th>위도</th>\n",
       "      <th>경도</th>\n",
       "      <th>충전기 최대용량</th>\n",
       "      <th>충전량(kWh)</th>\n",
       "      <th>충전시간</th>\n",
       "      <th>충전날짜</th>\n",
       "      <th>충전시작시간</th>\n",
       "      <th>충전종료시간</th>\n",
       "    </tr>\n",
       "  </thead>\n",
       "  <tbody>\n",
       "    <tr>\n",
       "      <th>0</th>\n",
       "      <td>1</td>\n",
       "      <td>급속</td>\n",
       "      <td>훈련원공원 노상공영주차장(가로등)</td>\n",
       "      <td>서울 중구 을지로 227(훈련원공원)</td>\n",
       "      <td>37.567078</td>\n",
       "      <td>127.004601</td>\n",
       "      <td>50</td>\n",
       "      <td>13.29</td>\n",
       "      <td>44분26초</td>\n",
       "      <td>2024-02-29</td>\n",
       "      <td>23:51:03</td>\n",
       "      <td>00:35:29</td>\n",
       "    </tr>\n",
       "    <tr>\n",
       "      <th>1</th>\n",
       "      <td>2</td>\n",
       "      <td>급속</td>\n",
       "      <td>어린이대공원 구의문 주차장 복합충전소</td>\n",
       "      <td>서울 광진구 능동로 216(어린이대공원)</td>\n",
       "      <td>37.545392</td>\n",
       "      <td>127.084795</td>\n",
       "      <td>200</td>\n",
       "      <td>31.70</td>\n",
       "      <td>23분23초</td>\n",
       "      <td>2024-02-29</td>\n",
       "      <td>23:48:23</td>\n",
       "      <td>00:11:46</td>\n",
       "    </tr>\n",
       "    <tr>\n",
       "      <th>2</th>\n",
       "      <td>3</td>\n",
       "      <td>급속</td>\n",
       "      <td>홍제1동 제1공영주차장</td>\n",
       "      <td>서울 서대문구 홍제내2바길 18(이안휴빌A동)</td>\n",
       "      <td>37.584940</td>\n",
       "      <td>126.937523</td>\n",
       "      <td>100</td>\n",
       "      <td>50.45</td>\n",
       "      <td>1시간37분4초</td>\n",
       "      <td>2024-02-29</td>\n",
       "      <td>23:45:51</td>\n",
       "      <td>01:22:55</td>\n",
       "    </tr>\n",
       "    <tr>\n",
       "      <th>3</th>\n",
       "      <td>4</td>\n",
       "      <td>급속</td>\n",
       "      <td>양재솔라스테이션</td>\n",
       "      <td>서울 서초구 바우뫼로12길 73(현대기아차 그린에너지 스테이션)</td>\n",
       "      <td>37.467922</td>\n",
       "      <td>127.034738</td>\n",
       "      <td>100</td>\n",
       "      <td>17.38</td>\n",
       "      <td>22분22초</td>\n",
       "      <td>2024-02-29</td>\n",
       "      <td>23:36:17</td>\n",
       "      <td>23:58:39</td>\n",
       "    </tr>\n",
       "    <tr>\n",
       "      <th>4</th>\n",
       "      <td>5</td>\n",
       "      <td>급속</td>\n",
       "      <td>어린이대공원 구의문 주차장 복합충전소</td>\n",
       "      <td>서울 광진구 능동로 216(어린이대공원)</td>\n",
       "      <td>37.545392</td>\n",
       "      <td>127.084795</td>\n",
       "      <td>200</td>\n",
       "      <td>12.44</td>\n",
       "      <td>22분0초</td>\n",
       "      <td>2024-02-29</td>\n",
       "      <td>23:34:17</td>\n",
       "      <td>23:56:17</td>\n",
       "    </tr>\n",
       "  </tbody>\n",
       "</table>\n",
       "</div>"
      ],
      "text/plain": [
       "   연번 충전구분                  충전소명                                   주소  \\\n",
       "0   1   급속    훈련원공원 노상공영주차장(가로등)                 서울 중구 을지로 227(훈련원공원)   \n",
       "1   2   급속  어린이대공원 구의문 주차장 복합충전소               서울 광진구 능동로 216(어린이대공원)   \n",
       "2   3   급속          홍제1동 제1공영주차장            서울 서대문구 홍제내2바길 18(이안휴빌A동)   \n",
       "3   4   급속              양재솔라스테이션  서울 서초구 바우뫼로12길 73(현대기아차 그린에너지 스테이션)   \n",
       "4   5   급속  어린이대공원 구의문 주차장 복합충전소               서울 광진구 능동로 216(어린이대공원)   \n",
       "\n",
       "          위도          경도  충전기 최대용량  충전량(kWh)      충전시간        충전날짜    충전시작시간  \\\n",
       "0  37.567078  127.004601        50     13.29    44분26초  2024-02-29  23:51:03   \n",
       "1  37.545392  127.084795       200     31.70    23분23초  2024-02-29  23:48:23   \n",
       "2  37.584940  126.937523       100     50.45  1시간37분4초  2024-02-29  23:45:51   \n",
       "3  37.467922  127.034738       100     17.38    22분22초  2024-02-29  23:36:17   \n",
       "4  37.545392  127.084795       200     12.44     22분0초  2024-02-29  23:34:17   \n",
       "\n",
       "     충전종료시간  \n",
       "0  00:35:29  \n",
       "1  00:11:46  \n",
       "2  01:22:55  \n",
       "3  23:58:39  \n",
       "4  23:56:17  "
      ]
     },
     "execution_count": 5,
     "metadata": {},
     "output_type": "execute_result"
    }
   ],
   "source": [
    "df_1.head()"
   ]
  },
  {
   "cell_type": "code",
   "execution_count": 6,
   "metadata": {},
   "outputs": [],
   "source": [
    "#시간에 날짜 더하기\n",
    "df_1['충전시작시간'] = df_1['충전날짜'] + ' ' + df_1['충전시작시간']\n",
    "df_1['충전종료시간'] = df_1['충전날짜'] + ' ' + df_1['충전종료시간']"
   ]
  },
  {
   "cell_type": "code",
   "execution_count": 7,
   "metadata": {},
   "outputs": [],
   "source": [
    "#날짜 변환\n",
    "df_1['충전날짜'] = pd.to_datetime(df_1['충전날짜'], format='%Y-%m-%d')\n",
    "df_1['충전시작시간'] = pd.to_datetime(df_1['충전시작시간'], format='%Y-%m-%d %H:%M:%S', errors='coerce')\n",
    "df_1['충전종료시간'] = pd.to_datetime(df_1['충전종료시간'], format='%Y-%m-%d %H:%M:%S', errors='coerce')"
   ]
  },
  {
   "cell_type": "code",
   "execution_count": 8,
   "metadata": {},
   "outputs": [
    {
     "data": {
      "text/html": [
       "<div>\n",
       "<style scoped>\n",
       "    .dataframe tbody tr th:only-of-type {\n",
       "        vertical-align: middle;\n",
       "    }\n",
       "\n",
       "    .dataframe tbody tr th {\n",
       "        vertical-align: top;\n",
       "    }\n",
       "\n",
       "    .dataframe thead th {\n",
       "        text-align: right;\n",
       "    }\n",
       "</style>\n",
       "<table border=\"1\" class=\"dataframe\">\n",
       "  <thead>\n",
       "    <tr style=\"text-align: right;\">\n",
       "      <th></th>\n",
       "      <th>순번</th>\n",
       "      <th>충전구분</th>\n",
       "      <th>충전소명</th>\n",
       "      <th>주소</th>\n",
       "      <th>충전기 최대 용량</th>\n",
       "      <th>충전량(kWh)</th>\n",
       "      <th>충전시간</th>\n",
       "      <th>날짜</th>\n",
       "      <th>충전시작시간</th>\n",
       "      <th>충전종료시간</th>\n",
       "    </tr>\n",
       "  </thead>\n",
       "  <tbody>\n",
       "    <tr>\n",
       "      <th>0</th>\n",
       "      <td>1</td>\n",
       "      <td>완속</td>\n",
       "      <td>서울시 본관청사</td>\n",
       "      <td>중구 세종대로 110</td>\n",
       "      <td>7</td>\n",
       "      <td>0.000</td>\n",
       "      <td>2분</td>\n",
       "      <td>2022-01-19</td>\n",
       "      <td>14:09</td>\n",
       "      <td>14:10</td>\n",
       "    </tr>\n",
       "    <tr>\n",
       "      <th>1</th>\n",
       "      <td>2</td>\n",
       "      <td>급속</td>\n",
       "      <td>양재솔라스테이션</td>\n",
       "      <td>서초구 양재동 201-1</td>\n",
       "      <td>100</td>\n",
       "      <td>4.116</td>\n",
       "      <td>17분</td>\n",
       "      <td>2022-01-19</td>\n",
       "      <td>13:54</td>\n",
       "      <td>14:10</td>\n",
       "    </tr>\n",
       "    <tr>\n",
       "      <th>2</th>\n",
       "      <td>3</td>\n",
       "      <td>급속</td>\n",
       "      <td>서울시 본관청사</td>\n",
       "      <td>중구 세종대로 110</td>\n",
       "      <td>100</td>\n",
       "      <td>2.320</td>\n",
       "      <td>16분</td>\n",
       "      <td>2022-01-19</td>\n",
       "      <td>13:53</td>\n",
       "      <td>14:08</td>\n",
       "    </tr>\n",
       "    <tr>\n",
       "      <th>3</th>\n",
       "      <td>4</td>\n",
       "      <td>급속</td>\n",
       "      <td>동작구청</td>\n",
       "      <td>동작구 장승배기로 161</td>\n",
       "      <td>50</td>\n",
       "      <td>8.298</td>\n",
       "      <td>19분</td>\n",
       "      <td>2022-01-19</td>\n",
       "      <td>13:51</td>\n",
       "      <td>14:10</td>\n",
       "    </tr>\n",
       "    <tr>\n",
       "      <th>4</th>\n",
       "      <td>5</td>\n",
       "      <td>급속</td>\n",
       "      <td>서울시 본관청사</td>\n",
       "      <td>중구 세종대로 110</td>\n",
       "      <td>100</td>\n",
       "      <td>12.760</td>\n",
       "      <td>23분</td>\n",
       "      <td>2022-01-19</td>\n",
       "      <td>13:47</td>\n",
       "      <td>14:10</td>\n",
       "    </tr>\n",
       "  </tbody>\n",
       "</table>\n",
       "</div>"
      ],
      "text/plain": [
       "   순번 충전구분      충전소명             주소  충전기 최대 용량  충전량(kWh) 충전시간          날짜  \\\n",
       "0   1   완속  서울시 본관청사    중구 세종대로 110          7     0.000   2분  2022-01-19   \n",
       "1   2   급속  양재솔라스테이션  서초구 양재동 201-1        100     4.116  17분  2022-01-19   \n",
       "2   3   급속  서울시 본관청사    중구 세종대로 110        100     2.320  16분  2022-01-19   \n",
       "3   4   급속      동작구청  동작구 장승배기로 161         50     8.298  19분  2022-01-19   \n",
       "4   5   급속  서울시 본관청사    중구 세종대로 110        100    12.760  23분  2022-01-19   \n",
       "\n",
       "  충전시작시간 충전종료시간  \n",
       "0  14:09  14:10  \n",
       "1  13:54  14:10  \n",
       "2  13:53  14:08  \n",
       "3  13:51  14:10  \n",
       "4  13:47  14:10  "
      ]
     },
     "execution_count": 8,
     "metadata": {},
     "output_type": "execute_result"
    }
   ],
   "source": [
    "df_2.head()"
   ]
  },
  {
   "cell_type": "code",
   "execution_count": 9,
   "metadata": {},
   "outputs": [
    {
     "data": {
      "text/html": [
       "<div>\n",
       "<style scoped>\n",
       "    .dataframe tbody tr th:only-of-type {\n",
       "        vertical-align: middle;\n",
       "    }\n",
       "\n",
       "    .dataframe tbody tr th {\n",
       "        vertical-align: top;\n",
       "    }\n",
       "\n",
       "    .dataframe thead th {\n",
       "        text-align: right;\n",
       "    }\n",
       "</style>\n",
       "<table border=\"1\" class=\"dataframe\">\n",
       "  <thead>\n",
       "    <tr style=\"text-align: right;\">\n",
       "      <th></th>\n",
       "      <th>충전구분</th>\n",
       "      <th>충전소명</th>\n",
       "      <th>주소</th>\n",
       "      <th>충전량(kWh)</th>\n",
       "      <th>충전시간</th>\n",
       "      <th>충전시작시간</th>\n",
       "      <th>충전종료시간</th>\n",
       "      <th>충전날짜</th>\n",
       "      <th>충전기 최대용량</th>\n",
       "    </tr>\n",
       "  </thead>\n",
       "  <tbody>\n",
       "    <tr>\n",
       "      <th>0</th>\n",
       "      <td>완속</td>\n",
       "      <td>서울시 본관청사</td>\n",
       "      <td>중구 세종대로 110</td>\n",
       "      <td>0.000</td>\n",
       "      <td>2분</td>\n",
       "      <td>14:09</td>\n",
       "      <td>14:10</td>\n",
       "      <td>2022-01-19</td>\n",
       "      <td>7</td>\n",
       "    </tr>\n",
       "    <tr>\n",
       "      <th>1</th>\n",
       "      <td>급속</td>\n",
       "      <td>양재솔라스테이션</td>\n",
       "      <td>서초구 양재동 201-1</td>\n",
       "      <td>4.116</td>\n",
       "      <td>17분</td>\n",
       "      <td>13:54</td>\n",
       "      <td>14:10</td>\n",
       "      <td>2022-01-19</td>\n",
       "      <td>100</td>\n",
       "    </tr>\n",
       "    <tr>\n",
       "      <th>2</th>\n",
       "      <td>급속</td>\n",
       "      <td>서울시 본관청사</td>\n",
       "      <td>중구 세종대로 110</td>\n",
       "      <td>2.320</td>\n",
       "      <td>16분</td>\n",
       "      <td>13:53</td>\n",
       "      <td>14:08</td>\n",
       "      <td>2022-01-19</td>\n",
       "      <td>100</td>\n",
       "    </tr>\n",
       "    <tr>\n",
       "      <th>3</th>\n",
       "      <td>급속</td>\n",
       "      <td>동작구청</td>\n",
       "      <td>동작구 장승배기로 161</td>\n",
       "      <td>8.298</td>\n",
       "      <td>19분</td>\n",
       "      <td>13:51</td>\n",
       "      <td>14:10</td>\n",
       "      <td>2022-01-19</td>\n",
       "      <td>50</td>\n",
       "    </tr>\n",
       "    <tr>\n",
       "      <th>4</th>\n",
       "      <td>급속</td>\n",
       "      <td>서울시 본관청사</td>\n",
       "      <td>중구 세종대로 110</td>\n",
       "      <td>12.760</td>\n",
       "      <td>23분</td>\n",
       "      <td>13:47</td>\n",
       "      <td>14:10</td>\n",
       "      <td>2022-01-19</td>\n",
       "      <td>100</td>\n",
       "    </tr>\n",
       "  </tbody>\n",
       "</table>\n",
       "</div>"
      ],
      "text/plain": [
       "  충전구분      충전소명             주소  충전량(kWh) 충전시간 충전시작시간 충전종료시간        충전날짜  \\\n",
       "0   완속  서울시 본관청사    중구 세종대로 110     0.000   2분  14:09  14:10  2022-01-19   \n",
       "1   급속  양재솔라스테이션  서초구 양재동 201-1     4.116  17분  13:54  14:10  2022-01-19   \n",
       "2   급속  서울시 본관청사    중구 세종대로 110     2.320  16분  13:53  14:08  2022-01-19   \n",
       "3   급속      동작구청  동작구 장승배기로 161     8.298  19분  13:51  14:10  2022-01-19   \n",
       "4   급속  서울시 본관청사    중구 세종대로 110    12.760  23분  13:47  14:10  2022-01-19   \n",
       "\n",
       "   충전기 최대용량  \n",
       "0         7  \n",
       "1       100  \n",
       "2       100  \n",
       "3        50  \n",
       "4       100  "
      ]
     },
     "execution_count": 9,
     "metadata": {},
     "output_type": "execute_result"
    }
   ],
   "source": [
    "#두 데이터프레임 컬럼명 동일하게\n",
    "df_2['충전날짜'] = df_2['날짜']\n",
    "df_2 = df_2.drop('날짜', axis=1)\n",
    "df_2['충전기 최대용량'] = df_2['충전기 최대 용량']\n",
    "df_2 = df_2.drop('충전기 최대 용량', axis=1)\n",
    "df_1 = df_1.drop('연번', axis=1)\n",
    "df_2 = df_2.drop('순번', axis=1)\n",
    "df_2.head()"
   ]
  },
  {
   "cell_type": "code",
   "execution_count": 10,
   "metadata": {},
   "outputs": [],
   "source": [
    "#시간에 날짜 더하기\n",
    "df_2['충전시작시간'] = df_2['충전날짜'] + ' ' + df_2['충전시작시간']\n",
    "df_2['충전종료시간'] = df_2['충전날짜'] + ' ' + df_2['충전종료시간']"
   ]
  },
  {
   "cell_type": "code",
   "execution_count": 11,
   "metadata": {},
   "outputs": [],
   "source": [
    "#날짜 변환\n",
    "df_2['충전날짜'] = pd.to_datetime(df_2['충전날짜'], format='%Y-%m-%d')\n",
    "df_2['충전시작시간'] = pd.to_datetime(df_2['충전시작시간'], format='%Y-%m-%d %H:%M', errors='coerce')\n",
    "df_2['충전종료시간'] = pd.to_datetime(df_2['충전종료시간'], format='%Y-%m-%d %H:%M', errors='coerce')"
   ]
  },
  {
   "cell_type": "code",
   "execution_count": 12,
   "metadata": {},
   "outputs": [],
   "source": [
    "#데이터 병합\n",
    "df = pd.concat([df_1,df_2])"
   ]
  },
  {
   "cell_type": "code",
   "execution_count": 13,
   "metadata": {},
   "outputs": [
    {
     "data": {
      "text/html": [
       "<div>\n",
       "<style scoped>\n",
       "    .dataframe tbody tr th:only-of-type {\n",
       "        vertical-align: middle;\n",
       "    }\n",
       "\n",
       "    .dataframe tbody tr th {\n",
       "        vertical-align: top;\n",
       "    }\n",
       "\n",
       "    .dataframe thead th {\n",
       "        text-align: right;\n",
       "    }\n",
       "</style>\n",
       "<table border=\"1\" class=\"dataframe\">\n",
       "  <thead>\n",
       "    <tr style=\"text-align: right;\">\n",
       "      <th></th>\n",
       "      <th>충전구분</th>\n",
       "      <th>충전소명</th>\n",
       "      <th>주소</th>\n",
       "      <th>위도</th>\n",
       "      <th>경도</th>\n",
       "      <th>충전기 최대용량</th>\n",
       "      <th>충전량(kWh)</th>\n",
       "      <th>충전시간</th>\n",
       "      <th>충전날짜</th>\n",
       "      <th>충전시작시간</th>\n",
       "      <th>충전종료시간</th>\n",
       "    </tr>\n",
       "  </thead>\n",
       "  <tbody>\n",
       "    <tr>\n",
       "      <th>0</th>\n",
       "      <td>급속</td>\n",
       "      <td>훈련원공원 노상공영주차장(가로등)</td>\n",
       "      <td>서울 중구 을지로 227(훈련원공원)</td>\n",
       "      <td>37.567078</td>\n",
       "      <td>127.004601</td>\n",
       "      <td>50</td>\n",
       "      <td>13.29</td>\n",
       "      <td>44분26초</td>\n",
       "      <td>2024-02-29</td>\n",
       "      <td>2024-02-29 23:51:03</td>\n",
       "      <td>2024-02-29 00:35:29</td>\n",
       "    </tr>\n",
       "    <tr>\n",
       "      <th>1</th>\n",
       "      <td>급속</td>\n",
       "      <td>어린이대공원 구의문 주차장 복합충전소</td>\n",
       "      <td>서울 광진구 능동로 216(어린이대공원)</td>\n",
       "      <td>37.545392</td>\n",
       "      <td>127.084795</td>\n",
       "      <td>200</td>\n",
       "      <td>31.70</td>\n",
       "      <td>23분23초</td>\n",
       "      <td>2024-02-29</td>\n",
       "      <td>2024-02-29 23:48:23</td>\n",
       "      <td>2024-02-29 00:11:46</td>\n",
       "    </tr>\n",
       "    <tr>\n",
       "      <th>2</th>\n",
       "      <td>급속</td>\n",
       "      <td>홍제1동 제1공영주차장</td>\n",
       "      <td>서울 서대문구 홍제내2바길 18(이안휴빌A동)</td>\n",
       "      <td>37.584940</td>\n",
       "      <td>126.937523</td>\n",
       "      <td>100</td>\n",
       "      <td>50.45</td>\n",
       "      <td>1시간37분4초</td>\n",
       "      <td>2024-02-29</td>\n",
       "      <td>2024-02-29 23:45:51</td>\n",
       "      <td>2024-02-29 01:22:55</td>\n",
       "    </tr>\n",
       "    <tr>\n",
       "      <th>3</th>\n",
       "      <td>급속</td>\n",
       "      <td>양재솔라스테이션</td>\n",
       "      <td>서울 서초구 바우뫼로12길 73(현대기아차 그린에너지 스테이션)</td>\n",
       "      <td>37.467922</td>\n",
       "      <td>127.034738</td>\n",
       "      <td>100</td>\n",
       "      <td>17.38</td>\n",
       "      <td>22분22초</td>\n",
       "      <td>2024-02-29</td>\n",
       "      <td>2024-02-29 23:36:17</td>\n",
       "      <td>2024-02-29 23:58:39</td>\n",
       "    </tr>\n",
       "    <tr>\n",
       "      <th>4</th>\n",
       "      <td>급속</td>\n",
       "      <td>어린이대공원 구의문 주차장 복합충전소</td>\n",
       "      <td>서울 광진구 능동로 216(어린이대공원)</td>\n",
       "      <td>37.545392</td>\n",
       "      <td>127.084795</td>\n",
       "      <td>200</td>\n",
       "      <td>12.44</td>\n",
       "      <td>22분0초</td>\n",
       "      <td>2024-02-29</td>\n",
       "      <td>2024-02-29 23:34:17</td>\n",
       "      <td>2024-02-29 23:56:17</td>\n",
       "    </tr>\n",
       "  </tbody>\n",
       "</table>\n",
       "</div>"
      ],
      "text/plain": [
       "  충전구분                  충전소명                                   주소         위도  \\\n",
       "0   급속    훈련원공원 노상공영주차장(가로등)                 서울 중구 을지로 227(훈련원공원)  37.567078   \n",
       "1   급속  어린이대공원 구의문 주차장 복합충전소               서울 광진구 능동로 216(어린이대공원)  37.545392   \n",
       "2   급속          홍제1동 제1공영주차장            서울 서대문구 홍제내2바길 18(이안휴빌A동)  37.584940   \n",
       "3   급속              양재솔라스테이션  서울 서초구 바우뫼로12길 73(현대기아차 그린에너지 스테이션)  37.467922   \n",
       "4   급속  어린이대공원 구의문 주차장 복합충전소               서울 광진구 능동로 216(어린이대공원)  37.545392   \n",
       "\n",
       "           경도  충전기 최대용량  충전량(kWh)      충전시간       충전날짜              충전시작시간  \\\n",
       "0  127.004601        50     13.29    44분26초 2024-02-29 2024-02-29 23:51:03   \n",
       "1  127.084795       200     31.70    23분23초 2024-02-29 2024-02-29 23:48:23   \n",
       "2  126.937523       100     50.45  1시간37분4초 2024-02-29 2024-02-29 23:45:51   \n",
       "3  127.034738       100     17.38    22분22초 2024-02-29 2024-02-29 23:36:17   \n",
       "4  127.084795       200     12.44     22분0초 2024-02-29 2024-02-29 23:34:17   \n",
       "\n",
       "               충전종료시간  \n",
       "0 2024-02-29 00:35:29  \n",
       "1 2024-02-29 00:11:46  \n",
       "2 2024-02-29 01:22:55  \n",
       "3 2024-02-29 23:58:39  \n",
       "4 2024-02-29 23:56:17  "
      ]
     },
     "execution_count": 13,
     "metadata": {},
     "output_type": "execute_result"
    }
   ],
   "source": [
    "df.head()"
   ]
  },
  {
   "cell_type": "code",
   "execution_count": 14,
   "metadata": {},
   "outputs": [],
   "source": [
    "#컬럼 재배치\n",
    "df = df[['충전소명', '주소', '위도', '경도', '충전구분', '충전기 최대용량', '충전날짜', '충전시간', '충전시작시간', '충전종료시간', '충전량(kWh)']]\n",
    "\n",
    "#정렬\n",
    "df = df.sort_values([\"충전소명\", \"충전구분\", \"충전날짜\"], ascending=True)"
   ]
  },
  {
   "cell_type": "code",
   "execution_count": 15,
   "metadata": {},
   "outputs": [],
   "source": [
    "#인덱스 제거\n",
    "#df = df.set_index('충전소명')\n",
    "\n",
    "#인덱스 재설정\n",
    "df = df.reset_index()\n",
    "df = df.drop('index', axis=1)\n",
    "\n",
    "#df.set_index(['충전소명', '주소', '위도', '경도', '충전구분', '충전기 최대용량', '충전날짜'], inplace=True)"
   ]
  },
  {
   "cell_type": "code",
   "execution_count": 16,
   "metadata": {},
   "outputs": [
    {
     "name": "stdout",
     "output_type": "stream",
     "text": [
      "<class 'pandas.core.frame.DataFrame'>\n",
      "RangeIndex: 174480 entries, 0 to 174479\n",
      "Data columns (total 11 columns):\n",
      " #   Column    Non-Null Count   Dtype         \n",
      "---  ------    --------------   -----         \n",
      " 0   충전소명      174480 non-null  object        \n",
      " 1   주소        174480 non-null  object        \n",
      " 2   위도        144509 non-null  float64       \n",
      " 3   경도        144509 non-null  float64       \n",
      " 4   충전구분      174480 non-null  object        \n",
      " 5   충전기 최대용량  174480 non-null  int64         \n",
      " 6   충전날짜      174480 non-null  datetime64[ns]\n",
      " 7   충전시간      174480 non-null  object        \n",
      " 8   충전시작시간    174312 non-null  datetime64[ns]\n",
      " 9   충전종료시간    174312 non-null  datetime64[ns]\n",
      " 10  충전량(kWh)  174480 non-null  float64       \n",
      "dtypes: datetime64[ns](3), float64(3), int64(1), object(4)\n",
      "memory usage: 14.6+ MB\n"
     ]
    }
   ],
   "source": [
    "df.info()"
   ]
  },
  {
   "cell_type": "code",
   "execution_count": 17,
   "metadata": {},
   "outputs": [],
   "source": [
    "#종료시간 자정넘기면 1일 추가\n",
    "df['diff'] = df['충전종료시간'] - df['충전시작시간']\n",
    "#int 변환\n",
    "df['diff'] = df['diff'].dt.days\n",
    "df['충전종료시간'] = np.where(df['diff'] < 0, pd.DatetimeIndex(df['충전종료시간']) + timedelta(days=1), df['충전종료시간'])"
   ]
  },
  {
   "cell_type": "code",
   "execution_count": 18,
   "metadata": {},
   "outputs": [
    {
     "data": {
      "text/html": [
       "<div>\n",
       "<style scoped>\n",
       "    .dataframe tbody tr th:only-of-type {\n",
       "        vertical-align: middle;\n",
       "    }\n",
       "\n",
       "    .dataframe tbody tr th {\n",
       "        vertical-align: top;\n",
       "    }\n",
       "\n",
       "    .dataframe thead th {\n",
       "        text-align: right;\n",
       "    }\n",
       "</style>\n",
       "<table border=\"1\" class=\"dataframe\">\n",
       "  <thead>\n",
       "    <tr style=\"text-align: right;\">\n",
       "      <th></th>\n",
       "      <th>충전소명</th>\n",
       "      <th>주소</th>\n",
       "      <th>위도</th>\n",
       "      <th>경도</th>\n",
       "      <th>충전구분</th>\n",
       "      <th>충전기 최대용량</th>\n",
       "      <th>충전날짜</th>\n",
       "      <th>충전시간</th>\n",
       "      <th>충전시작시간</th>\n",
       "      <th>충전종료시간</th>\n",
       "      <th>충전량(kWh)</th>\n",
       "      <th>diff</th>\n",
       "    </tr>\n",
       "  </thead>\n",
       "  <tbody>\n",
       "    <tr>\n",
       "      <th>0</th>\n",
       "      <td>SK허브수 인근 거주자우선주차장 볼라드형 충전소</td>\n",
       "      <td>서울 구로구 구일로10길 27(SK허브수) 옥외주차장</td>\n",
       "      <td>37.49594</td>\n",
       "      <td>126.872267</td>\n",
       "      <td>완속</td>\n",
       "      <td>7</td>\n",
       "      <td>2022-04-13</td>\n",
       "      <td>2시간3분</td>\n",
       "      <td>2022-04-13 13:00:00</td>\n",
       "      <td>2022-04-13 15:03:00</td>\n",
       "      <td>13.67</td>\n",
       "      <td>0.0</td>\n",
       "    </tr>\n",
       "    <tr>\n",
       "      <th>1</th>\n",
       "      <td>SK허브수 인근 거주자우선주차장 볼라드형 충전소</td>\n",
       "      <td>서울 구로구 구일로10길 27(SK허브수) 옥외주차장</td>\n",
       "      <td>37.49594</td>\n",
       "      <td>126.872267</td>\n",
       "      <td>완속</td>\n",
       "      <td>7</td>\n",
       "      <td>2022-04-16</td>\n",
       "      <td>42분</td>\n",
       "      <td>2022-04-16 14:35:00</td>\n",
       "      <td>2022-04-16 15:16:00</td>\n",
       "      <td>4.64</td>\n",
       "      <td>0.0</td>\n",
       "    </tr>\n",
       "    <tr>\n",
       "      <th>2</th>\n",
       "      <td>SK허브수 인근 거주자우선주차장 볼라드형 충전소</td>\n",
       "      <td>서울 구로구 구일로10길 27(SK허브수) 옥외주차장</td>\n",
       "      <td>37.49594</td>\n",
       "      <td>126.872267</td>\n",
       "      <td>완속</td>\n",
       "      <td>7</td>\n",
       "      <td>2022-04-16</td>\n",
       "      <td>2시간27분</td>\n",
       "      <td>2022-04-16 12:37:00</td>\n",
       "      <td>2022-04-16 15:04:00</td>\n",
       "      <td>16.45</td>\n",
       "      <td>0.0</td>\n",
       "    </tr>\n",
       "    <tr>\n",
       "      <th>3</th>\n",
       "      <td>SK허브수 인근 거주자우선주차장 볼라드형 충전소</td>\n",
       "      <td>서울 구로구 구일로10길 27(SK허브수) 옥외주차장</td>\n",
       "      <td>37.49594</td>\n",
       "      <td>126.872267</td>\n",
       "      <td>완속</td>\n",
       "      <td>7</td>\n",
       "      <td>2022-04-17</td>\n",
       "      <td>2시간40분</td>\n",
       "      <td>2022-04-17 01:54:00</td>\n",
       "      <td>2022-04-17 04:34:00</td>\n",
       "      <td>15.53</td>\n",
       "      <td>0.0</td>\n",
       "    </tr>\n",
       "    <tr>\n",
       "      <th>4</th>\n",
       "      <td>SK허브수 인근 거주자우선주차장 볼라드형 충전소</td>\n",
       "      <td>서울 구로구 구일로10길 27(SK허브수) 옥외주차장</td>\n",
       "      <td>37.49594</td>\n",
       "      <td>126.872267</td>\n",
       "      <td>완속</td>\n",
       "      <td>7</td>\n",
       "      <td>2022-04-18</td>\n",
       "      <td>4시간55분</td>\n",
       "      <td>2022-04-18 19:48:00</td>\n",
       "      <td>2022-04-19 00:43:00</td>\n",
       "      <td>33.78</td>\n",
       "      <td>-1.0</td>\n",
       "    </tr>\n",
       "  </tbody>\n",
       "</table>\n",
       "</div>"
      ],
      "text/plain": [
       "                         충전소명                             주소        위도  \\\n",
       "0  SK허브수 인근 거주자우선주차장 볼라드형 충전소  서울 구로구 구일로10길 27(SK허브수) 옥외주차장  37.49594   \n",
       "1  SK허브수 인근 거주자우선주차장 볼라드형 충전소  서울 구로구 구일로10길 27(SK허브수) 옥외주차장  37.49594   \n",
       "2  SK허브수 인근 거주자우선주차장 볼라드형 충전소  서울 구로구 구일로10길 27(SK허브수) 옥외주차장  37.49594   \n",
       "3  SK허브수 인근 거주자우선주차장 볼라드형 충전소  서울 구로구 구일로10길 27(SK허브수) 옥외주차장  37.49594   \n",
       "4  SK허브수 인근 거주자우선주차장 볼라드형 충전소  서울 구로구 구일로10길 27(SK허브수) 옥외주차장  37.49594   \n",
       "\n",
       "           경도 충전구분  충전기 최대용량       충전날짜    충전시간              충전시작시간  \\\n",
       "0  126.872267   완속         7 2022-04-13   2시간3분 2022-04-13 13:00:00   \n",
       "1  126.872267   완속         7 2022-04-16     42분 2022-04-16 14:35:00   \n",
       "2  126.872267   완속         7 2022-04-16  2시간27분 2022-04-16 12:37:00   \n",
       "3  126.872267   완속         7 2022-04-17  2시간40분 2022-04-17 01:54:00   \n",
       "4  126.872267   완속         7 2022-04-18  4시간55분 2022-04-18 19:48:00   \n",
       "\n",
       "               충전종료시간  충전량(kWh)  diff  \n",
       "0 2022-04-13 15:03:00     13.67   0.0  \n",
       "1 2022-04-16 15:16:00      4.64   0.0  \n",
       "2 2022-04-16 15:04:00     16.45   0.0  \n",
       "3 2022-04-17 04:34:00     15.53   0.0  \n",
       "4 2022-04-19 00:43:00     33.78  -1.0  "
      ]
     },
     "execution_count": 18,
     "metadata": {},
     "output_type": "execute_result"
    }
   ],
   "source": [
    "df.head()"
   ]
  },
  {
   "cell_type": "markdown",
   "metadata": {},
   "source": [
    "### EDA"
   ]
  },
  {
   "cell_type": "markdown",
   "metadata": {},
   "source": [
    "**1.시간대 별 충전 이용 현황**"
   ]
  },
  {
   "cell_type": "code",
   "execution_count": 19,
   "metadata": {},
   "outputs": [
    {
     "data": {
      "text/html": [
       "<div>\n",
       "<style scoped>\n",
       "    .dataframe tbody tr th:only-of-type {\n",
       "        vertical-align: middle;\n",
       "    }\n",
       "\n",
       "    .dataframe tbody tr th {\n",
       "        vertical-align: top;\n",
       "    }\n",
       "\n",
       "    .dataframe thead th {\n",
       "        text-align: right;\n",
       "    }\n",
       "</style>\n",
       "<table border=\"1\" class=\"dataframe\">\n",
       "  <thead>\n",
       "    <tr style=\"text-align: right;\">\n",
       "      <th></th>\n",
       "      <th>충전소명</th>\n",
       "      <th>주소</th>\n",
       "      <th>위도</th>\n",
       "      <th>경도</th>\n",
       "      <th>충전구분</th>\n",
       "      <th>충전기 최대용량</th>\n",
       "      <th>충전날짜</th>\n",
       "      <th>충전시간</th>\n",
       "      <th>충전시작시간</th>\n",
       "      <th>충전종료시간</th>\n",
       "      <th>충전량(kWh)</th>\n",
       "      <th>diff</th>\n",
       "      <th>hour</th>\n",
       "    </tr>\n",
       "  </thead>\n",
       "  <tbody>\n",
       "    <tr>\n",
       "      <th>0</th>\n",
       "      <td>SK허브수 인근 거주자우선주차장 볼라드형 충전소</td>\n",
       "      <td>서울 구로구 구일로10길 27(SK허브수) 옥외주차장</td>\n",
       "      <td>37.49594</td>\n",
       "      <td>126.872267</td>\n",
       "      <td>완속</td>\n",
       "      <td>7</td>\n",
       "      <td>2022-04-13</td>\n",
       "      <td>2시간3분</td>\n",
       "      <td>2022-04-13 13:00:00</td>\n",
       "      <td>2022-04-13 15:03:00</td>\n",
       "      <td>13.67</td>\n",
       "      <td>0.0</td>\n",
       "      <td>13.0</td>\n",
       "    </tr>\n",
       "    <tr>\n",
       "      <th>1</th>\n",
       "      <td>SK허브수 인근 거주자우선주차장 볼라드형 충전소</td>\n",
       "      <td>서울 구로구 구일로10길 27(SK허브수) 옥외주차장</td>\n",
       "      <td>37.49594</td>\n",
       "      <td>126.872267</td>\n",
       "      <td>완속</td>\n",
       "      <td>7</td>\n",
       "      <td>2022-04-16</td>\n",
       "      <td>42분</td>\n",
       "      <td>2022-04-16 14:35:00</td>\n",
       "      <td>2022-04-16 15:16:00</td>\n",
       "      <td>4.64</td>\n",
       "      <td>0.0</td>\n",
       "      <td>14.0</td>\n",
       "    </tr>\n",
       "    <tr>\n",
       "      <th>2</th>\n",
       "      <td>SK허브수 인근 거주자우선주차장 볼라드형 충전소</td>\n",
       "      <td>서울 구로구 구일로10길 27(SK허브수) 옥외주차장</td>\n",
       "      <td>37.49594</td>\n",
       "      <td>126.872267</td>\n",
       "      <td>완속</td>\n",
       "      <td>7</td>\n",
       "      <td>2022-04-16</td>\n",
       "      <td>2시간27분</td>\n",
       "      <td>2022-04-16 12:37:00</td>\n",
       "      <td>2022-04-16 15:04:00</td>\n",
       "      <td>16.45</td>\n",
       "      <td>0.0</td>\n",
       "      <td>12.0</td>\n",
       "    </tr>\n",
       "    <tr>\n",
       "      <th>3</th>\n",
       "      <td>SK허브수 인근 거주자우선주차장 볼라드형 충전소</td>\n",
       "      <td>서울 구로구 구일로10길 27(SK허브수) 옥외주차장</td>\n",
       "      <td>37.49594</td>\n",
       "      <td>126.872267</td>\n",
       "      <td>완속</td>\n",
       "      <td>7</td>\n",
       "      <td>2022-04-17</td>\n",
       "      <td>2시간40분</td>\n",
       "      <td>2022-04-17 01:54:00</td>\n",
       "      <td>2022-04-17 04:34:00</td>\n",
       "      <td>15.53</td>\n",
       "      <td>0.0</td>\n",
       "      <td>1.0</td>\n",
       "    </tr>\n",
       "    <tr>\n",
       "      <th>4</th>\n",
       "      <td>SK허브수 인근 거주자우선주차장 볼라드형 충전소</td>\n",
       "      <td>서울 구로구 구일로10길 27(SK허브수) 옥외주차장</td>\n",
       "      <td>37.49594</td>\n",
       "      <td>126.872267</td>\n",
       "      <td>완속</td>\n",
       "      <td>7</td>\n",
       "      <td>2022-04-18</td>\n",
       "      <td>4시간55분</td>\n",
       "      <td>2022-04-18 19:48:00</td>\n",
       "      <td>2022-04-19 00:43:00</td>\n",
       "      <td>33.78</td>\n",
       "      <td>-1.0</td>\n",
       "      <td>19.0</td>\n",
       "    </tr>\n",
       "  </tbody>\n",
       "</table>\n",
       "</div>"
      ],
      "text/plain": [
       "                         충전소명                             주소        위도  \\\n",
       "0  SK허브수 인근 거주자우선주차장 볼라드형 충전소  서울 구로구 구일로10길 27(SK허브수) 옥외주차장  37.49594   \n",
       "1  SK허브수 인근 거주자우선주차장 볼라드형 충전소  서울 구로구 구일로10길 27(SK허브수) 옥외주차장  37.49594   \n",
       "2  SK허브수 인근 거주자우선주차장 볼라드형 충전소  서울 구로구 구일로10길 27(SK허브수) 옥외주차장  37.49594   \n",
       "3  SK허브수 인근 거주자우선주차장 볼라드형 충전소  서울 구로구 구일로10길 27(SK허브수) 옥외주차장  37.49594   \n",
       "4  SK허브수 인근 거주자우선주차장 볼라드형 충전소  서울 구로구 구일로10길 27(SK허브수) 옥외주차장  37.49594   \n",
       "\n",
       "           경도 충전구분  충전기 최대용량       충전날짜    충전시간              충전시작시간  \\\n",
       "0  126.872267   완속         7 2022-04-13   2시간3분 2022-04-13 13:00:00   \n",
       "1  126.872267   완속         7 2022-04-16     42분 2022-04-16 14:35:00   \n",
       "2  126.872267   완속         7 2022-04-16  2시간27분 2022-04-16 12:37:00   \n",
       "3  126.872267   완속         7 2022-04-17  2시간40분 2022-04-17 01:54:00   \n",
       "4  126.872267   완속         7 2022-04-18  4시간55분 2022-04-18 19:48:00   \n",
       "\n",
       "               충전종료시간  충전량(kWh)  diff  hour  \n",
       "0 2022-04-13 15:03:00     13.67   0.0  13.0  \n",
       "1 2022-04-16 15:16:00      4.64   0.0  14.0  \n",
       "2 2022-04-16 15:04:00     16.45   0.0  12.0  \n",
       "3 2022-04-17 04:34:00     15.53   0.0   1.0  \n",
       "4 2022-04-19 00:43:00     33.78  -1.0  19.0  "
      ]
     },
     "execution_count": 19,
     "metadata": {},
     "output_type": "execute_result"
    }
   ],
   "source": [
    "#시간대 분석을 위해 시간 컬럼 생성\n",
    "df = df.assign(hour = df['충전시작시간'].dt.hour)\n",
    "df.head()"
   ]
  },
  {
   "cell_type": "code",
   "execution_count": 20,
   "metadata": {},
   "outputs": [
    {
     "data": {
      "text/html": [
       "<div>\n",
       "<style scoped>\n",
       "    .dataframe tbody tr th:only-of-type {\n",
       "        vertical-align: middle;\n",
       "    }\n",
       "\n",
       "    .dataframe tbody tr th {\n",
       "        vertical-align: top;\n",
       "    }\n",
       "\n",
       "    .dataframe thead th {\n",
       "        text-align: right;\n",
       "    }\n",
       "</style>\n",
       "<table border=\"1\" class=\"dataframe\">\n",
       "  <thead>\n",
       "    <tr style=\"text-align: right;\">\n",
       "      <th>충전구분</th>\n",
       "      <th>급속</th>\n",
       "      <th>완속</th>\n",
       "    </tr>\n",
       "    <tr>\n",
       "      <th>hour</th>\n",
       "      <th></th>\n",
       "      <th></th>\n",
       "    </tr>\n",
       "  </thead>\n",
       "  <tbody>\n",
       "    <tr>\n",
       "      <th>0.0</th>\n",
       "      <td>2808</td>\n",
       "      <td>157</td>\n",
       "    </tr>\n",
       "    <tr>\n",
       "      <th>1.0</th>\n",
       "      <td>3414</td>\n",
       "      <td>120</td>\n",
       "    </tr>\n",
       "    <tr>\n",
       "      <th>2.0</th>\n",
       "      <td>3915</td>\n",
       "      <td>143</td>\n",
       "    </tr>\n",
       "    <tr>\n",
       "      <th>3.0</th>\n",
       "      <td>3491</td>\n",
       "      <td>72</td>\n",
       "    </tr>\n",
       "    <tr>\n",
       "      <th>4.0</th>\n",
       "      <td>2985</td>\n",
       "      <td>35</td>\n",
       "    </tr>\n",
       "    <tr>\n",
       "      <th>5.0</th>\n",
       "      <td>3307</td>\n",
       "      <td>67</td>\n",
       "    </tr>\n",
       "    <tr>\n",
       "      <th>6.0</th>\n",
       "      <td>4109</td>\n",
       "      <td>513</td>\n",
       "    </tr>\n",
       "    <tr>\n",
       "      <th>7.0</th>\n",
       "      <td>5405</td>\n",
       "      <td>643</td>\n",
       "    </tr>\n",
       "    <tr>\n",
       "      <th>8.0</th>\n",
       "      <td>6521</td>\n",
       "      <td>1140</td>\n",
       "    </tr>\n",
       "    <tr>\n",
       "      <th>9.0</th>\n",
       "      <td>7213</td>\n",
       "      <td>1034</td>\n",
       "    </tr>\n",
       "    <tr>\n",
       "      <th>10.0</th>\n",
       "      <td>7856</td>\n",
       "      <td>1172</td>\n",
       "    </tr>\n",
       "    <tr>\n",
       "      <th>11.0</th>\n",
       "      <td>8857</td>\n",
       "      <td>1199</td>\n",
       "    </tr>\n",
       "    <tr>\n",
       "      <th>12.0</th>\n",
       "      <td>9499</td>\n",
       "      <td>1447</td>\n",
       "    </tr>\n",
       "    <tr>\n",
       "      <th>13.0</th>\n",
       "      <td>9604</td>\n",
       "      <td>1441</td>\n",
       "    </tr>\n",
       "    <tr>\n",
       "      <th>14.0</th>\n",
       "      <td>9726</td>\n",
       "      <td>1251</td>\n",
       "    </tr>\n",
       "    <tr>\n",
       "      <th>15.0</th>\n",
       "      <td>9807</td>\n",
       "      <td>1258</td>\n",
       "    </tr>\n",
       "    <tr>\n",
       "      <th>16.0</th>\n",
       "      <td>9882</td>\n",
       "      <td>1240</td>\n",
       "    </tr>\n",
       "    <tr>\n",
       "      <th>17.0</th>\n",
       "      <td>8949</td>\n",
       "      <td>1178</td>\n",
       "    </tr>\n",
       "    <tr>\n",
       "      <th>18.0</th>\n",
       "      <td>8502</td>\n",
       "      <td>1045</td>\n",
       "    </tr>\n",
       "    <tr>\n",
       "      <th>19.0</th>\n",
       "      <td>8842</td>\n",
       "      <td>678</td>\n",
       "    </tr>\n",
       "    <tr>\n",
       "      <th>20.0</th>\n",
       "      <td>8109</td>\n",
       "      <td>539</td>\n",
       "    </tr>\n",
       "    <tr>\n",
       "      <th>21.0</th>\n",
       "      <td>6386</td>\n",
       "      <td>375</td>\n",
       "    </tr>\n",
       "    <tr>\n",
       "      <th>22.0</th>\n",
       "      <td>4684</td>\n",
       "      <td>356</td>\n",
       "    </tr>\n",
       "    <tr>\n",
       "      <th>23.0</th>\n",
       "      <td>3096</td>\n",
       "      <td>242</td>\n",
       "    </tr>\n",
       "  </tbody>\n",
       "</table>\n",
       "</div>"
      ],
      "text/plain": [
       "충전구분    급속    완속\n",
       "hour            \n",
       "0.0   2808   157\n",
       "1.0   3414   120\n",
       "2.0   3915   143\n",
       "3.0   3491    72\n",
       "4.0   2985    35\n",
       "5.0   3307    67\n",
       "6.0   4109   513\n",
       "7.0   5405   643\n",
       "8.0   6521  1140\n",
       "9.0   7213  1034\n",
       "10.0  7856  1172\n",
       "11.0  8857  1199\n",
       "12.0  9499  1447\n",
       "13.0  9604  1441\n",
       "14.0  9726  1251\n",
       "15.0  9807  1258\n",
       "16.0  9882  1240\n",
       "17.0  8949  1178\n",
       "18.0  8502  1045\n",
       "19.0  8842   678\n",
       "20.0  8109   539\n",
       "21.0  6386   375\n",
       "22.0  4684   356\n",
       "23.0  3096   242"
      ]
     },
     "metadata": {},
     "output_type": "display_data"
    }
   ],
   "source": [
    "hour_count_df = df.groupby(['hour', '충전구분'])['충전소명'].count()\n",
    "hour_count_df = hour_count_df.unstack() #다중컬럼 해제\n",
    "display(hour_count_df)"
   ]
  },
  {
   "cell_type": "code",
   "execution_count": 21,
   "metadata": {},
   "outputs": [
    {
     "data": {
      "image/png": "[encoded data removed]",
      "text/plain": [
       "<Figure size 1000x500 with 1 Axes>"
      ]
     },
     "metadata": {},
     "output_type": "display_data"
    }
   ],
   "source": [
    "hour_count_df.plot(figsize=(10,5))\n",
    "plt.title('시간대 별 충전 이용 현황')\n",
    "plt.xticks(range(0,24,1))\n",
    "plt.show()"
   ]
  },
  {
   "cell_type": "code",
   "execution_count": 22,
   "metadata": {},
   "outputs": [
    {
     "data": {
      "application/vnd.plotly.v1+json": {
       "config": {
        "plotlyServerURL": "https://plot.ly"
       },
       "data": [
        {
         "hovertemplate": "충전구분=급속<br>hour=%{x}<br>value=%{y}<extra></extra>",
         "legendgroup": "급속",
         "line": {
          "color": "#636efa",
          "dash": "solid"
         },
         "marker": {
          "symbol": "circle"
         },
         "mode": "lines",
         "name": "급속",
         "orientation": "v",
         "showlegend": true,
         "type": "scatter",
         "x": [
          0,
          1,
          2,
          3,
          4,
          5,
          6,
          7,
          8,
          9,
          10,
          11,
          12,
          13,
          14,
          15,
          16,
          17,
          18,
          19,
          20,
          21,
          22,
          23
         ],
         "xaxis": "x",
         "y": [
          2808,
          3414,
          3915,
          3491,
          2985,
          3307,
          4109,
          5405,
          6521,
          7213,
          7856,
          8857,
          9499,
          9604,
          9726,
          9807,
          9882,
          8949,
          8502,
          8842,
          8109,
          6386,
          4684,
          3096
         ],
         "yaxis": "y"
        },
        {
         "hovertemplate": "충전구분=완속<br>hour=%{x}<br>value=%{y}<extra></extra>",
         "legendgroup": "완속",
         "line": {
          "color": "#EF553B",
          "dash": "solid"
         },
         "marker": {
          "symbol": "circle"
         },
         "mode": "lines",
         "name": "완속",
         "orientation": "v",
         "showlegend": true,
         "type": "scatter",
         "x": [
          0,
          1,
          2,
          3,
          4,
          5,
          6,
          7,
          8,
          9,
          10,
          11,
          12,
          13,
          14,
          15,
          16,
          17,
          18,
          19,
          20,
          21,
          22,
          23
         ],
         "xaxis": "x",
         "y": [
          157,
          120,
          143,
          72,
          35,
          67,
          513,
          643,
          1140,
          1034,
          1172,
          1199,
          1447,
          1441,
          1251,
          1258,
          1240,
          1178,
          1045,
          678,
          539,
          375,
          356,
          242
         ],
         "yaxis": "y"
        }
       ],
       "layout": {
        "legend": {
         "title": {
          "text": "충전구분"
         },
         "tracegroupgap": 0
        },
        "margin": {
         "t": 60
        },
        "template": {
         "data": {
          "bar": [
           {
            "error_x": {
             "color": "#2a3f5f"
            },
            "error_y": {
             "color": "#2a3f5f"
            },
            "marker": {
             "line": {
              "color": "#E5ECF6",
              "width": 0.5
             },
             "pattern": {
              "fillmode": "overlay",
              "size": 10,
              "solidity": 0.2
             }
            },
            "type": "bar"
           }
          ],
          "barpolar": [
           {
            "marker": {
             "line": {
              "color": "#E5ECF6",
              "width": 0.5
             },
             "pattern": {
              "fillmode": "overlay",
              "size": 10,
              "solidity": 0.2
             }
            },
            "type": "barpolar"
           }
          ],
          "carpet": [
           {
            "aaxis": {
             "endlinecolor": "#2a3f5f",
             "gridcolor": "white",
             "linecolor": "white",
             "minorgridcolor": "white",
             "startlinecolor": "#2a3f5f"
            },
            "baxis": {
             "endlinecolor": "#2a3f5f",
             "gridcolor": "white",
             "linecolor": "white",
             "minorgridcolor": "white",
             "startlinecolor": "#2a3f5f"
            },
            "type": "carpet"
           }
          ],
          "choropleth": [
           {
            "colorbar": {
             "outlinewidth": 0,
             "ticks": ""
            },
            "type": "choropleth"
           }
          ],
          "contour": [
           {
            "colorbar": {
             "outlinewidth": 0,
             "ticks": ""
            },
            "colorscale": [
             [
              0,
              "#0d0887"
             ],
             [
              0.1111111111111111,
              "#46039f"
             ],
             [
              0.2222222222222222,
              "#7201a8"
             ],
             [
              0.3333333333333333,
              "#9c179e"
             ],
             [
              0.4444444444444444,
              "#bd3786"
             ],
             [
              0.5555555555555556,
              "#d8576b"
             ],
             [
              0.6666666666666666,
              "#ed7953"
             ],
             [
              0.7777777777777778,
              "#fb9f3a"
             ],
             [
              0.8888888888888888,
              "#fdca26"
             ],
             [
              1,
              "#f0f921"
             ]
            ],
            "type": "contour"
           }
          ],
          "contourcarpet": [
           {
            "colorbar": {
             "outlinewidth": 0,
             "ticks": ""
            },
            "type": "contourcarpet"
           }
          ],
          "heatmap": [
           {
            "colorbar": {
             "outlinewidth": 0,
             "ticks": ""
            },
            "colorscale": [
             [
              0,
              "#0d0887"
             ],
             [
              0.1111111111111111,
              "#46039f"
             ],
             [
              0.2222222222222222,
              "#7201a8"
             ],
             [
              0.3333333333333333,
              "#9c179e"
             ],
             [
              0.4444444444444444,
              "#bd3786"
             ],
             [
              0.5555555555555556,
              "#d8576b"
             ],
             [
              0.6666666666666666,
              "#ed7953"
             ],
             [
              0.7777777777777778,
              "#fb9f3a"
             ],
             [
              0.8888888888888888,
              "#fdca26"
             ],
             [
              1,
              "#f0f921"
             ]
            ],
            "type": "heatmap"
           }
          ],
          "heatmapgl": [
           {
            "colorbar": {
             "outlinewidth": 0,
             "ticks": ""
            },
            "colorscale": [
             [
              0,
              "#0d0887"
             ],
             [
              0.1111111111111111,
              "#46039f"
             ],
             [
              0.2222222222222222,
              "#7201a8"
             ],
             [
              0.3333333333333333,
              "#9c179e"
             ],
             [
              0.4444444444444444,
              "#bd3786"
             ],
             [
              0.5555555555555556,
              "#d8576b"
             ],
             [
              0.6666666666666666,
              "#ed7953"
             ],
             [
              0.7777777777777778,
              "#fb9f3a"
             ],
             [
              0.8888888888888888,
              "#fdca26"
             ],
             [
              1,
              "#f0f921"
             ]
            ],
            "type": "heatmapgl"
           }
          ],
          "histogram": [
           {
            "marker": {
             "pattern": {
              "fillmode": "overlay",
              "size": 10,
              "solidity": 0.2
             }
            },
            "type": "histogram"
           }
          ],
          "histogram2d": [
           {
            "colorbar": {
             "outlinewidth": 0,
             "ticks": ""
            },
            "colorscale": [
             [
              0,
              "#0d0887"
             ],
             [
              0.1111111111111111,
              "#46039f"
             ],
             [
              0.2222222222222222,
              "#7201a8"
             ],
             [
              0.3333333333333333,
              "#9c179e"
             ],
             [
              0.4444444444444444,
              "#bd3786"
             ],
             [
              0.5555555555555556,
              "#d8576b"
             ],
             [
              0.6666666666666666,
              "#ed7953"
             ],
             [
              0.7777777777777778,
              "#fb9f3a"
             ],
             [
              0.8888888888888888,
              "#fdca26"
             ],
             [
              1,
              "#f0f921"
             ]
            ],
            "type": "histogram2d"
           }
          ],
          "histogram2dcontour": [
           {
            "colorbar": {
             "outlinewidth": 0,
             "ticks": ""
            },
            "colorscale": [
             [
              0,
              "#0d0887"
             ],
             [
              0.1111111111111111,
              "#46039f"
             ],
             [
              0.2222222222222222,
              "#7201a8"
             ],
             [
              0.3333333333333333,
              "#9c179e"
             ],
             [
              0.4444444444444444,
              "#bd3786"
             ],
             [
              0.5555555555555556,
              "#d8576b"
             ],
             [
              0.6666666666666666,
              "#ed7953"
             ],
             [
              0.7777777777777778,
              "#fb9f3a"
             ],
             [
              0.8888888888888888,
              "#fdca26"
             ],
             [
              1,
              "#f0f921"
             ]
            ],
            "type": "histogram2dcontour"
           }
          ],
          "mesh3d": [
           {
            "colorbar": {
             "outlinewidth": 0,
             "ticks": ""
            },
            "type": "mesh3d"
           }
          ],
          "parcoords": [
           {
            "line": {
             "colorbar": {
              "outlinewidth": 0,
              "ticks": ""
             }
            },
            "type": "parcoords"
           }
          ],
          "pie": [
           {
            "automargin": true,
            "type": "pie"
           }
          ],
          "scatter": [
           {
            "fillpattern": {
             "fillmode": "overlay",
             "size": 10,
             "solidity": 0.2
            },
            "type": "scatter"
           }
          ],
          "scatter3d": [
           {
            "line": {
             "colorbar": {
              "outlinewidth": 0,
              "ticks": ""
             }
            },
            "marker": {
             "colorbar": {
              "outlinewidth": 0,
              "ticks": ""
             }
            },
            "type": "scatter3d"
           }
          ],
          "scattercarpet": [
           {
            "marker": {
             "colorbar": {
              "outlinewidth": 0,
              "ticks": ""
             }
            },
            "type": "scattercarpet"
           }
          ],
          "scattergeo": [
           {
            "marker": {
             "colorbar": {
              "outlinewidth": 0,
              "ticks": ""
             }
            },
            "type": "scattergeo"
           }
          ],
          "scattergl": [
           {
            "marker": {
             "colorbar": {
              "outlinewidth": 0,
              "ticks": ""
             }
            },
            "type": "scattergl"
           }
          ],
          "scattermapbox": [
           {
            "marker": {
             "colorbar": {
              "outlinewidth": 0,
              "ticks": ""
             }
            },
            "type": "scattermapbox"
           }
          ],
          "scatterpolar": [
           {
            "marker": {
             "colorbar": {
              "outlinewidth": 0,
              "ticks": ""
             }
            },
            "type": "scatterpolar"
           }
          ],
          "scatterpolargl": [
           {
            "marker": {
             "colorbar": {
              "outlinewidth": 0,
              "ticks": ""
             }
            },
            "type": "scatterpolargl"
           }
          ],
          "scatterternary": [
           {
            "marker": {
             "colorbar": {
              "outlinewidth": 0,
              "ticks": ""
             }
            },
            "type": "scatterternary"
           }
          ],
          "surface": [
           {
            "colorbar": {
             "outlinewidth": 0,
             "ticks": ""
            },
            "colorscale": [
             [
              0,
              "#0d0887"
             ],
             [
              0.1111111111111111,
              "#46039f"
             ],
             [
              0.2222222222222222,
              "#7201a8"
             ],
             [
              0.3333333333333333,
              "#9c179e"
             ],
             [
              0.4444444444444444,
              "#bd3786"
             ],
             [
              0.5555555555555556,
              "#d8576b"
             ],
             [
              0.6666666666666666,
              "#ed7953"
             ],
             [
              0.7777777777777778,
              "#fb9f3a"
             ],
             [
              0.8888888888888888,
              "#fdca26"
             ],
             [
              1,
              "#f0f921"
             ]
            ],
            "type": "surface"
           }
          ],
          "table": [
           {
            "cells": {
             "fill": {
              "color": "#EBF0F8"
             },
             "line": {
              "color": "white"
             }
            },
            "header": {
             "fill": {
              "color": "#C8D4E3"
             },
             "line": {
              "color": "white"
             }
            },
            "type": "table"
           }
          ]
         },
         "layout": {
          "annotationdefaults": {
           "arrowcolor": "#2a3f5f",
           "arrowhead": 0,
           "arrowwidth": 1
          },
          "autotypenumbers": "strict",
          "coloraxis": {
           "colorbar": {
            "outlinewidth": 0,
            "ticks": ""
           }
          },
          "colorscale": {
           "diverging": [
            [
             0,
             "#8e0152"
            ],
            [
             0.1,
             "#c51b7d"
            ],
            [
             0.2,
             "#de77ae"
            ],
            [
             0.3,
             "#f1b6da"
            ],
            [
             0.4,
             "#fde0ef"
            ],
            [
             0.5,
             "#f7f7f7"
            ],
            [
             0.6,
             "#e6f5d0"
            ],
            [
             0.7,
             "#b8e186"
            ],
            [
             0.8,
             "#7fbc41"
            ],
            [
             0.9,
             "#4d9221"
            ],
            [
             1,
             "#276419"
            ]
           ],
           "sequential": [
            [
             0,
             "#0d0887"
            ],
            [
             0.1111111111111111,
             "#46039f"
            ],
            [
             0.2222222222222222,
             "#7201a8"
            ],
            [
             0.3333333333333333,
             "#9c179e"
            ],
            [
             0.4444444444444444,
             "#bd3786"
            ],
            [
             0.5555555555555556,
             "#d8576b"
            ],
            [
             0.6666666666666666,
             "#ed7953"
            ],
            [
             0.7777777777777778,
             "#fb9f3a"
            ],
            [
             0.8888888888888888,
             "#fdca26"
            ],
            [
             1,
             "#f0f921"
            ]
           ],
           "sequentialminus": [
            [
             0,
             "#0d0887"
            ],
            [
             0.1111111111111111,
             "#46039f"
            ],
            [
             0.2222222222222222,
             "#7201a8"
            ],
            [
             0.3333333333333333,
             "#9c179e"
            ],
            [
             0.4444444444444444,
             "#bd3786"
            ],
            [
             0.5555555555555556,
             "#d8576b"
            ],
            [
             0.6666666666666666,
             "#ed7953"
            ],
            [
             0.7777777777777778,
             "#fb9f3a"
            ],
            [
             0.8888888888888888,
             "#fdca26"
            ],
            [
             1,
             "#f0f921"
            ]
           ]
          },
          "colorway": [
           "#636efa",
           "#EF553B",
           "#00cc96",
           "#ab63fa",
           "#FFA15A",
           "#19d3f3",
           "#FF6692",
           "#B6E880",
           "#FF97FF",
           "#FECB52"
          ],
          "font": {
           "color": "#2a3f5f"
          },
          "geo": {
           "bgcolor": "white",
           "lakecolor": "white",
           "landcolor": "#E5ECF6",
           "showlakes": true,
           "showland": true,
           "subunitcolor": "white"
          },
          "hoverlabel": {
           "align": "left"
          },
          "hovermode": "closest",
          "mapbox": {
           "style": "light"
          },
          "paper_bgcolor": "white",
          "plot_bgcolor": "#E5ECF6",
          "polar": {
           "angularaxis": {
            "gridcolor": "white",
            "linecolor": "white",
            "ticks": ""
           },
           "bgcolor": "#E5ECF6",
           "radialaxis": {
            "gridcolor": "white",
            "linecolor": "white",
            "ticks": ""
           }
          },
          "scene": {
           "xaxis": {
            "backgroundcolor": "#E5ECF6",
            "gridcolor": "white",
            "gridwidth": 2,
            "linecolor": "white",
            "showbackground": true,
            "ticks": "",
            "zerolinecolor": "white"
           },
           "yaxis": {
            "backgroundcolor": "#E5ECF6",
            "gridcolor": "white",
            "gridwidth": 2,
            "linecolor": "white",
            "showbackground": true,
            "ticks": "",
            "zerolinecolor": "white"
           },
           "zaxis": {
            "backgroundcolor": "#E5ECF6",
            "gridcolor": "white",
            "gridwidth": 2,
            "linecolor": "white",
            "showbackground": true,
            "ticks": "",
            "zerolinecolor": "white"
           }
          },
          "shapedefaults": {
           "line": {
            "color": "#2a3f5f"
           }
          },
          "ternary": {
           "aaxis": {
            "gridcolor": "white",
            "linecolor": "white",
            "ticks": ""
           },
           "baxis": {
            "gridcolor": "white",
            "linecolor": "white",
            "ticks": ""
           },
           "bgcolor": "#E5ECF6",
           "caxis": {
            "gridcolor": "white",
            "linecolor": "white",
            "ticks": ""
           }
          },
          "title": {
           "x": 0.05
          },
          "xaxis": {
           "automargin": true,
           "gridcolor": "white",
           "linecolor": "white",
           "ticks": "",
           "title": {
            "standoff": 15
           },
           "zerolinecolor": "white",
           "zerolinewidth": 2
          },
          "yaxis": {
           "automargin": true,
           "gridcolor": "white",
           "linecolor": "white",
           "ticks": "",
           "title": {
            "standoff": 15
           },
           "zerolinecolor": "white",
           "zerolinewidth": 2
          }
         }
        },
        "xaxis": {
         "anchor": "y",
         "domain": [
          0,
          1
         ],
         "title": {
          "text": "hour"
         }
        },
        "yaxis": {
         "anchor": "x",
         "domain": [
          0,
          1
         ],
         "title": {
          "text": "value"
         }
        }
       }
      }
     },
     "metadata": {},
     "output_type": "display_data"
    }
   ],
   "source": [
    "#pxline\n",
    "px.line(hour_count_df)"
   ]
  },
  {
   "cell_type": "markdown",
   "metadata": {},
   "source": [
    "**2.시간대 별 충전량 평균**"
   ]
  },
  {
   "cell_type": "code",
   "execution_count": 23,
   "metadata": {},
   "outputs": [
    {
     "data": {
      "text/html": [
       "<div>\n",
       "<style scoped>\n",
       "    .dataframe tbody tr th:only-of-type {\n",
       "        vertical-align: middle;\n",
       "    }\n",
       "\n",
       "    .dataframe tbody tr th {\n",
       "        vertical-align: top;\n",
       "    }\n",
       "\n",
       "    .dataframe thead th {\n",
       "        text-align: right;\n",
       "    }\n",
       "</style>\n",
       "<table border=\"1\" class=\"dataframe\">\n",
       "  <thead>\n",
       "    <tr style=\"text-align: right;\">\n",
       "      <th>충전구분</th>\n",
       "      <th>급속</th>\n",
       "      <th>완속</th>\n",
       "    </tr>\n",
       "    <tr>\n",
       "      <th>hour</th>\n",
       "      <th></th>\n",
       "      <th></th>\n",
       "    </tr>\n",
       "  </thead>\n",
       "  <tbody>\n",
       "    <tr>\n",
       "      <th>0.0</th>\n",
       "      <td>23.357917</td>\n",
       "      <td>30.601936</td>\n",
       "    </tr>\n",
       "    <tr>\n",
       "      <th>1.0</th>\n",
       "      <td>25.739772</td>\n",
       "      <td>29.745683</td>\n",
       "    </tr>\n",
       "    <tr>\n",
       "      <th>2.0</th>\n",
       "      <td>25.915768</td>\n",
       "      <td>31.126993</td>\n",
       "    </tr>\n",
       "    <tr>\n",
       "      <th>3.0</th>\n",
       "      <td>25.113519</td>\n",
       "      <td>32.692639</td>\n",
       "    </tr>\n",
       "    <tr>\n",
       "      <th>4.0</th>\n",
       "      <td>23.448665</td>\n",
       "      <td>29.233714</td>\n",
       "    </tr>\n",
       "    <tr>\n",
       "      <th>5.0</th>\n",
       "      <td>22.986802</td>\n",
       "      <td>14.350642</td>\n",
       "    </tr>\n",
       "    <tr>\n",
       "      <th>6.0</th>\n",
       "      <td>22.037918</td>\n",
       "      <td>12.684487</td>\n",
       "    </tr>\n",
       "    <tr>\n",
       "      <th>7.0</th>\n",
       "      <td>20.452039</td>\n",
       "      <td>14.675816</td>\n",
       "    </tr>\n",
       "    <tr>\n",
       "      <th>8.0</th>\n",
       "      <td>20.000602</td>\n",
       "      <td>15.074102</td>\n",
       "    </tr>\n",
       "    <tr>\n",
       "      <th>9.0</th>\n",
       "      <td>19.427128</td>\n",
       "      <td>14.112934</td>\n",
       "    </tr>\n",
       "    <tr>\n",
       "      <th>10.0</th>\n",
       "      <td>19.719474</td>\n",
       "      <td>11.364097</td>\n",
       "    </tr>\n",
       "    <tr>\n",
       "      <th>11.0</th>\n",
       "      <td>19.675649</td>\n",
       "      <td>10.466440</td>\n",
       "    </tr>\n",
       "    <tr>\n",
       "      <th>12.0</th>\n",
       "      <td>19.833875</td>\n",
       "      <td>11.348666</td>\n",
       "    </tr>\n",
       "    <tr>\n",
       "      <th>13.0</th>\n",
       "      <td>19.938353</td>\n",
       "      <td>11.871412</td>\n",
       "    </tr>\n",
       "    <tr>\n",
       "      <th>14.0</th>\n",
       "      <td>20.828722</td>\n",
       "      <td>11.192807</td>\n",
       "    </tr>\n",
       "    <tr>\n",
       "      <th>15.0</th>\n",
       "      <td>20.553832</td>\n",
       "      <td>10.841307</td>\n",
       "    </tr>\n",
       "    <tr>\n",
       "      <th>16.0</th>\n",
       "      <td>20.226274</td>\n",
       "      <td>11.287677</td>\n",
       "    </tr>\n",
       "    <tr>\n",
       "      <th>17.0</th>\n",
       "      <td>20.618887</td>\n",
       "      <td>13.913840</td>\n",
       "    </tr>\n",
       "    <tr>\n",
       "      <th>18.0</th>\n",
       "      <td>21.272890</td>\n",
       "      <td>15.660409</td>\n",
       "    </tr>\n",
       "    <tr>\n",
       "      <th>19.0</th>\n",
       "      <td>21.725037</td>\n",
       "      <td>20.296304</td>\n",
       "    </tr>\n",
       "    <tr>\n",
       "      <th>20.0</th>\n",
       "      <td>20.349213</td>\n",
       "      <td>19.450286</td>\n",
       "    </tr>\n",
       "    <tr>\n",
       "      <th>21.0</th>\n",
       "      <td>20.030399</td>\n",
       "      <td>22.561427</td>\n",
       "    </tr>\n",
       "    <tr>\n",
       "      <th>22.0</th>\n",
       "      <td>19.957866</td>\n",
       "      <td>25.581621</td>\n",
       "    </tr>\n",
       "    <tr>\n",
       "      <th>23.0</th>\n",
       "      <td>21.135779</td>\n",
       "      <td>27.533140</td>\n",
       "    </tr>\n",
       "  </tbody>\n",
       "</table>\n",
       "</div>"
      ],
      "text/plain": [
       "충전구분         급속         완속\n",
       "hour                      \n",
       "0.0   23.357917  30.601936\n",
       "1.0   25.739772  29.745683\n",
       "2.0   25.915768  31.126993\n",
       "3.0   25.113519  32.692639\n",
       "4.0   23.448665  29.233714\n",
       "5.0   22.986802  14.350642\n",
       "6.0   22.037918  12.684487\n",
       "7.0   20.452039  14.675816\n",
       "8.0   20.000602  15.074102\n",
       "9.0   19.427128  14.112934\n",
       "10.0  19.719474  11.364097\n",
       "11.0  19.675649  10.466440\n",
       "12.0  19.833875  11.348666\n",
       "13.0  19.938353  11.871412\n",
       "14.0  20.828722  11.192807\n",
       "15.0  20.553832  10.841307\n",
       "16.0  20.226274  11.287677\n",
       "17.0  20.618887  13.913840\n",
       "18.0  21.272890  15.660409\n",
       "19.0  21.725037  20.296304\n",
       "20.0  20.349213  19.450286\n",
       "21.0  20.030399  22.561427\n",
       "22.0  19.957866  25.581621\n",
       "23.0  21.135779  27.533140"
      ]
     },
     "metadata": {},
     "output_type": "display_data"
    }
   ],
   "source": [
    "hour_charge_df = df.groupby(['hour', '충전구분'])['충전량(kWh)'].mean()\n",
    "hour_charge_df = hour_charge_df.unstack() #다중컬럼 해제\n",
    "display(hour_charge_df)"
   ]
  },
  {
   "cell_type": "code",
   "execution_count": 24,
   "metadata": {},
   "outputs": [
    {
     "data": {
      "image/png": "[encoded data removed]",
      "text/plain": [
       "<Figure size 1000x500 with 1 Axes>"
      ]
     },
     "metadata": {},
     "output_type": "display_data"
    }
   ],
   "source": [
    "hour_charge_df.plot(figsize=(10,5))\n",
    "plt.title('시간대 별 충전량 평균')\n",
    "plt.xticks(range(0,24,1))\n",
    "plt.show()"
   ]
  },
  {
   "cell_type": "code",
   "execution_count": 25,
   "metadata": {},
   "outputs": [
    {
     "data": {
      "application/vnd.plotly.v1+json": {
       "config": {
        "plotlyServerURL": "https://plot.ly"
       },
       "data": [
        {
         "hovertemplate": "충전구분=급속<br>hour=%{x}<br>value=%{y}<extra></extra>",
         "legendgroup": "급속",
         "line": {
          "color": "#636efa",
          "dash": "solid"
         },
         "marker": {
          "symbol": "circle"
         },
         "mode": "lines",
         "name": "급속",
         "orientation": "v",
         "showlegend": true,
         "type": "scatter",
         "x": [
          0,
          1,
          2,
          3,
          4,
          5,
          6,
          7,
          8,
          9,
          10,
          11,
          12,
          13,
          14,
          15,
          16,
          17,
          18,
          19,
          20,
          21,
          22,
          23
         ],
         "xaxis": "x",
         "y": [
          23.357917022792023,
          25.739771821909784,
          25.915768326947635,
          25.113519335433974,
          23.44866532663317,
          22.986801935288785,
          22.037918228279384,
          20.452039037927843,
          20.000602054899556,
          19.427128379315125,
          19.719473778004073,
          19.67564886530428,
          19.833874618380882,
          19.938353498542273,
          20.82872177668106,
          20.55383205873356,
          20.22627423598462,
          20.618886691250417,
          21.272890025876265,
          21.72503732187288,
          20.349212973239613,
          20.030398997807705,
          19.957865926558497,
          21.135779069767445
         ],
         "yaxis": "y"
        },
        {
         "hovertemplate": "충전구분=완속<br>hour=%{x}<br>value=%{y}<extra></extra>",
         "legendgroup": "완속",
         "line": {
          "color": "#EF553B",
          "dash": "solid"
         },
         "marker": {
          "symbol": "circle"
         },
         "mode": "lines",
         "name": "완속",
         "orientation": "v",
         "showlegend": true,
         "type": "scatter",
         "x": [
          0,
          1,
          2,
          3,
          4,
          5,
          6,
          7,
          8,
          9,
          10,
          11,
          12,
          13,
          14,
          15,
          16,
          17,
          18,
          19,
          20,
          21,
          22,
          23
         ],
         "xaxis": "x",
         "y": [
          30.601936305732483,
          29.745683333333332,
          31.126993006993008,
          32.69263888888889,
          29.233714285714285,
          14.350641791044778,
          12.684487329434697,
          14.675816485225504,
          15.074101754385964,
          14.11293423597679,
          11.364097269624573,
          10.46643953294412,
          11.348665514858327,
          11.871411519777933,
          11.192806554756196,
          10.841306836248013,
          11.287677419354837,
          13.913839558573855,
          15.660408612440191,
          20.29630383480826,
          19.450285714285712,
          22.561426666666666,
          25.581620786516854,
          27.53314049586777
         ],
         "yaxis": "y"
        }
       ],
       "layout": {
        "annotations": [
         {
          "font": {
           "color": "green",
           "family": "Times New Roman",
           "size": 20
          },
          "showarrow": false,
          "text": "6-21시",
          "x": 20,
          "xanchor": "right",
          "xref": "x",
          "y": 0,
          "yanchor": "bottom",
          "yref": "y domain"
         }
        ],
        "legend": {
         "title": {
          "text": "충전구분"
         },
         "tracegroupgap": 0
        },
        "margin": {
         "t": 60
        },
        "shapes": [
         {
          "fillcolor": "red",
          "line": {
           "width": 0
          },
          "opacity": 0.2,
          "type": "rect",
          "x0": 5,
          "x1": 20,
          "xref": "x",
          "y0": 0,
          "y1": 1,
          "yref": "y domain"
         }
        ],
        "template": {
         "data": {
          "bar": [
           {
            "error_x": {
             "color": "#2a3f5f"
            },
            "error_y": {
             "color": "#2a3f5f"
            },
            "marker": {
             "line": {
              "color": "#E5ECF6",
              "width": 0.5
             },
             "pattern": {
              "fillmode": "overlay",
              "size": 10,
              "solidity": 0.2
             }
            },
            "type": "bar"
           }
          ],
          "barpolar": [
           {
            "marker": {
             "line": {
              "color": "#E5ECF6",
              "width": 0.5
             },
             "pattern": {
              "fillmode": "overlay",
              "size": 10,
              "solidity": 0.2
             }
            },
            "type": "barpolar"
           }
          ],
          "carpet": [
           {
            "aaxis": {
             "endlinecolor": "#2a3f5f",
             "gridcolor": "white",
             "linecolor": "white",
             "minorgridcolor": "white",
             "startlinecolor": "#2a3f5f"
            },
            "baxis": {
             "endlinecolor": "#2a3f5f",
             "gridcolor": "white",
             "linecolor": "white",
             "minorgridcolor": "white",
             "startlinecolor": "#2a3f5f"
            },
            "type": "carpet"
           }
          ],
          "choropleth": [
           {
            "colorbar": {
             "outlinewidth": 0,
             "ticks": ""
            },
            "type": "choropleth"
           }
          ],
          "contour": [
           {
            "colorbar": {
             "outlinewidth": 0,
             "ticks": ""
            },
            "colorscale": [
             [
              0,
              "#0d0887"
             ],
             [
              0.1111111111111111,
              "#46039f"
             ],
             [
              0.2222222222222222,
              "#7201a8"
             ],
             [
              0.3333333333333333,
              "#9c179e"
             ],
             [
              0.4444444444444444,
              "#bd3786"
             ],
             [
              0.5555555555555556,
              "#d8576b"
             ],
             [
              0.6666666666666666,
              "#ed7953"
             ],
             [
              0.7777777777777778,
              "#fb9f3a"
             ],
             [
              0.8888888888888888,
              "#fdca26"
             ],
             [
              1,
              "#f0f921"
             ]
            ],
            "type": "contour"
           }
          ],
          "contourcarpet": [
           {
            "colorbar": {
             "outlinewidth": 0,
             "ticks": ""
            },
            "type": "contourcarpet"
           }
          ],
          "heatmap": [
           {
            "colorbar": {
             "outlinewidth": 0,
             "ticks": ""
            },
            "colorscale": [
             [
              0,
              "#0d0887"
             ],
             [
              0.1111111111111111,
              "#46039f"
             ],
             [
              0.2222222222222222,
              "#7201a8"
             ],
             [
              0.3333333333333333,
              "#9c179e"
             ],
             [
              0.4444444444444444,
              "#bd3786"
             ],
             [
              0.5555555555555556,
              "#d8576b"
             ],
             [
              0.6666666666666666,
              "#ed7953"
             ],
             [
              0.7777777777777778,
              "#fb9f3a"
             ],
             [
              0.8888888888888888,
              "#fdca26"
             ],
             [
              1,
              "#f0f921"
             ]
            ],
            "type": "heatmap"
           }
          ],
          "heatmapgl": [
           {
            "colorbar": {
             "outlinewidth": 0,
             "ticks": ""
            },
            "colorscale": [
             [
              0,
              "#0d0887"
             ],
             [
              0.1111111111111111,
              "#46039f"
             ],
             [
              0.2222222222222222,
              "#7201a8"
             ],
             [
              0.3333333333333333,
              "#9c179e"
             ],
             [
              0.4444444444444444,
              "#bd3786"
             ],
             [
              0.5555555555555556,
              "#d8576b"
             ],
             [
              0.6666666666666666,
              "#ed7953"
             ],
             [
              0.7777777777777778,
              "#fb9f3a"
             ],
             [
              0.8888888888888888,
              "#fdca26"
             ],
             [
              1,
              "#f0f921"
             ]
            ],
            "type": "heatmapgl"
           }
          ],
          "histogram": [
           {
            "marker": {
             "pattern": {
              "fillmode": "overlay",
              "size": 10,
              "solidity": 0.2
             }
            },
            "type": "histogram"
           }
          ],
          "histogram2d": [
           {
            "colorbar": {
             "outlinewidth": 0,
             "ticks": ""
            },
            "colorscale": [
             [
              0,
              "#0d0887"
             ],
             [
              0.1111111111111111,
              "#46039f"
             ],
             [
              0.2222222222222222,
              "#7201a8"
             ],
             [
              0.3333333333333333,
              "#9c179e"
             ],
             [
              0.4444444444444444,
              "#bd3786"
             ],
             [
              0.5555555555555556,
              "#d8576b"
             ],
             [
              0.6666666666666666,
              "#ed7953"
             ],
             [
              0.7777777777777778,
              "#fb9f3a"
             ],
             [
              0.8888888888888888,
              "#fdca26"
             ],
             [
              1,
              "#f0f921"
             ]
            ],
            "type": "histogram2d"
           }
          ],
          "histogram2dcontour": [
           {
            "colorbar": {
             "outlinewidth": 0,
             "ticks": ""
            },
            "colorscale": [
             [
              0,
              "#0d0887"
             ],
             [
              0.1111111111111111,
              "#46039f"
             ],
             [
              0.2222222222222222,
              "#7201a8"
             ],
             [
              0.3333333333333333,
              "#9c179e"
             ],
             [
              0.4444444444444444,
              "#bd3786"
             ],
             [
              0.5555555555555556,
              "#d8576b"
             ],
             [
              0.6666666666666666,
              "#ed7953"
             ],
             [
              0.7777777777777778,
              "#fb9f3a"
             ],
             [
              0.8888888888888888,
              "#fdca26"
             ],
             [
              1,
              "#f0f921"
             ]
            ],
            "type": "histogram2dcontour"
           }
          ],
          "mesh3d": [
           {
            "colorbar": {
             "outlinewidth": 0,
             "ticks": ""
            },
            "type": "mesh3d"
           }
          ],
          "parcoords": [
           {
            "line": {
             "colorbar": {
              "outlinewidth": 0,
              "ticks": ""
             }
            },
            "type": "parcoords"
           }
          ],
          "pie": [
           {
            "automargin": true,
            "type": "pie"
           }
          ],
          "scatter": [
           {
            "fillpattern": {
             "fillmode": "overlay",
             "size": 10,
             "solidity": 0.2
            },
            "type": "scatter"
           }
          ],
          "scatter3d": [
           {
            "line": {
             "colorbar": {
              "outlinewidth": 0,
              "ticks": ""
             }
            },
            "marker": {
             "colorbar": {
              "outlinewidth": 0,
              "ticks": ""
             }
            },
            "type": "scatter3d"
           }
          ],
          "scattercarpet": [
           {
            "marker": {
             "colorbar": {
              "outlinewidth": 0,
              "ticks": ""
             }
            },
            "type": "scattercarpet"
           }
          ],
          "scattergeo": [
           {
            "marker": {
             "colorbar": {
              "outlinewidth": 0,
              "ticks": ""
             }
            },
            "type": "scattergeo"
           }
          ],
          "scattergl": [
           {
            "marker": {
             "colorbar": {
              "outlinewidth": 0,
              "ticks": ""
             }
            },
            "type": "scattergl"
           }
          ],
          "scattermapbox": [
           {
            "marker": {
             "colorbar": {
              "outlinewidth": 0,
              "ticks": ""
             }
            },
            "type": "scattermapbox"
           }
          ],
          "scatterpolar": [
           {
            "marker": {
             "colorbar": {
              "outlinewidth": 0,
              "ticks": ""
             }
            },
            "type": "scatterpolar"
           }
          ],
          "scatterpolargl": [
           {
            "marker": {
             "colorbar": {
              "outlinewidth": 0,
              "ticks": ""
             }
            },
            "type": "scatterpolargl"
           }
          ],
          "scatterternary": [
           {
            "marker": {
             "colorbar": {
              "outlinewidth": 0,
              "ticks": ""
             }
            },
            "type": "scatterternary"
           }
          ],
          "surface": [
           {
            "colorbar": {
             "outlinewidth": 0,
             "ticks": ""
            },
            "colorscale": [
             [
              0,
              "#0d0887"
             ],
             [
              0.1111111111111111,
              "#46039f"
             ],
             [
              0.2222222222222222,
              "#7201a8"
             ],
             [
              0.3333333333333333,
              "#9c179e"
             ],
             [
              0.4444444444444444,
              "#bd3786"
             ],
             [
              0.5555555555555556,
              "#d8576b"
             ],
             [
              0.6666666666666666,
              "#ed7953"
             ],
             [
              0.7777777777777778,
              "#fb9f3a"
             ],
             [
              0.8888888888888888,
              "#fdca26"
             ],
             [
              1,
              "#f0f921"
             ]
            ],
            "type": "surface"
           }
          ],
          "table": [
           {
            "cells": {
             "fill": {
              "color": "#EBF0F8"
             },
             "line": {
              "color": "white"
             }
            },
            "header": {
             "fill": {
              "color": "#C8D4E3"
             },
             "line": {
              "color": "white"
             }
            },
            "type": "table"
           }
          ]
         },
         "layout": {
          "annotationdefaults": {
           "arrowcolor": "#2a3f5f",
           "arrowhead": 0,
           "arrowwidth": 1
          },
          "autotypenumbers": "strict",
          "coloraxis": {
           "colorbar": {
            "outlinewidth": 0,
            "ticks": ""
           }
          },
          "colorscale": {
           "diverging": [
            [
             0,
             "#8e0152"
            ],
            [
             0.1,
             "#c51b7d"
            ],
            [
             0.2,
             "#de77ae"
            ],
            [
             0.3,
             "#f1b6da"
            ],
            [
             0.4,
             "#fde0ef"
            ],
            [
             0.5,
             "#f7f7f7"
            ],
            [
             0.6,
             "#e6f5d0"
            ],
            [
             0.7,
             "#b8e186"
            ],
            [
             0.8,
             "#7fbc41"
            ],
            [
             0.9,
             "#4d9221"
            ],
            [
             1,
             "#276419"
            ]
           ],
           "sequential": [
            [
             0,
             "#0d0887"
            ],
            [
             0.1111111111111111,
             "#46039f"
            ],
            [
             0.2222222222222222,
             "#7201a8"
            ],
            [
             0.3333333333333333,
             "#9c179e"
            ],
            [
             0.4444444444444444,
             "#bd3786"
            ],
            [
             0.5555555555555556,
             "#d8576b"
            ],
            [
             0.6666666666666666,
             "#ed7953"
            ],
            [
             0.7777777777777778,
             "#fb9f3a"
            ],
            [
             0.8888888888888888,
             "#fdca26"
            ],
            [
             1,
             "#f0f921"
            ]
           ],
           "sequentialminus": [
            [
             0,
             "#0d0887"
            ],
            [
             0.1111111111111111,
             "#46039f"
            ],
            [
             0.2222222222222222,
             "#7201a8"
            ],
            [
             0.3333333333333333,
             "#9c179e"
            ],
            [
             0.4444444444444444,
             "#bd3786"
            ],
            [
             0.5555555555555556,
             "#d8576b"
            ],
            [
             0.6666666666666666,
             "#ed7953"
            ],
            [
             0.7777777777777778,
             "#fb9f3a"
            ],
            [
             0.8888888888888888,
             "#fdca26"
            ],
            [
             1,
             "#f0f921"
            ]
           ]
          },
          "colorway": [
           "#636efa",
           "#EF553B",
           "#00cc96",
           "#ab63fa",
           "#FFA15A",
           "#19d3f3",
           "#FF6692",
           "#B6E880",
           "#FF97FF",
           "#FECB52"
          ],
          "font": {
           "color": "#2a3f5f"
          },
          "geo": {
           "bgcolor": "white",
           "lakecolor": "white",
           "landcolor": "#E5ECF6",
           "showlakes": true,
           "showland": true,
           "subunitcolor": "white"
          },
          "hoverlabel": {
           "align": "left"
          },
          "hovermode": "closest",
          "mapbox": {
           "style": "light"
          },
          "paper_bgcolor": "white",
          "plot_bgcolor": "#E5ECF6",
          "polar": {
           "angularaxis": {
            "gridcolor": "white",
            "linecolor": "white",
            "ticks": ""
           },
           "bgcolor": "#E5ECF6",
           "radialaxis": {
            "gridcolor": "white",
            "linecolor": "white",
            "ticks": ""
           }
          },
          "scene": {
           "xaxis": {
            "backgroundcolor": "#E5ECF6",
            "gridcolor": "white",
            "gridwidth": 2,
            "linecolor": "white",
            "showbackground": true,
            "ticks": "",
            "zerolinecolor": "white"
           },
           "yaxis": {
            "backgroundcolor": "#E5ECF6",
            "gridcolor": "white",
            "gridwidth": 2,
            "linecolor": "white",
            "showbackground": true,
            "ticks": "",
            "zerolinecolor": "white"
           },
           "zaxis": {
            "backgroundcolor": "#E5ECF6",
            "gridcolor": "white",
            "gridwidth": 2,
            "linecolor": "white",
            "showbackground": true,
            "ticks": "",
            "zerolinecolor": "white"
           }
          },
          "shapedefaults": {
           "line": {
            "color": "#2a3f5f"
           }
          },
          "ternary": {
           "aaxis": {
            "gridcolor": "white",
            "linecolor": "white",
            "ticks": ""
           },
           "baxis": {
            "gridcolor": "white",
            "linecolor": "white",
            "ticks": ""
           },
           "bgcolor": "#E5ECF6",
           "caxis": {
            "gridcolor": "white",
            "linecolor": "white",
            "ticks": ""
           }
          },
          "title": {
           "x": 0.05
          },
          "xaxis": {
           "automargin": true,
           "gridcolor": "white",
           "linecolor": "white",
           "ticks": "",
           "title": {
            "standoff": 15
           },
           "zerolinecolor": "white",
           "zerolinewidth": 2
          },
          "yaxis": {
           "automargin": true,
           "gridcolor": "white",
           "linecolor": "white",
           "ticks": "",
           "title": {
            "standoff": 15
           },
           "zerolinecolor": "white",
           "zerolinewidth": 2
          }
         }
        },
        "xaxis": {
         "anchor": "y",
         "domain": [
          0,
          1
         ],
         "title": {
          "text": "hour"
         }
        },
        "yaxis": {
         "anchor": "x",
         "domain": [
          0,
          1
         ],
         "title": {
          "text": "value"
         }
        }
       }
      }
     },
     "metadata": {},
     "output_type": "display_data"
    }
   ],
   "source": [
    "#pxline\n",
    "fig = px.line(hour_charge_df)\n",
    "fig.add_vrect(x0=5, x1=20, line_width=0, fillcolor=\"red\", opacity=0.2,\n",
    "              annotation_text=\"6-21시\", \n",
    "              annotation_position=\"bottom right\",\n",
    "              annotation_font_size=20,\n",
    "              annotation_font_color=\"green\",\n",
    "              annotation_font_family=\"Times New Roman\")\n",
    "fig.show()"
   ]
  },
  {
   "cell_type": "markdown",
   "metadata": {},
   "source": [
    "**3.시간대 별 평균 이용시간**"
   ]
  },
  {
   "cell_type": "code",
   "execution_count": 26,
   "metadata": {},
   "outputs": [
    {
     "data": {
      "text/html": [
       "<div>\n",
       "<style scoped>\n",
       "    .dataframe tbody tr th:only-of-type {\n",
       "        vertical-align: middle;\n",
       "    }\n",
       "\n",
       "    .dataframe tbody tr th {\n",
       "        vertical-align: top;\n",
       "    }\n",
       "\n",
       "    .dataframe thead th {\n",
       "        text-align: right;\n",
       "    }\n",
       "</style>\n",
       "<table border=\"1\" class=\"dataframe\">\n",
       "  <thead>\n",
       "    <tr style=\"text-align: right;\">\n",
       "      <th>충전구분</th>\n",
       "      <th>급속</th>\n",
       "      <th>완속</th>\n",
       "    </tr>\n",
       "    <tr>\n",
       "      <th>hour</th>\n",
       "      <th></th>\n",
       "      <th></th>\n",
       "    </tr>\n",
       "  </thead>\n",
       "  <tbody>\n",
       "    <tr>\n",
       "      <th>0.0</th>\n",
       "      <td>0 days 00:40:21.535256410</td>\n",
       "      <td>0 days 05:07:38.592356687</td>\n",
       "    </tr>\n",
       "    <tr>\n",
       "      <th>1.0</th>\n",
       "      <td>0 days 00:41:45.536321031</td>\n",
       "      <td>0 days 05:01:29.266666666</td>\n",
       "    </tr>\n",
       "    <tr>\n",
       "      <th>2.0</th>\n",
       "      <td>0 days 00:44:33.005108556</td>\n",
       "      <td>0 days 05:12:27.902097902</td>\n",
       "    </tr>\n",
       "    <tr>\n",
       "      <th>3.0</th>\n",
       "      <td>0 days 00:42:35.827270123</td>\n",
       "      <td>0 days 05:15:06.041666666</td>\n",
       "    </tr>\n",
       "    <tr>\n",
       "      <th>4.0</th>\n",
       "      <td>0 days 00:41:08.827470686</td>\n",
       "      <td>0 days 04:38:17.485714285</td>\n",
       "    </tr>\n",
       "    <tr>\n",
       "      <th>5.0</th>\n",
       "      <td>0 days 00:42:57.412156032</td>\n",
       "      <td>0 days 03:07:45.074626865</td>\n",
       "    </tr>\n",
       "    <tr>\n",
       "      <th>6.0</th>\n",
       "      <td>0 days 00:44:01.791920175</td>\n",
       "      <td>0 days 02:18:40.793372319</td>\n",
       "    </tr>\n",
       "    <tr>\n",
       "      <th>7.0</th>\n",
       "      <td>0 days 00:41:32.602035152</td>\n",
       "      <td>0 days 03:21:50.004665629</td>\n",
       "    </tr>\n",
       "    <tr>\n",
       "      <th>8.0</th>\n",
       "      <td>0 days 00:39:48.981751265</td>\n",
       "      <td>0 days 03:13:02.370175438</td>\n",
       "    </tr>\n",
       "    <tr>\n",
       "      <th>9.0</th>\n",
       "      <td>0 days 00:38:26.355053375</td>\n",
       "      <td>0 days 02:46:34.906189555</td>\n",
       "    </tr>\n",
       "    <tr>\n",
       "      <th>10.0</th>\n",
       "      <td>0 days 00:36:56.967286150</td>\n",
       "      <td>0 days 02:15:30.420648464</td>\n",
       "    </tr>\n",
       "    <tr>\n",
       "      <th>11.0</th>\n",
       "      <td>0 days 00:38:15.173422151</td>\n",
       "      <td>0 days 02:05:33.769808173</td>\n",
       "    </tr>\n",
       "    <tr>\n",
       "      <th>12.0</th>\n",
       "      <td>0 days 00:38:42.072744499</td>\n",
       "      <td>0 days 02:09:04.266758811</td>\n",
       "    </tr>\n",
       "    <tr>\n",
       "      <th>13.0</th>\n",
       "      <td>0 days 00:38:10.046855476</td>\n",
       "      <td>0 days 02:15:48.900069396</td>\n",
       "    </tr>\n",
       "    <tr>\n",
       "      <th>14.0</th>\n",
       "      <td>0 days 00:38:35.332099527</td>\n",
       "      <td>0 days 02:11:35.093525179</td>\n",
       "    </tr>\n",
       "    <tr>\n",
       "      <th>15.0</th>\n",
       "      <td>0 days 00:38:45.509635974</td>\n",
       "      <td>0 days 02:11:44.880763116</td>\n",
       "    </tr>\n",
       "    <tr>\n",
       "      <th>16.0</th>\n",
       "      <td>0 days 00:38:01.207751467</td>\n",
       "      <td>0 days 02:18:56.138709677</td>\n",
       "    </tr>\n",
       "    <tr>\n",
       "      <th>17.0</th>\n",
       "      <td>0 days 00:38:39.041010168</td>\n",
       "      <td>0 days 02:46:49.678268251</td>\n",
       "    </tr>\n",
       "    <tr>\n",
       "      <th>18.0</th>\n",
       "      <td>0 days 00:40:10.895553987</td>\n",
       "      <td>0 days 03:02:39.080382775</td>\n",
       "    </tr>\n",
       "    <tr>\n",
       "      <th>19.0</th>\n",
       "      <td>0 days 00:40:47.306378647</td>\n",
       "      <td>0 days 03:58:14.485250737</td>\n",
       "    </tr>\n",
       "    <tr>\n",
       "      <th>20.0</th>\n",
       "      <td>0 days 00:38:49.777654458</td>\n",
       "      <td>0 days 03:45:40.651205936</td>\n",
       "    </tr>\n",
       "    <tr>\n",
       "      <th>21.0</th>\n",
       "      <td>0 days 00:37:32.370654556</td>\n",
       "      <td>0 days 04:17:19.002666666</td>\n",
       "    </tr>\n",
       "    <tr>\n",
       "      <th>22.0</th>\n",
       "      <td>0 days 00:38:51.338172502</td>\n",
       "      <td>0 days 04:57:02.941011235</td>\n",
       "    </tr>\n",
       "    <tr>\n",
       "      <th>23.0</th>\n",
       "      <td>0 days 00:38:50.452842377</td>\n",
       "      <td>0 days 04:52:46.739669421</td>\n",
       "    </tr>\n",
       "  </tbody>\n",
       "</table>\n",
       "</div>"
      ],
      "text/plain": [
       "충전구분                        급속                        완속\n",
       "hour                                                    \n",
       "0.0  0 days 00:40:21.535256410 0 days 05:07:38.592356687\n",
       "1.0  0 days 00:41:45.536321031 0 days 05:01:29.266666666\n",
       "2.0  0 days 00:44:33.005108556 0 days 05:12:27.902097902\n",
       "3.0  0 days 00:42:35.827270123 0 days 05:15:06.041666666\n",
       "4.0  0 days 00:41:08.827470686 0 days 04:38:17.485714285\n",
       "5.0  0 days 00:42:57.412156032 0 days 03:07:45.074626865\n",
       "6.0  0 days 00:44:01.791920175 0 days 02:18:40.793372319\n",
       "7.0  0 days 00:41:32.602035152 0 days 03:21:50.004665629\n",
       "8.0  0 days 00:39:48.981751265 0 days 03:13:02.370175438\n",
       "9.0  0 days 00:38:26.355053375 0 days 02:46:34.906189555\n",
       "10.0 0 days 00:36:56.967286150 0 days 02:15:30.420648464\n",
       "11.0 0 days 00:38:15.173422151 0 days 02:05:33.769808173\n",
       "12.0 0 days 00:38:42.072744499 0 days 02:09:04.266758811\n",
       "13.0 0 days 00:38:10.046855476 0 days 02:15:48.900069396\n",
       "14.0 0 days 00:38:35.332099527 0 days 02:11:35.093525179\n",
       "15.0 0 days 00:38:45.509635974 0 days 02:11:44.880763116\n",
       "16.0 0 days 00:38:01.207751467 0 days 02:18:56.138709677\n",
       "17.0 0 days 00:38:39.041010168 0 days 02:46:49.678268251\n",
       "18.0 0 days 00:40:10.895553987 0 days 03:02:39.080382775\n",
       "19.0 0 days 00:40:47.306378647 0 days 03:58:14.485250737\n",
       "20.0 0 days 00:38:49.777654458 0 days 03:45:40.651205936\n",
       "21.0 0 days 00:37:32.370654556 0 days 04:17:19.002666666\n",
       "22.0 0 days 00:38:51.338172502 0 days 04:57:02.941011235\n",
       "23.0 0 days 00:38:50.452842377 0 days 04:52:46.739669421"
      ]
     },
     "metadata": {},
     "output_type": "display_data"
    }
   ],
   "source": [
    "#충전시간 컬럼 생성\n",
    "df['diff_time'] = df['충전종료시간'] - df['충전시작시간']\n",
    "avg_usingtime_df = df.groupby(['hour', '충전구분'])['diff_time'].mean()\n",
    "avg_usingtime_df = avg_usingtime_df.unstack() #다중컬럼 해제\n",
    "display(avg_usingtime_df)"
   ]
  },
  {
   "cell_type": "code",
   "execution_count": 27,
   "metadata": {},
   "outputs": [
    {
     "data": {
      "image/png": "[encoded data removed]",
      "text/plain": [
       "<Figure size 1000x500 with 1 Axes>"
      ]
     },
     "metadata": {},
     "output_type": "display_data"
    }
   ],
   "source": [
    "avg_usingtime_df.plot(figsize=(10,5))\n",
    "plt.title('시간대 별 충전시간 평균')\n",
    "plt.xticks(range(0,24,1))\n",
    "plt.show()"
   ]
  },
  {
   "cell_type": "code",
   "execution_count": 28,
   "metadata": {},
   "outputs": [
    {
     "data": {
      "application/vnd.plotly.v1+json": {
       "config": {
        "plotlyServerURL": "https://plot.ly"
       },
       "data": [
        {
         "hovertemplate": "충전구분=급속<br>hour=%{x}<br>value=%{y}<extra></extra>",
         "legendgroup": "급속",
         "line": {
          "color": "#636efa",
          "dash": "solid"
         },
         "marker": {
          "symbol": "circle"
         },
         "mode": "lines",
         "name": "급속",
         "orientation": "v",
         "showlegend": true,
         "type": "scatter",
         "x": [
          0,
          1,
          2,
          3,
          4,
          5,
          6,
          7,
          8,
          9,
          10,
          11,
          12,
          13,
          14,
          15,
          16,
          17,
          18,
          19,
          20,
          21,
          22,
          23
         ],
         "xaxis": "x",
         "y": [
          2421535256410,
          2505536321031,
          2673005108556,
          2555827270123,
          2468827470686,
          2577412156032,
          2641791920175,
          2492602035152,
          2388981751265,
          2306355053375,
          2216967286150,
          2295173422151,
          2322072744499,
          2290046855476,
          2315332099527,
          2325509635974,
          2281207751467,
          2319041010168,
          2410895553987,
          2447306378647,
          2329777654458,
          2252370654556,
          2331338172502,
          2330452842377
         ],
         "yaxis": "y"
        },
        {
         "hovertemplate": "충전구분=완속<br>hour=%{x}<br>value=%{y}<extra></extra>",
         "legendgroup": "완속",
         "line": {
          "color": "#EF553B",
          "dash": "solid"
         },
         "marker": {
          "symbol": "circle"
         },
         "mode": "lines",
         "name": "완속",
         "orientation": "v",
         "showlegend": true,
         "type": "scatter",
         "x": [
          0,
          1,
          2,
          3,
          4,
          5,
          6,
          7,
          8,
          9,
          10,
          11,
          12,
          13,
          14,
          15,
          16,
          17,
          18,
          19,
          20,
          21,
          22,
          23
         ],
         "xaxis": "x",
         "y": [
          18458592356687,
          18089266666666,
          18747902097902,
          18906041666666,
          16697485714285,
          11265074626865,
          8320793372319,
          12110004665629,
          11582370175438,
          9994906189555,
          8130420648464,
          7533769808173,
          7744266758811,
          8148900069396,
          7895093525179,
          7904880763116,
          8336138709677,
          10009678268251,
          10959080382775,
          14294485250737,
          13540651205936,
          15439002666666,
          17822941011235,
          17566739669421
         ],
         "yaxis": "y"
        }
       ],
       "layout": {
        "legend": {
         "title": {
          "text": "충전구분"
         },
         "tracegroupgap": 0
        },
        "margin": {
         "t": 60
        },
        "template": {
         "data": {
          "bar": [
           {
            "error_x": {
             "color": "#2a3f5f"
            },
            "error_y": {
             "color": "#2a3f5f"
            },
            "marker": {
             "line": {
              "color": "#E5ECF6",
              "width": 0.5
             },
             "pattern": {
              "fillmode": "overlay",
              "size": 10,
              "solidity": 0.2
             }
            },
            "type": "bar"
           }
          ],
          "barpolar": [
           {
            "marker": {
             "line": {
              "color": "#E5ECF6",
              "width": 0.5
             },
             "pattern": {
              "fillmode": "overlay",
              "size": 10,
              "solidity": 0.2
             }
            },
            "type": "barpolar"
           }
          ],
          "carpet": [
           {
            "aaxis": {
             "endlinecolor": "#2a3f5f",
             "gridcolor": "white",
             "linecolor": "white",
             "minorgridcolor": "white",
             "startlinecolor": "#2a3f5f"
            },
            "baxis": {
             "endlinecolor": "#2a3f5f",
             "gridcolor": "white",
             "linecolor": "white",
             "minorgridcolor": "white",
             "startlinecolor": "#2a3f5f"
            },
            "type": "carpet"
           }
          ],
          "choropleth": [
           {
            "colorbar": {
             "outlinewidth": 0,
             "ticks": ""
            },
            "type": "choropleth"
           }
          ],
          "contour": [
           {
            "colorbar": {
             "outlinewidth": 0,
             "ticks": ""
            },
            "colorscale": [
             [
              0,
              "#0d0887"
             ],
             [
              0.1111111111111111,
              "#46039f"
             ],
             [
              0.2222222222222222,
              "#7201a8"
             ],
             [
              0.3333333333333333,
              "#9c179e"
             ],
             [
              0.4444444444444444,
              "#bd3786"
             ],
             [
              0.5555555555555556,
              "#d8576b"
             ],
             [
              0.6666666666666666,
              "#ed7953"
             ],
             [
              0.7777777777777778,
              "#fb9f3a"
             ],
             [
              0.8888888888888888,
              "#fdca26"
             ],
             [
              1,
              "#f0f921"
             ]
            ],
            "type": "contour"
           }
          ],
          "contourcarpet": [
           {
            "colorbar": {
             "outlinewidth": 0,
             "ticks": ""
            },
            "type": "contourcarpet"
           }
          ],
          "heatmap": [
           {
            "colorbar": {
             "outlinewidth": 0,
             "ticks": ""
            },
            "colorscale": [
             [
              0,
              "#0d0887"
             ],
             [
              0.1111111111111111,
              "#46039f"
             ],
             [
              0.2222222222222222,
              "#7201a8"
             ],
             [
              0.3333333333333333,
              "#9c179e"
             ],
             [
              0.4444444444444444,
              "#bd3786"
             ],
             [
              0.5555555555555556,
              "#d8576b"
             ],
             [
              0.6666666666666666,
              "#ed7953"
             ],
             [
              0.7777777777777778,
              "#fb9f3a"
             ],
             [
              0.8888888888888888,
              "#fdca26"
             ],
             [
              1,
              "#f0f921"
             ]
            ],
            "type": "heatmap"
           }
          ],
          "heatmapgl": [
           {
            "colorbar": {
             "outlinewidth": 0,
             "ticks": ""
            },
            "colorscale": [
             [
              0,
              "#0d0887"
             ],
             [
              0.1111111111111111,
              "#46039f"
             ],
             [
              0.2222222222222222,
              "#7201a8"
             ],
             [
              0.3333333333333333,
              "#9c179e"
             ],
             [
              0.4444444444444444,
              "#bd3786"
             ],
             [
              0.5555555555555556,
              "#d8576b"
             ],
             [
              0.6666666666666666,
              "#ed7953"
             ],
             [
              0.7777777777777778,
              "#fb9f3a"
             ],
             [
              0.8888888888888888,
              "#fdca26"
             ],
             [
              1,
              "#f0f921"
             ]
            ],
            "type": "heatmapgl"
           }
          ],
          "histogram": [
           {
            "marker": {
             "pattern": {
              "fillmode": "overlay",
              "size": 10,
              "solidity": 0.2
             }
            },
            "type": "histogram"
           }
          ],
          "histogram2d": [
           {
            "colorbar": {
             "outlinewidth": 0,
             "ticks": ""
            },
            "colorscale": [
             [
              0,
              "#0d0887"
             ],
             [
              0.1111111111111111,
              "#46039f"
             ],
             [
              0.2222222222222222,
              "#7201a8"
             ],
             [
              0.3333333333333333,
              "#9c179e"
             ],
             [
              0.4444444444444444,
              "#bd3786"
             ],
             [
              0.5555555555555556,
              "#d8576b"
             ],
             [
              0.6666666666666666,
              "#ed7953"
             ],
             [
              0.7777777777777778,
              "#fb9f3a"
             ],
             [
              0.8888888888888888,
              "#fdca26"
             ],
             [
              1,
              "#f0f921"
             ]
            ],
            "type": "histogram2d"
           }
          ],
          "histogram2dcontour": [
           {
            "colorbar": {
             "outlinewidth": 0,
             "ticks": ""
            },
            "colorscale": [
             [
              0,
              "#0d0887"
             ],
             [
              0.1111111111111111,
              "#46039f"
             ],
             [
              0.2222222222222222,
              "#7201a8"
             ],
             [
              0.3333333333333333,
              "#9c179e"
             ],
             [
              0.4444444444444444,
              "#bd3786"
             ],
             [
              0.5555555555555556,
              "#d8576b"
             ],
             [
              0.6666666666666666,
              "#ed7953"
             ],
             [
              0.7777777777777778,
              "#fb9f3a"
             ],
             [
              0.8888888888888888,
              "#fdca26"
             ],
             [
              1,
              "#f0f921"
             ]
            ],
            "type": "histogram2dcontour"
           }
          ],
          "mesh3d": [
           {
            "colorbar": {
             "outlinewidth": 0,
             "ticks": ""
            },
            "type": "mesh3d"
           }
          ],
          "parcoords": [
           {
            "line": {
             "colorbar": {
              "outlinewidth": 0,
              "ticks": ""
             }
            },
            "type": "parcoords"
           }
          ],
          "pie": [
           {
            "automargin": true,
            "type": "pie"
           }
          ],
          "scatter": [
           {
            "fillpattern": {
             "fillmode": "overlay",
             "size": 10,
             "solidity": 0.2
            },
            "type": "scatter"
           }
          ],
          "scatter3d": [
           {
            "line": {
             "colorbar": {
              "outlinewidth": 0,
              "ticks": ""
             }
            },
            "marker": {
             "colorbar": {
              "outlinewidth": 0,
              "ticks": ""
             }
            },
            "type": "scatter3d"
           }
          ],
          "scattercarpet": [
           {
            "marker": {
             "colorbar": {
              "outlinewidth": 0,
              "ticks": ""
             }
            },
            "type": "scattercarpet"
           }
          ],
          "scattergeo": [
           {
            "marker": {
             "colorbar": {
              "outlinewidth": 0,
              "ticks": ""
             }
            },
            "type": "scattergeo"
           }
          ],
          "scattergl": [
           {
            "marker": {
             "colorbar": {
              "outlinewidth": 0,
              "ticks": ""
             }
            },
            "type": "scattergl"
           }
          ],
          "scattermapbox": [
           {
            "marker": {
             "colorbar": {
              "outlinewidth": 0,
              "ticks": ""
             }
            },
            "type": "scattermapbox"
           }
          ],
          "scatterpolar": [
           {
            "marker": {
             "colorbar": {
              "outlinewidth": 0,
              "ticks": ""
             }
            },
            "type": "scatterpolar"
           }
          ],
          "scatterpolargl": [
           {
            "marker": {
             "colorbar": {
              "outlinewidth": 0,
              "ticks": ""
             }
            },
            "type": "scatterpolargl"
           }
          ],
          "scatterternary": [
           {
            "marker": {
             "colorbar": {
              "outlinewidth": 0,
              "ticks": ""
             }
            },
            "type": "scatterternary"
           }
          ],
          "surface": [
           {
            "colorbar": {
             "outlinewidth": 0,
             "ticks": ""
            },
            "colorscale": [
             [
              0,
              "#0d0887"
             ],
             [
              0.1111111111111111,
              "#46039f"
             ],
             [
              0.2222222222222222,
              "#7201a8"
             ],
             [
              0.3333333333333333,
              "#9c179e"
             ],
             [
              0.4444444444444444,
              "#bd3786"
             ],
             [
              0.5555555555555556,
              "#d8576b"
             ],
             [
              0.6666666666666666,
              "#ed7953"
             ],
             [
              0.7777777777777778,
              "#fb9f3a"
             ],
             [
              0.8888888888888888,
              "#fdca26"
             ],
             [
              1,
              "#f0f921"
             ]
            ],
            "type": "surface"
           }
          ],
          "table": [
           {
            "cells": {
             "fill": {
              "color": "#EBF0F8"
             },
             "line": {
              "color": "white"
             }
            },
            "header": {
             "fill": {
              "color": "#C8D4E3"
             },
             "line": {
              "color": "white"
             }
            },
            "type": "table"
           }
          ]
         },
         "layout": {
          "annotationdefaults": {
           "arrowcolor": "#2a3f5f",
           "arrowhead": 0,
           "arrowwidth": 1
          },
          "autotypenumbers": "strict",
          "coloraxis": {
           "colorbar": {
            "outlinewidth": 0,
            "ticks": ""
           }
          },
          "colorscale": {
           "diverging": [
            [
             0,
             "#8e0152"
            ],
            [
             0.1,
             "#c51b7d"
            ],
            [
             0.2,
             "#de77ae"
            ],
            [
             0.3,
             "#f1b6da"
            ],
            [
             0.4,
             "#fde0ef"
            ],
            [
             0.5,
             "#f7f7f7"
            ],
            [
             0.6,
             "#e6f5d0"
            ],
            [
             0.7,
             "#b8e186"
            ],
            [
             0.8,
             "#7fbc41"
            ],
            [
             0.9,
             "#4d9221"
            ],
            [
             1,
             "#276419"
            ]
           ],
           "sequential": [
            [
             0,
             "#0d0887"
            ],
            [
             0.1111111111111111,
             "#46039f"
            ],
            [
             0.2222222222222222,
             "#7201a8"
            ],
            [
             0.3333333333333333,
             "#9c179e"
            ],
            [
             0.4444444444444444,
             "#bd3786"
            ],
            [
             0.5555555555555556,
             "#d8576b"
            ],
            [
             0.6666666666666666,
             "#ed7953"
            ],
            [
             0.7777777777777778,
             "#fb9f3a"
            ],
            [
             0.8888888888888888,
             "#fdca26"
            ],
            [
             1,
             "#f0f921"
            ]
           ],
           "sequentialminus": [
            [
             0,
             "#0d0887"
            ],
            [
             0.1111111111111111,
             "#46039f"
            ],
            [
             0.2222222222222222,
             "#7201a8"
            ],
            [
             0.3333333333333333,
             "#9c179e"
            ],
            [
             0.4444444444444444,
             "#bd3786"
            ],
            [
             0.5555555555555556,
             "#d8576b"
            ],
            [
             0.6666666666666666,
             "#ed7953"
            ],
            [
             0.7777777777777778,
             "#fb9f3a"
            ],
            [
             0.8888888888888888,
             "#fdca26"
            ],
            [
             1,
             "#f0f921"
            ]
           ]
          },
          "colorway": [
           "#636efa",
           "#EF553B",
           "#00cc96",
           "#ab63fa",
           "#FFA15A",
           "#19d3f3",
           "#FF6692",
           "#B6E880",
           "#FF97FF",
           "#FECB52"
          ],
          "font": {
           "color": "#2a3f5f"
          },
          "geo": {
           "bgcolor": "white",
           "lakecolor": "white",
           "landcolor": "#E5ECF6",
           "showlakes": true,
           "showland": true,
           "subunitcolor": "white"
          },
          "hoverlabel": {
           "align": "left"
          },
          "hovermode": "closest",
          "mapbox": {
           "style": "light"
          },
          "paper_bgcolor": "white",
          "plot_bgcolor": "#E5ECF6",
          "polar": {
           "angularaxis": {
            "gridcolor": "white",
            "linecolor": "white",
            "ticks": ""
           },
           "bgcolor": "#E5ECF6",
           "radialaxis": {
            "gridcolor": "white",
            "linecolor": "white",
            "ticks": ""
           }
          },
          "scene": {
           "xaxis": {
            "backgroundcolor": "#E5ECF6",
            "gridcolor": "white",
            "gridwidth": 2,
            "linecolor": "white",
            "showbackground": true,
            "ticks": "",
            "zerolinecolor": "white"
           },
           "yaxis": {
            "backgroundcolor": "#E5ECF6",
            "gridcolor": "white",
            "gridwidth": 2,
            "linecolor": "white",
            "showbackground": true,
            "ticks": "",
            "zerolinecolor": "white"
           },
           "zaxis": {
            "backgroundcolor": "#E5ECF6",
            "gridcolor": "white",
            "gridwidth": 2,
            "linecolor": "white",
            "showbackground": true,
            "ticks": "",
            "zerolinecolor": "white"
           }
          },
          "shapedefaults": {
           "line": {
            "color": "#2a3f5f"
           }
          },
          "ternary": {
           "aaxis": {
            "gridcolor": "white",
            "linecolor": "white",
            "ticks": ""
           },
           "baxis": {
            "gridcolor": "white",
            "linecolor": "white",
            "ticks": ""
           },
           "bgcolor": "#E5ECF6",
           "caxis": {
            "gridcolor": "white",
            "linecolor": "white",
            "ticks": ""
           }
          },
          "title": {
           "x": 0.05
          },
          "xaxis": {
           "automargin": true,
           "gridcolor": "white",
           "linecolor": "white",
           "ticks": "",
           "title": {
            "standoff": 15
           },
           "zerolinecolor": "white",
           "zerolinewidth": 2
          },
          "yaxis": {
           "automargin": true,
           "gridcolor": "white",
           "linecolor": "white",
           "ticks": "",
           "title": {
            "standoff": 15
           },
           "zerolinecolor": "white",
           "zerolinewidth": 2
          }
         }
        },
        "xaxis": {
         "anchor": "y",
         "domain": [
          0,
          1
         ],
         "title": {
          "text": "hour"
         }
        },
        "yaxis": {
         "anchor": "x",
         "domain": [
          0,
          1
         ],
         "title": {
          "text": "value"
         }
        }
       }
      }
     },
     "metadata": {},
     "output_type": "display_data"
    }
   ],
   "source": [
    "#px.line\n",
    "px.line(avg_usingtime_df)"
   ]
  },
  {
   "cell_type": "markdown",
   "metadata": {},
   "source": [
    "**4.충전구분별 이용 현황**"
   ]
  },
  {
   "cell_type": "code",
   "execution_count": 29,
   "metadata": {},
   "outputs": [
    {
     "data": {
      "text/html": [
       "<div>\n",
       "<style scoped>\n",
       "    .dataframe tbody tr th:only-of-type {\n",
       "        vertical-align: middle;\n",
       "    }\n",
       "\n",
       "    .dataframe tbody tr th {\n",
       "        vertical-align: top;\n",
       "    }\n",
       "\n",
       "    .dataframe thead th {\n",
       "        text-align: right;\n",
       "    }\n",
       "</style>\n",
       "<table border=\"1\" class=\"dataframe\">\n",
       "  <thead>\n",
       "    <tr style=\"text-align: right;\">\n",
       "      <th>충전구분</th>\n",
       "      <th>급속</th>\n",
       "      <th>완속</th>\n",
       "    </tr>\n",
       "    <tr>\n",
       "      <th>충전소명</th>\n",
       "      <th></th>\n",
       "      <th></th>\n",
       "    </tr>\n",
       "  </thead>\n",
       "  <tbody>\n",
       "    <tr>\n",
       "      <th>양재솔라스테이션</th>\n",
       "      <td>36550.0</td>\n",
       "      <td>NaN</td>\n",
       "    </tr>\n",
       "    <tr>\n",
       "      <th>홍제1동 제1공영주차장</th>\n",
       "      <td>9920.0</td>\n",
       "      <td>NaN</td>\n",
       "    </tr>\n",
       "    <tr>\n",
       "      <th>동작구청</th>\n",
       "      <td>7884.0</td>\n",
       "      <td>NaN</td>\n",
       "    </tr>\n",
       "    <tr>\n",
       "      <th>망우제2 거주자주차장</th>\n",
       "      <td>6232.0</td>\n",
       "      <td>NaN</td>\n",
       "    </tr>\n",
       "    <tr>\n",
       "      <th>중랑구청</th>\n",
       "      <td>5498.0</td>\n",
       "      <td>NaN</td>\n",
       "    </tr>\n",
       "    <tr>\n",
       "      <th>...</th>\n",
       "      <td>...</td>\n",
       "      <td>...</td>\n",
       "    </tr>\n",
       "    <tr>\n",
       "      <th>논현2동 주민센터</th>\n",
       "      <td>NaN</td>\n",
       "      <td>49.0</td>\n",
       "    </tr>\n",
       "    <tr>\n",
       "      <th>시립서부노인 전문요양센터</th>\n",
       "      <td>NaN</td>\n",
       "      <td>47.0</td>\n",
       "    </tr>\n",
       "    <tr>\n",
       "      <th>중화1동 공영주차장</th>\n",
       "      <td>NaN</td>\n",
       "      <td>32.0</td>\n",
       "    </tr>\n",
       "    <tr>\n",
       "      <th>중랑구시설관리공단 관상복합청사 지하주차장</th>\n",
       "      <td>NaN</td>\n",
       "      <td>14.0</td>\n",
       "    </tr>\n",
       "    <tr>\n",
       "      <th>하이서울유스호스텔(지하주차장)</th>\n",
       "      <td>NaN</td>\n",
       "      <td>11.0</td>\n",
       "    </tr>\n",
       "  </tbody>\n",
       "</table>\n",
       "<p>113 rows × 2 columns</p>\n",
       "</div>"
      ],
      "text/plain": [
       "충전구분                         급속    완속\n",
       "충전소명                                 \n",
       "양재솔라스테이션                36550.0   NaN\n",
       "홍제1동 제1공영주차장             9920.0   NaN\n",
       "동작구청                     7884.0   NaN\n",
       "망우제2 거주자주차장              6232.0   NaN\n",
       "중랑구청                     5498.0   NaN\n",
       "...                         ...   ...\n",
       "논현2동 주민센터                   NaN  49.0\n",
       "시립서부노인 전문요양센터               NaN  47.0\n",
       "중화1동 공영주차장                  NaN  32.0\n",
       "중랑구시설관리공단 관상복합청사 지하주차장      NaN  14.0\n",
       "하이서울유스호스텔(지하주차장)            NaN  11.0\n",
       "\n",
       "[113 rows x 2 columns]"
      ]
     },
     "metadata": {},
     "output_type": "display_data"
    }
   ],
   "source": [
    "charge_count_df = df.groupby(['충전소명', '충전구분'])['충전소명'].count()\n",
    "charge_count_df = charge_count_df.unstack() #다중컬럼 해제\n",
    "charge_count_df = charge_count_df.sort_values(['급속', '완속'], ascending=False)\n",
    "display(charge_count_df)"
   ]
  },
  {
   "cell_type": "markdown",
   "metadata": {},
   "source": [
    "**5.충전소별 평균 충전시간**"
   ]
  },
  {
   "cell_type": "code",
   "execution_count": 30,
   "metadata": {},
   "outputs": [
    {
     "data": {
      "text/html": [
       "<div>\n",
       "<style scoped>\n",
       "    .dataframe tbody tr th:only-of-type {\n",
       "        vertical-align: middle;\n",
       "    }\n",
       "\n",
       "    .dataframe tbody tr th {\n",
       "        vertical-align: top;\n",
       "    }\n",
       "\n",
       "    .dataframe thead th {\n",
       "        text-align: right;\n",
       "    }\n",
       "</style>\n",
       "<table border=\"1\" class=\"dataframe\">\n",
       "  <thead>\n",
       "    <tr style=\"text-align: right;\">\n",
       "      <th>충전구분</th>\n",
       "      <th>급속</th>\n",
       "      <th>완속</th>\n",
       "    </tr>\n",
       "    <tr>\n",
       "      <th>충전소명</th>\n",
       "      <th></th>\n",
       "      <th></th>\n",
       "    </tr>\n",
       "  </thead>\n",
       "  <tbody>\n",
       "    <tr>\n",
       "      <th>도봉동 거주자우선주차장(가로등)</th>\n",
       "      <td>0 days 01:25:56.843181818</td>\n",
       "      <td>NaT</td>\n",
       "    </tr>\n",
       "    <tr>\n",
       "      <th>정릉천변 노상공영주차장(가로등)</th>\n",
       "      <td>0 days 01:12:22.715277777</td>\n",
       "      <td>NaT</td>\n",
       "    </tr>\n",
       "    <tr>\n",
       "      <th>청기와2 노상공영주차장(가로등)</th>\n",
       "      <td>0 days 01:10:18.296296296</td>\n",
       "      <td>NaT</td>\n",
       "    </tr>\n",
       "    <tr>\n",
       "      <th>신정4동길 노상공영주차장(가로등)</th>\n",
       "      <td>0 days 01:07:07.193220338</td>\n",
       "      <td>NaT</td>\n",
       "    </tr>\n",
       "    <tr>\n",
       "      <th>광진구 자양동 거주자우선주차장 가로등형 충전기</th>\n",
       "      <td>0 days 01:01:51.093655589</td>\n",
       "      <td>NaT</td>\n",
       "    </tr>\n",
       "    <tr>\n",
       "      <th>...</th>\n",
       "      <td>...</td>\n",
       "      <td>...</td>\n",
       "    </tr>\n",
       "    <tr>\n",
       "      <th>중화1동 공영주차장</th>\n",
       "      <td>NaT</td>\n",
       "      <td>0 days 02:35:22.500000</td>\n",
       "    </tr>\n",
       "    <tr>\n",
       "      <th>서소문청사(완속)(이설)</th>\n",
       "      <td>NaT</td>\n",
       "      <td>0 days 02:06:48.344615384</td>\n",
       "    </tr>\n",
       "    <tr>\n",
       "      <th>서소문청사(완속)</th>\n",
       "      <td>NaT</td>\n",
       "      <td>0 days 02:05:47.515923566</td>\n",
       "    </tr>\n",
       "    <tr>\n",
       "      <th>하이서울유스호스텔(지하주차장)</th>\n",
       "      <td>NaT</td>\n",
       "      <td>0 days 01:30:07.454545454</td>\n",
       "    </tr>\n",
       "    <tr>\n",
       "      <th>남산청사</th>\n",
       "      <td>NaT</td>\n",
       "      <td>0 days 01:28:54.539665407</td>\n",
       "    </tr>\n",
       "  </tbody>\n",
       "</table>\n",
       "<p>113 rows × 2 columns</p>\n",
       "</div>"
      ],
      "text/plain": [
       "충전구분                                             급속                        완속\n",
       "충전소명                                                                         \n",
       "도봉동 거주자우선주차장(가로등)         0 days 01:25:56.843181818                       NaT\n",
       "정릉천변 노상공영주차장(가로등)         0 days 01:12:22.715277777                       NaT\n",
       "청기와2 노상공영주차장(가로등)         0 days 01:10:18.296296296                       NaT\n",
       "신정4동길 노상공영주차장(가로등)        0 days 01:07:07.193220338                       NaT\n",
       "광진구 자양동 거주자우선주차장 가로등형 충전기 0 days 01:01:51.093655589                       NaT\n",
       "...                                             ...                       ...\n",
       "중화1동 공영주차장                                      NaT    0 days 02:35:22.500000\n",
       "서소문청사(완속)(이설)                                   NaT 0 days 02:06:48.344615384\n",
       "서소문청사(완속)                                       NaT 0 days 02:05:47.515923566\n",
       "하이서울유스호스텔(지하주차장)                                NaT 0 days 01:30:07.454545454\n",
       "남산청사                                            NaT 0 days 01:28:54.539665407\n",
       "\n",
       "[113 rows x 2 columns]"
      ]
     },
     "metadata": {},
     "output_type": "display_data"
    }
   ],
   "source": [
    "area_charge_df = df.groupby(['충전소명', '충전구분'])['diff_time'].mean()\n",
    "area_charge_df = area_charge_df.unstack() #다중컬럼 해제\n",
    "area_charge_df = area_charge_df.sort_values(['급속', '완속'], ascending=False)\n",
    "display(area_charge_df)"
   ]
  },
  {
   "cell_type": "code",
   "execution_count": 31,
   "metadata": {},
   "outputs": [
    {
     "data": {
      "application/vnd.plotly.v1+json": {
       "config": {
        "plotlyServerURL": "https://plot.ly"
       },
       "data": [
        {
         "hovertemplate": "충전구분=급속<br>충전소명=%{x}<br>value=%{y}<extra></extra>",
         "legendgroup": "급속",
         "marker": {
          "color": "#636efa",
          "symbol": "circle"
         },
         "mode": "markers",
         "name": "급속",
         "orientation": "v",
         "showlegend": true,
         "type": "scatter",
         "x": [
          "도봉동 거주자우선주차장(가로등)",
          "정릉천변 노상공영주차장(가로등)",
          "청기와2 노상공영주차장(가로등)",
          "신정4동길 노상공영주차장(가로등)",
          "광진구 자양동 거주자우선주차장 가로등형 충전기",
          "방학동 도깨비시장 공영주차장",
          "고척스카이돔",
          "위례성길 공영주차장 전기차 충전소",
          "중곡동 복개천 노상공영주차장(중곡동우체국 앞, 가로등)",
          "연희동 거주자우선주차장(가로등)",
          "청계8가 노상공영주차장(가로등)",
          "동작구청 후문 가로등형 충전소",
          "한화꿈에그린아파트 거주자우선주차장(가로등)",
          "수락산디자인 노상공영주차장(가로등)",
          "창2동 제4공영주차장",
          "홍제1동 제1공영주차장",
          "홍제동 주영빌딩 앞 전기차 충전소",
          "대방동(서울공고) 거주자주차장(가로등)",
          "자양우성1차아파트 앞 전기차 충전소",
          "기업은행 무교지점 앞 가로등형 충전소",
          "도봉동 실내스포츠센터",
          "곰달래5길 노상공영주차장(가로등)",
          "강남구 압구정동 토끼굴 앞 가로등형 충전기",
          "드림디포 앞 가로등형 충전소",
          "잠실 청소년센터 앞 전기차 충전소",
          "서소문청사(지하주차장)",
          "미화어린이공원 주차장(가로등)",
          "화창운수 앞 가로등형 충전소",
          "송월동차고지",
          "여의도 KBS홀 앞 전기차 충전소",
          "서소문청사(급속)",
          "홍제1동 공용주차장",
          "이문동 거주자우선주차장(가로등)",
          "중랑구청(변압기 6월 교체예정)",
          "서소문청사(지상)",
          "교통공원길 공영주차장 전기차 충전소",
          "훈련원공원 노상공영주차장(가로등)",
          "신월5동 복개 노상공영주차장(가로등)",
          "영동대로85길 노상공영주차장(요금정산소 옆, 가로등)",
          "을지로 노상공영주차장(신한은행 앞, 가로등)",
          "자양한양아파트 앞 전기차 충전소",
          "성동구 마장동 거주자우선주차장 가로등형 충전기",
          "신대방동 신라스테이 거주자주차장(가로등)",
          "서울물재생시설공단",
          "오목교역 노상공영주차장(가로등)",
          "태평로빌딩 앞 생활거점 충전소",
          "중랑구청",
          "서소문청사(주차장)",
          "어린이대공원 구의문 주차장 복합충전소",
          "중랑캠핑숲 주차장",
          "논현로28길 노상공영주차장(가로등)",
          "적선동 공영주차장",
          "국립한글박물관 지하주차장",
          "창3동 제1공영주차장",
          "창동역 공영주차장(10/30일 재오픈)",
          "방화로 노상공영주차장(가로등)",
          "영동대로85길 노상공영주차장(대명중학교 뒤, 가로등)",
          "청계3 노상공영주차장(코리아몰 앞, 가로등)",
          "미아동 공영주차장",
          "청계5 노상공영주차장(가로등)",
          "반포복개천 노상공영주차장(가로등)",
          "서소문청사(지상)(이설)",
          "노원이지센터",
          "을지로 노상공영주차장(하나은행 앞, 가로등)",
          "청계3 노상공영주차장(고려상사 앞, 가로등)",
          "휘경동 노외공영주차장(가로등)",
          "수서역 공영주차장 복합충전소",
          "망우제2 거주자주차장",
          "동작구청",
          "마곡중앙광장공영주차장",
          "어린이대공원 후문주차장",
          "성동구청",
          "양재솔라스테이션",
          "창동역 공영주차장",
          "천호역 공영주차장",
          "개화산역 공영주차장",
          "양천구청",
          "서대문구청 주차장",
          "남부초 공영주차장",
          "가산 공영주차장",
          "복정역 공영주차장",
          "강남운전면허시험장",
          "논현 제2호주차장",
          "노원세무서 거주자주차장(가로등)",
          "서울시 본관청사",
          "논현 제1호주차장",
          "난곡스마트 공영주차장",
          "청소년미래진로센터(하자센터)",
          "누상공영주차장",
          "반포복개천 노상공영주차장",
          "강남주민편익시설(가로등)",
          "망우역사문화공원 제3주차장",
          "한마음공영주차장",
          "중랑천 환경센터",
          "으뜸공원 공영주차장 전기차 충전소",
          "북가좌동 공영주차장 전기차 충전소",
          "서소문청사(후생동)",
          "미아동 도봉세무서 앞 전기차 충전소",
          "수유동 가오천 공영주차장 전기차 충전소",
          "문정동 세광교회 앞 전기차 충전소",
          "SK허브수 인근 거주자우선주차장 볼라드형 충전소",
          "문정1동 주민센터 앞 전기차 충전소",
          "시립서부노인 전문요양센터",
          "도곡정보문화도서관 볼라드형 충전소",
          "봉화산역 공영주차장 전기차 충전소",
          "중랑구시설관리공단 관상복합청사 지하주차장",
          "논현2동 주민센터",
          "미아동 축산농협 전기차 충전소",
          "중화1동 공영주차장",
          "서소문청사(완속)(이설)",
          "서소문청사(완속)",
          "하이서울유스호스텔(지하주차장)",
          "남산청사"
         ],
         "xaxis": "x",
         "y": [
          5156843181818,
          4342715277777,
          4218296296296,
          4027193220338,
          3711093655589,
          3636349514563,
          3630259574468,
          3619786476868,
          3514154069767,
          3510699745547,
          3510148743718,
          3487399753390,
          3468282608695,
          3440000000000,
          3276888000000,
          3265797739200,
          3228840816326,
          3223647058823,
          3163537162162,
          3151899339933,
          3147649717514,
          3073602739726,
          3063809243176,
          3054509193776,
          3028374811463,
          3023912396694,
          3022638888888,
          2992227027027,
          2977496213487,
          2949453703703,
          2927080661491,
          2923667083854,
          2917330729166,
          2852027226318,
          2848860946745,
          2831152039555,
          2827323636363,
          2817887755102,
          2810665789473,
          2802648437500,
          2793076759061,
          2784379054318,
          2737833333333,
          2734333333333,
          2663645390070,
          2626646469248,
          2591532580997,
          2591046025104,
          2573649544711,
          2565148148148,
          2565051282051,
          2553814083080,
          2545650000000,
          2539312500000,
          2534477876106,
          2523687500000,
          2503541062801,
          2492870731707,
          2483375000000,
          2474875000000,
          2393431654676,
          2386934756820,
          2245036363636,
          2238093103448,
          2199885572139,
          2188943181818,
          2180580977479,
          2025046126647,
          2005758695100,
          1969895902025,
          1941840516343,
          1918381373788,
          1892048478046,
          1881278488048,
          1875559370529,
          1865364792673,
          1826739590075,
          1797753250000,
          1783469328941,
          1758664906103,
          1691334060341,
          1660857142857,
          1649547619047,
          1640000000000,
          1577698455949,
          1494913043478,
          1374888888888,
          1356310344827,
          1333700000000,
          1226250000000,
          1222150000000,
          963142857142,
          795929577464,
          491700000000,
          null,
          null,
          null,
          null,
          null,
          null,
          null,
          null,
          null,
          null,
          null,
          null,
          null,
          null,
          null,
          null,
          null,
          null,
          null
         ],
         "yaxis": "y"
        },
        {
         "hovertemplate": "충전구분=완속<br>충전소명=%{x}<br>value=%{y}<extra></extra>",
         "legendgroup": "완속",
         "marker": {
          "color": "#EF553B",
          "symbol": "circle"
         },
         "mode": "markers",
         "name": "완속",
         "orientation": "v",
         "showlegend": true,
         "type": "scatter",
         "x": [
          "도봉동 거주자우선주차장(가로등)",
          "정릉천변 노상공영주차장(가로등)",
          "청기와2 노상공영주차장(가로등)",
          "신정4동길 노상공영주차장(가로등)",
          "광진구 자양동 거주자우선주차장 가로등형 충전기",
          "방학동 도깨비시장 공영주차장",
          "고척스카이돔",
          "위례성길 공영주차장 전기차 충전소",
          "중곡동 복개천 노상공영주차장(중곡동우체국 앞, 가로등)",
          "연희동 거주자우선주차장(가로등)",
          "청계8가 노상공영주차장(가로등)",
          "동작구청 후문 가로등형 충전소",
          "한화꿈에그린아파트 거주자우선주차장(가로등)",
          "수락산디자인 노상공영주차장(가로등)",
          "창2동 제4공영주차장",
          "홍제1동 제1공영주차장",
          "홍제동 주영빌딩 앞 전기차 충전소",
          "대방동(서울공고) 거주자주차장(가로등)",
          "자양우성1차아파트 앞 전기차 충전소",
          "기업은행 무교지점 앞 가로등형 충전소",
          "도봉동 실내스포츠센터",
          "곰달래5길 노상공영주차장(가로등)",
          "강남구 압구정동 토끼굴 앞 가로등형 충전기",
          "드림디포 앞 가로등형 충전소",
          "잠실 청소년센터 앞 전기차 충전소",
          "서소문청사(지하주차장)",
          "미화어린이공원 주차장(가로등)",
          "화창운수 앞 가로등형 충전소",
          "송월동차고지",
          "여의도 KBS홀 앞 전기차 충전소",
          "서소문청사(급속)",
          "홍제1동 공용주차장",
          "이문동 거주자우선주차장(가로등)",
          "중랑구청(변압기 6월 교체예정)",
          "서소문청사(지상)",
          "교통공원길 공영주차장 전기차 충전소",
          "훈련원공원 노상공영주차장(가로등)",
          "신월5동 복개 노상공영주차장(가로등)",
          "영동대로85길 노상공영주차장(요금정산소 옆, 가로등)",
          "을지로 노상공영주차장(신한은행 앞, 가로등)",
          "자양한양아파트 앞 전기차 충전소",
          "성동구 마장동 거주자우선주차장 가로등형 충전기",
          "신대방동 신라스테이 거주자주차장(가로등)",
          "서울물재생시설공단",
          "오목교역 노상공영주차장(가로등)",
          "태평로빌딩 앞 생활거점 충전소",
          "중랑구청",
          "서소문청사(주차장)",
          "어린이대공원 구의문 주차장 복합충전소",
          "중랑캠핑숲 주차장",
          "논현로28길 노상공영주차장(가로등)",
          "적선동 공영주차장",
          "국립한글박물관 지하주차장",
          "창3동 제1공영주차장",
          "창동역 공영주차장(10/30일 재오픈)",
          "방화로 노상공영주차장(가로등)",
          "영동대로85길 노상공영주차장(대명중학교 뒤, 가로등)",
          "청계3 노상공영주차장(코리아몰 앞, 가로등)",
          "미아동 공영주차장",
          "청계5 노상공영주차장(가로등)",
          "반포복개천 노상공영주차장(가로등)",
          "서소문청사(지상)(이설)",
          "노원이지센터",
          "을지로 노상공영주차장(하나은행 앞, 가로등)",
          "청계3 노상공영주차장(고려상사 앞, 가로등)",
          "휘경동 노외공영주차장(가로등)",
          "수서역 공영주차장 복합충전소",
          "망우제2 거주자주차장",
          "동작구청",
          "마곡중앙광장공영주차장",
          "어린이대공원 후문주차장",
          "성동구청",
          "양재솔라스테이션",
          "창동역 공영주차장",
          "천호역 공영주차장",
          "개화산역 공영주차장",
          "양천구청",
          "서대문구청 주차장",
          "남부초 공영주차장",
          "가산 공영주차장",
          "복정역 공영주차장",
          "강남운전면허시험장",
          "논현 제2호주차장",
          "노원세무서 거주자주차장(가로등)",
          "서울시 본관청사",
          "논현 제1호주차장",
          "난곡스마트 공영주차장",
          "청소년미래진로센터(하자센터)",
          "누상공영주차장",
          "반포복개천 노상공영주차장",
          "강남주민편익시설(가로등)",
          "망우역사문화공원 제3주차장",
          "한마음공영주차장",
          "중랑천 환경센터",
          "으뜸공원 공영주차장 전기차 충전소",
          "북가좌동 공영주차장 전기차 충전소",
          "서소문청사(후생동)",
          "미아동 도봉세무서 앞 전기차 충전소",
          "수유동 가오천 공영주차장 전기차 충전소",
          "문정동 세광교회 앞 전기차 충전소",
          "SK허브수 인근 거주자우선주차장 볼라드형 충전소",
          "문정1동 주민센터 앞 전기차 충전소",
          "시립서부노인 전문요양센터",
          "도곡정보문화도서관 볼라드형 충전소",
          "봉화산역 공영주차장 전기차 충전소",
          "중랑구시설관리공단 관상복합청사 지하주차장",
          "논현2동 주민센터",
          "미아동 축산농협 전기차 충전소",
          "중화1동 공영주차장",
          "서소문청사(완속)(이설)",
          "서소문청사(완속)",
          "하이서울유스호스텔(지하주차장)",
          "남산청사"
         ],
         "xaxis": "x2",
         "y": [
          null,
          null,
          null,
          null,
          null,
          null,
          null,
          10187823232323,
          null,
          null,
          null,
          null,
          null,
          null,
          null,
          null,
          null,
          null,
          null,
          null,
          null,
          null,
          null,
          null,
          null,
          6044500000000,
          null,
          null,
          8112578249336,
          9777140969162,
          null,
          null,
          null,
          null,
          null,
          11529890489913,
          null,
          null,
          null,
          null,
          null,
          null,
          null,
          null,
          null,
          6391331692913,
          null,
          null,
          null,
          5824400000000,
          null,
          null,
          7726633333333,
          null,
          null,
          null,
          null,
          null,
          null,
          null,
          null,
          null,
          null,
          null,
          null,
          null,
          null,
          null,
          null,
          null,
          null,
          null,
          null,
          null,
          null,
          null,
          null,
          null,
          null,
          null,
          null,
          null,
          null,
          null,
          7140967673330,
          null,
          null,
          null,
          12463909090909,
          null,
          null,
          null,
          null,
          null,
          18551418079096,
          17871526315789,
          16554269413629,
          16217553191489,
          15628448979591,
          15071875379939,
          13476539267015,
          13463401146131,
          13082170212765,
          12393048992673,
          11213479224376,
          11103071428571,
          10917734693877,
          10624780619111,
          9322500000000,
          7608344615384,
          7547515923566,
          5407454545454,
          5334539665407
         ],
         "yaxis": "y2"
        }
       ],
       "layout": {
        "annotations": [
         {
          "font": {},
          "showarrow": false,
          "text": "충전구분=급속",
          "x": 0.245,
          "xanchor": "center",
          "xref": "paper",
          "y": 1,
          "yanchor": "bottom",
          "yref": "paper"
         },
         {
          "font": {},
          "showarrow": false,
          "text": "충전구분=완속",
          "x": 0.755,
          "xanchor": "center",
          "xref": "paper",
          "y": 1,
          "yanchor": "bottom",
          "yref": "paper"
         }
        ],
        "legend": {
         "title": {
          "text": "충전구분"
         },
         "tracegroupgap": 0
        },
        "margin": {
         "t": 60
        },
        "template": {
         "data": {
          "bar": [
           {
            "error_x": {
             "color": "#2a3f5f"
            },
            "error_y": {
             "color": "#2a3f5f"
            },
            "marker": {
             "line": {
              "color": "#E5ECF6",
              "width": 0.5
             },
             "pattern": {
              "fillmode": "overlay",
              "size": 10,
              "solidity": 0.2
             }
            },
            "type": "bar"
           }
          ],
          "barpolar": [
           {
            "marker": {
             "line": {
              "color": "#E5ECF6",
              "width": 0.5
             },
             "pattern": {
              "fillmode": "overlay",
              "size": 10,
              "solidity": 0.2
             }
            },
            "type": "barpolar"
           }
          ],
          "carpet": [
           {
            "aaxis": {
             "endlinecolor": "#2a3f5f",
             "gridcolor": "white",
             "linecolor": "white",
             "minorgridcolor": "white",
             "startlinecolor": "#2a3f5f"
            },
            "baxis": {
             "endlinecolor": "#2a3f5f",
             "gridcolor": "white",
             "linecolor": "white",
             "minorgridcolor": "white",
             "startlinecolor": "#2a3f5f"
            },
            "type": "carpet"
           }
          ],
          "choropleth": [
           {
            "colorbar": {
             "outlinewidth": 0,
             "ticks": ""
            },
            "type": "choropleth"
           }
          ],
          "contour": [
           {
            "colorbar": {
             "outlinewidth": 0,
             "ticks": ""
            },
            "colorscale": [
             [
              0,
              "#0d0887"
             ],
             [
              0.1111111111111111,
              "#46039f"
             ],
             [
              0.2222222222222222,
              "#7201a8"
             ],
             [
              0.3333333333333333,
              "#9c179e"
             ],
             [
              0.4444444444444444,
              "#bd3786"
             ],
             [
              0.5555555555555556,
              "#d8576b"
             ],
             [
              0.6666666666666666,
              "#ed7953"
             ],
             [
              0.7777777777777778,
              "#fb9f3a"
             ],
             [
              0.8888888888888888,
              "#fdca26"
             ],
             [
              1,
              "#f0f921"
             ]
            ],
            "type": "contour"
           }
          ],
          "contourcarpet": [
           {
            "colorbar": {
             "outlinewidth": 0,
             "ticks": ""
            },
            "type": "contourcarpet"
           }
          ],
          "heatmap": [
           {
            "colorbar": {
             "outlinewidth": 0,
             "ticks": ""
            },
            "colorscale": [
             [
              0,
              "#0d0887"
             ],
             [
              0.1111111111111111,
              "#46039f"
             ],
             [
              0.2222222222222222,
              "#7201a8"
             ],
             [
              0.3333333333333333,
              "#9c179e"
             ],
             [
              0.4444444444444444,
              "#bd3786"
             ],
             [
              0.5555555555555556,
              "#d8576b"
             ],
             [
              0.6666666666666666,
              "#ed7953"
             ],
             [
              0.7777777777777778,
              "#fb9f3a"
             ],
             [
              0.8888888888888888,
              "#fdca26"
             ],
             [
              1,
              "#f0f921"
             ]
            ],
            "type": "heatmap"
           }
          ],
          "heatmapgl": [
           {
            "colorbar": {
             "outlinewidth": 0,
             "ticks": ""
            },
            "colorscale": [
             [
              0,
              "#0d0887"
             ],
             [
              0.1111111111111111,
              "#46039f"
             ],
             [
              0.2222222222222222,
              "#7201a8"
             ],
             [
              0.3333333333333333,
              "#9c179e"
             ],
             [
              0.4444444444444444,
              "#bd3786"
             ],
             [
              0.5555555555555556,
              "#d8576b"
             ],
             [
              0.6666666666666666,
              "#ed7953"
             ],
             [
              0.7777777777777778,
              "#fb9f3a"
             ],
             [
              0.8888888888888888,
              "#fdca26"
             ],
             [
              1,
              "#f0f921"
             ]
            ],
            "type": "heatmapgl"
           }
          ],
          "histogram": [
           {
            "marker": {
             "pattern": {
              "fillmode": "overlay",
              "size": 10,
              "solidity": 0.2
             }
            },
            "type": "histogram"
           }
          ],
          "histogram2d": [
           {
            "colorbar": {
             "outlinewidth": 0,
             "ticks": ""
            },
            "colorscale": [
             [
              0,
              "#0d0887"
             ],
             [
              0.1111111111111111,
              "#46039f"
             ],
             [
              0.2222222222222222,
              "#7201a8"
             ],
             [
              0.3333333333333333,
              "#9c179e"
             ],
             [
              0.4444444444444444,
              "#bd3786"
             ],
             [
              0.5555555555555556,
              "#d8576b"
             ],
             [
              0.6666666666666666,
              "#ed7953"
             ],
             [
              0.7777777777777778,
              "#fb9f3a"
             ],
             [
              0.8888888888888888,
              "#fdca26"
             ],
             [
              1,
              "#f0f921"
             ]
            ],
            "type": "histogram2d"
           }
          ],
          "histogram2dcontour": [
           {
            "colorbar": {
             "outlinewidth": 0,
             "ticks": ""
            },
            "colorscale": [
             [
              0,
              "#0d0887"
             ],
             [
              0.1111111111111111,
              "#46039f"
             ],
             [
              0.2222222222222222,
              "#7201a8"
             ],
             [
              0.3333333333333333,
              "#9c179e"
             ],
             [
              0.4444444444444444,
              "#bd3786"
             ],
             [
              0.5555555555555556,
              "#d8576b"
             ],
             [
              0.6666666666666666,
              "#ed7953"
             ],
             [
              0.7777777777777778,
              "#fb9f3a"
             ],
             [
              0.8888888888888888,
              "#fdca26"
             ],
             [
              1,
              "#f0f921"
             ]
            ],
            "type": "histogram2dcontour"
           }
          ],
          "mesh3d": [
           {
            "colorbar": {
             "outlinewidth": 0,
             "ticks": ""
            },
            "type": "mesh3d"
           }
          ],
          "parcoords": [
           {
            "line": {
             "colorbar": {
              "outlinewidth": 0,
              "ticks": ""
             }
            },
            "type": "parcoords"
           }
          ],
          "pie": [
           {
            "automargin": true,
            "type": "pie"
           }
          ],
          "scatter": [
           {
            "fillpattern": {
             "fillmode": "overlay",
             "size": 10,
             "solidity": 0.2
            },
            "type": "scatter"
           }
          ],
          "scatter3d": [
           {
            "line": {
             "colorbar": {
              "outlinewidth": 0,
              "ticks": ""
             }
            },
            "marker": {
             "colorbar": {
              "outlinewidth": 0,
              "ticks": ""
             }
            },
            "type": "scatter3d"
           }
          ],
          "scattercarpet": [
           {
            "marker": {
             "colorbar": {
              "outlinewidth": 0,
              "ticks": ""
             }
            },
            "type": "scattercarpet"
           }
          ],
          "scattergeo": [
           {
            "marker": {
             "colorbar": {
              "outlinewidth": 0,
              "ticks": ""
             }
            },
            "type": "scattergeo"
           }
          ],
          "scattergl": [
           {
            "marker": {
             "colorbar": {
              "outlinewidth": 0,
              "ticks": ""
             }
            },
            "type": "scattergl"
           }
          ],
          "scattermapbox": [
           {
            "marker": {
             "colorbar": {
              "outlinewidth": 0,
              "ticks": ""
             }
            },
            "type": "scattermapbox"
           }
          ],
          "scatterpolar": [
           {
            "marker": {
             "colorbar": {
              "outlinewidth": 0,
              "ticks": ""
             }
            },
            "type": "scatterpolar"
           }
          ],
          "scatterpolargl": [
           {
            "marker": {
             "colorbar": {
              "outlinewidth": 0,
              "ticks": ""
             }
            },
            "type": "scatterpolargl"
           }
          ],
          "scatterternary": [
           {
            "marker": {
             "colorbar": {
              "outlinewidth": 0,
              "ticks": ""
             }
            },
            "type": "scatterternary"
           }
          ],
          "surface": [
           {
            "colorbar": {
             "outlinewidth": 0,
             "ticks": ""
            },
            "colorscale": [
             [
              0,
              "#0d0887"
             ],
             [
              0.1111111111111111,
              "#46039f"
             ],
             [
              0.2222222222222222,
              "#7201a8"
             ],
             [
              0.3333333333333333,
              "#9c179e"
             ],
             [
              0.4444444444444444,
              "#bd3786"
             ],
             [
              0.5555555555555556,
              "#d8576b"
             ],
             [
              0.6666666666666666,
              "#ed7953"
             ],
             [
              0.7777777777777778,
              "#fb9f3a"
             ],
             [
              0.8888888888888888,
              "#fdca26"
             ],
             [
              1,
              "#f0f921"
             ]
            ],
            "type": "surface"
           }
          ],
          "table": [
           {
            "cells": {
             "fill": {
              "color": "#EBF0F8"
             },
             "line": {
              "color": "white"
             }
            },
            "header": {
             "fill": {
              "color": "#C8D4E3"
             },
             "line": {
              "color": "white"
             }
            },
            "type": "table"
           }
          ]
         },
         "layout": {
          "annotationdefaults": {
           "arrowcolor": "#2a3f5f",
           "arrowhead": 0,
           "arrowwidth": 1
          },
          "autotypenumbers": "strict",
          "coloraxis": {
           "colorbar": {
            "outlinewidth": 0,
            "ticks": ""
           }
          },
          "colorscale": {
           "diverging": [
            [
             0,
             "#8e0152"
            ],
            [
             0.1,
             "#c51b7d"
            ],
            [
             0.2,
             "#de77ae"
            ],
            [
             0.3,
             "#f1b6da"
            ],
            [
             0.4,
             "#fde0ef"
            ],
            [
             0.5,
             "#f7f7f7"
            ],
            [
             0.6,
             "#e6f5d0"
            ],
            [
             0.7,
             "#b8e186"
            ],
            [
             0.8,
             "#7fbc41"
            ],
            [
             0.9,
             "#4d9221"
            ],
            [
             1,
             "#276419"
            ]
           ],
           "sequential": [
            [
             0,
             "#0d0887"
            ],
            [
             0.1111111111111111,
             "#46039f"
            ],
            [
             0.2222222222222222,
             "#7201a8"
            ],
            [
             0.3333333333333333,
             "#9c179e"
            ],
            [
             0.4444444444444444,
             "#bd3786"
            ],
            [
             0.5555555555555556,
             "#d8576b"
            ],
            [
             0.6666666666666666,
             "#ed7953"
            ],
            [
             0.7777777777777778,
             "#fb9f3a"
            ],
            [
             0.8888888888888888,
             "#fdca26"
            ],
            [
             1,
             "#f0f921"
            ]
           ],
           "sequentialminus": [
            [
             0,
             "#0d0887"
            ],
            [
             0.1111111111111111,
             "#46039f"
            ],
            [
             0.2222222222222222,
             "#7201a8"
            ],
            [
             0.3333333333333333,
             "#9c179e"
            ],
            [
             0.4444444444444444,
             "#bd3786"
            ],
            [
             0.5555555555555556,
             "#d8576b"
            ],
            [
             0.6666666666666666,
             "#ed7953"
            ],
            [
             0.7777777777777778,
             "#fb9f3a"
            ],
            [
             0.8888888888888888,
             "#fdca26"
            ],
            [
             1,
             "#f0f921"
            ]
           ]
          },
          "colorway": [
           "#636efa",
           "#EF553B",
           "#00cc96",
           "#ab63fa",
           "#FFA15A",
           "#19d3f3",
           "#FF6692",
           "#B6E880",
           "#FF97FF",
           "#FECB52"
          ],
          "font": {
           "color": "#2a3f5f"
          },
          "geo": {
           "bgcolor": "white",
           "lakecolor": "white",
           "landcolor": "#E5ECF6",
           "showlakes": true,
           "showland": true,
           "subunitcolor": "white"
          },
          "hoverlabel": {
           "align": "left"
          },
          "hovermode": "closest",
          "mapbox": {
           "style": "light"
          },
          "paper_bgcolor": "white",
          "plot_bgcolor": "#E5ECF6",
          "polar": {
           "angularaxis": {
            "gridcolor": "white",
            "linecolor": "white",
            "ticks": ""
           },
           "bgcolor": "#E5ECF6",
           "radialaxis": {
            "gridcolor": "white",
            "linecolor": "white",
            "ticks": ""
           }
          },
          "scene": {
           "xaxis": {
            "backgroundcolor": "#E5ECF6",
            "gridcolor": "white",
            "gridwidth": 2,
            "linecolor": "white",
            "showbackground": true,
            "ticks": "",
            "zerolinecolor": "white"
           },
           "yaxis": {
            "backgroundcolor": "#E5ECF6",
            "gridcolor": "white",
            "gridwidth": 2,
            "linecolor": "white",
            "showbackground": true,
            "ticks": "",
            "zerolinecolor": "white"
           },
           "zaxis": {
            "backgroundcolor": "#E5ECF6",
            "gridcolor": "white",
            "gridwidth": 2,
            "linecolor": "white",
            "showbackground": true,
            "ticks": "",
            "zerolinecolor": "white"
           }
          },
          "shapedefaults": {
           "line": {
            "color": "#2a3f5f"
           }
          },
          "ternary": {
           "aaxis": {
            "gridcolor": "white",
            "linecolor": "white",
            "ticks": ""
           },
           "baxis": {
            "gridcolor": "white",
            "linecolor": "white",
            "ticks": ""
           },
           "bgcolor": "#E5ECF6",
           "caxis": {
            "gridcolor": "white",
            "linecolor": "white",
            "ticks": ""
           }
          },
          "title": {
           "x": 0.05
          },
          "xaxis": {
           "automargin": true,
           "gridcolor": "white",
           "linecolor": "white",
           "ticks": "",
           "title": {
            "standoff": 15
           },
           "zerolinecolor": "white",
           "zerolinewidth": 2
          },
          "yaxis": {
           "automargin": true,
           "gridcolor": "white",
           "linecolor": "white",
           "ticks": "",
           "title": {
            "standoff": 15
           },
           "zerolinecolor": "white",
           "zerolinewidth": 2
          }
         }
        },
        "xaxis": {
         "anchor": "y",
         "domain": [
          0,
          0.49
         ],
         "title": {
          "text": "충전소명"
         }
        },
        "xaxis2": {
         "anchor": "y2",
         "domain": [
          0.51,
          1
         ],
         "matches": "x",
         "title": {
          "text": "충전소명"
         }
        },
        "yaxis": {
         "anchor": "x",
         "domain": [
          0,
          1
         ],
         "title": {
          "text": "value"
         }
        },
        "yaxis2": {
         "anchor": "x2",
         "domain": [
          0,
          1
         ],
         "matches": "y",
         "showticklabels": false
        }
       }
      }
     },
     "metadata": {},
     "output_type": "display_data"
    }
   ],
   "source": [
    "px.scatter(area_charge_df, facet_col='충전구분')"
   ]
  },
  {
   "cell_type": "code",
   "execution_count": 32,
   "metadata": {},
   "outputs": [],
   "source": [
    "#저장\n",
    "#df.to_csv(\"충전기데이터병합본.csv\", index = False)"
   ]
  },
  {
   "cell_type": "markdown",
   "metadata": {},
   "source": [
    "## 용도지역 데이터"
   ]
  },
  {
   "cell_type": "code",
   "execution_count": 33,
   "metadata": {},
   "outputs": [],
   "source": [
    "#데이터 불러오기\n",
    "df1 = pd.read_csv('/Users/joozero/Desktop/joozero/서울시 용도지역 현황 통계.csv', encoding='utf-8')"
   ]
  },
  {
   "cell_type": "code",
   "execution_count": 34,
   "metadata": {},
   "outputs": [
    {
     "data": {
      "text/html": [
       "<div>\n",
       "<style scoped>\n",
       "    .dataframe tbody tr th:only-of-type {\n",
       "        vertical-align: middle;\n",
       "    }\n",
       "\n",
       "    .dataframe tbody tr th {\n",
       "        vertical-align: top;\n",
       "    }\n",
       "\n",
       "    .dataframe thead th {\n",
       "        text-align: right;\n",
       "    }\n",
       "</style>\n",
       "<table border=\"1\" class=\"dataframe\">\n",
       "  <thead>\n",
       "    <tr style=\"text-align: right;\">\n",
       "      <th>자치구별(1)</th>\n",
       "      <th>(자치구별(2), 자치구별(2), 자치구별(2), 자치구별(2))</th>\n",
       "      <th>(용도지역총합계, 소계, 소계, 소계)</th>\n",
       "      <th>(용도지역총합계, 주거지역, 소계, 소계)</th>\n",
       "      <th>(용도지역총합계, 주거지역, 전용주거지역, 소계)</th>\n",
       "      <th>(용도지역총합계, 주거지역, 전용주거지역, 제1종전용)</th>\n",
       "      <th>(용도지역총합계, 주거지역, 전용주거지역, 제2종전용)</th>\n",
       "      <th>(용도지역총합계, 주거지역, 일반주거지역, 소계)</th>\n",
       "      <th>(용도지역총합계, 주거지역, 일반주거지역, 제1종일반)</th>\n",
       "      <th>(용도지역총합계, 주거지역, 일반주거지역, 제2종일반(7층이하))</th>\n",
       "      <th>(용도지역총합계, 주거지역, 일반주거지역, 제2종일반)</th>\n",
       "      <th>...</th>\n",
       "      <th>(용도지역총합계, 상업지역, 근린, 소계)</th>\n",
       "      <th>(용도지역총합계, 상업지역, 유통, 소계)</th>\n",
       "      <th>(용도지역총합계, 공업지역, 소계, 소계)</th>\n",
       "      <th>(용도지역총합계, 공업지역, 전용, 소계)</th>\n",
       "      <th>(용도지역총합계, 공업지역, 일반, 소계)</th>\n",
       "      <th>(용도지역총합계, 공업지역, 준공업, 소계)</th>\n",
       "      <th>(용도지역총합계, 녹지지역, 소계, 소계)</th>\n",
       "      <th>(용도지역총합계, 녹지지역, 보전, 소계)</th>\n",
       "      <th>(용도지역총합계, 녹지지역, 생산, 소계)</th>\n",
       "      <th>(용도지역총합계, 녹지지역, 지연, 소계)</th>\n",
       "    </tr>\n",
       "    <tr>\n",
       "      <th>자치구별(1)</th>\n",
       "      <th></th>\n",
       "      <th></th>\n",
       "      <th></th>\n",
       "      <th></th>\n",
       "      <th></th>\n",
       "      <th></th>\n",
       "      <th></th>\n",
       "      <th></th>\n",
       "      <th></th>\n",
       "      <th></th>\n",
       "      <th></th>\n",
       "      <th></th>\n",
       "      <th></th>\n",
       "      <th></th>\n",
       "      <th></th>\n",
       "      <th></th>\n",
       "      <th></th>\n",
       "      <th></th>\n",
       "      <th></th>\n",
       "      <th></th>\n",
       "      <th></th>\n",
       "    </tr>\n",
       "  </thead>\n",
       "  <tbody>\n",
       "    <tr>\n",
       "      <th>서울시</th>\n",
       "      <td>소계</td>\n",
       "      <td>605598290</td>\n",
       "      <td>326503779</td>\n",
       "      <td>5891548</td>\n",
       "      <td>5047184</td>\n",
       "      <td>844365</td>\n",
       "      <td>306807626</td>\n",
       "      <td>67524772</td>\n",
       "      <td>85315392</td>\n",
       "      <td>55714514</td>\n",
       "      <td>...</td>\n",
       "      <td>881448</td>\n",
       "      <td>1524439</td>\n",
       "      <td>19974140</td>\n",
       "      <td>-</td>\n",
       "      <td>-</td>\n",
       "      <td>19974140</td>\n",
       "      <td>233471327</td>\n",
       "      <td>72603</td>\n",
       "      <td>1057622</td>\n",
       "      <td>232341102</td>\n",
       "    </tr>\n",
       "    <tr>\n",
       "      <th>서울시</th>\n",
       "      <td>종로구</td>\n",
       "      <td>23972507</td>\n",
       "      <td>9830838</td>\n",
       "      <td>1589410</td>\n",
       "      <td>1589410</td>\n",
       "      <td>-</td>\n",
       "      <td>8042329</td>\n",
       "      <td>4376462</td>\n",
       "      <td>2198489</td>\n",
       "      <td>704764</td>\n",
       "      <td>...</td>\n",
       "      <td>-</td>\n",
       "      <td>-</td>\n",
       "      <td>-</td>\n",
       "      <td>-</td>\n",
       "      <td>-</td>\n",
       "      <td>-</td>\n",
       "      <td>11204384</td>\n",
       "      <td>-</td>\n",
       "      <td>-</td>\n",
       "      <td>11204384</td>\n",
       "    </tr>\n",
       "    <tr>\n",
       "      <th>서울시</th>\n",
       "      <td>중구</td>\n",
       "      <td>9974292</td>\n",
       "      <td>6013132</td>\n",
       "      <td>-</td>\n",
       "      <td>-</td>\n",
       "      <td>-</td>\n",
       "      <td>5740685</td>\n",
       "      <td>2767697</td>\n",
       "      <td>1264611</td>\n",
       "      <td>514821</td>\n",
       "      <td>...</td>\n",
       "      <td>-</td>\n",
       "      <td>-</td>\n",
       "      <td>-</td>\n",
       "      <td>-</td>\n",
       "      <td>-</td>\n",
       "      <td>-</td>\n",
       "      <td>25135</td>\n",
       "      <td>-</td>\n",
       "      <td>-</td>\n",
       "      <td>25135</td>\n",
       "    </tr>\n",
       "    <tr>\n",
       "      <th>서울시</th>\n",
       "      <td>용산구</td>\n",
       "      <td>21898766</td>\n",
       "      <td>12181023</td>\n",
       "      <td>224153</td>\n",
       "      <td>224153</td>\n",
       "      <td>-</td>\n",
       "      <td>11353194</td>\n",
       "      <td>4097899</td>\n",
       "      <td>3251844</td>\n",
       "      <td>1243251</td>\n",
       "      <td>...</td>\n",
       "      <td>-</td>\n",
       "      <td>-</td>\n",
       "      <td>-</td>\n",
       "      <td>-</td>\n",
       "      <td>-</td>\n",
       "      <td>-</td>\n",
       "      <td>8443345</td>\n",
       "      <td>72603</td>\n",
       "      <td>-</td>\n",
       "      <td>8370742</td>\n",
       "    </tr>\n",
       "    <tr>\n",
       "      <th>서울시</th>\n",
       "      <td>성동구</td>\n",
       "      <td>16804426</td>\n",
       "      <td>9931728</td>\n",
       "      <td>-</td>\n",
       "      <td>-</td>\n",
       "      <td>-</td>\n",
       "      <td>9657083</td>\n",
       "      <td>2386869</td>\n",
       "      <td>3048494</td>\n",
       "      <td>1255166</td>\n",
       "      <td>...</td>\n",
       "      <td>4152</td>\n",
       "      <td>72405</td>\n",
       "      <td>2051234</td>\n",
       "      <td>-</td>\n",
       "      <td>-</td>\n",
       "      <td>2051234</td>\n",
       "      <td>4332406</td>\n",
       "      <td>-</td>\n",
       "      <td>-</td>\n",
       "      <td>4332406</td>\n",
       "    </tr>\n",
       "    <tr>\n",
       "      <th>서울시</th>\n",
       "      <td>광진구</td>\n",
       "      <td>17075115</td>\n",
       "      <td>11593626</td>\n",
       "      <td>140987</td>\n",
       "      <td>140987</td>\n",
       "      <td>-</td>\n",
       "      <td>10465173</td>\n",
       "      <td>2239038</td>\n",
       "      <td>2895373</td>\n",
       "      <td>2807352</td>\n",
       "      <td>...</td>\n",
       "      <td>-</td>\n",
       "      <td>-</td>\n",
       "      <td>-</td>\n",
       "      <td>-</td>\n",
       "      <td>-</td>\n",
       "      <td>-</td>\n",
       "      <td>5274873</td>\n",
       "      <td>-</td>\n",
       "      <td>-</td>\n",
       "      <td>5274873</td>\n",
       "    </tr>\n",
       "    <tr>\n",
       "      <th>서울시</th>\n",
       "      <td>동대문구</td>\n",
       "      <td>14245433</td>\n",
       "      <td>13036995</td>\n",
       "      <td>-</td>\n",
       "      <td>-</td>\n",
       "      <td>-</td>\n",
       "      <td>12465015</td>\n",
       "      <td>2655472</td>\n",
       "      <td>3515108</td>\n",
       "      <td>2378304</td>\n",
       "      <td>...</td>\n",
       "      <td>68979</td>\n",
       "      <td>5593</td>\n",
       "      <td>-</td>\n",
       "      <td>-</td>\n",
       "      <td>-</td>\n",
       "      <td>-</td>\n",
       "      <td>383081</td>\n",
       "      <td>-</td>\n",
       "      <td>-</td>\n",
       "      <td>383081</td>\n",
       "    </tr>\n",
       "    <tr>\n",
       "      <th>서울시</th>\n",
       "      <td>중랑구</td>\n",
       "      <td>18531520</td>\n",
       "      <td>10808521</td>\n",
       "      <td>-</td>\n",
       "      <td>-</td>\n",
       "      <td>-</td>\n",
       "      <td>9966445</td>\n",
       "      <td>1034286</td>\n",
       "      <td>4297193</td>\n",
       "      <td>1640845</td>\n",
       "      <td>...</td>\n",
       "      <td>106596</td>\n",
       "      <td>-</td>\n",
       "      <td>-</td>\n",
       "      <td>-</td>\n",
       "      <td>-</td>\n",
       "      <td>-</td>\n",
       "      <td>7352187</td>\n",
       "      <td>-</td>\n",
       "      <td>-</td>\n",
       "      <td>7352187</td>\n",
       "    </tr>\n",
       "    <tr>\n",
       "      <th>서울시</th>\n",
       "      <td>성북구</td>\n",
       "      <td>24621432</td>\n",
       "      <td>17826125</td>\n",
       "      <td>990658</td>\n",
       "      <td>990658</td>\n",
       "      <td>-</td>\n",
       "      <td>16267757</td>\n",
       "      <td>5204458</td>\n",
       "      <td>4418093</td>\n",
       "      <td>2460528</td>\n",
       "      <td>...</td>\n",
       "      <td>64396</td>\n",
       "      <td>-</td>\n",
       "      <td>-</td>\n",
       "      <td>-</td>\n",
       "      <td>-</td>\n",
       "      <td>-</td>\n",
       "      <td>6394593</td>\n",
       "      <td>-</td>\n",
       "      <td>-</td>\n",
       "      <td>6394593</td>\n",
       "    </tr>\n",
       "    <tr>\n",
       "      <th>서울시</th>\n",
       "      <td>강북구</td>\n",
       "      <td>23636019</td>\n",
       "      <td>10890430</td>\n",
       "      <td>-</td>\n",
       "      <td>-</td>\n",
       "      <td>-</td>\n",
       "      <td>10459698</td>\n",
       "      <td>2840961</td>\n",
       "      <td>4242062</td>\n",
       "      <td>1028274</td>\n",
       "      <td>...</td>\n",
       "      <td>7114</td>\n",
       "      <td>-</td>\n",
       "      <td>-</td>\n",
       "      <td>-</td>\n",
       "      <td>-</td>\n",
       "      <td>-</td>\n",
       "      <td>12464840</td>\n",
       "      <td>-</td>\n",
       "      <td>-</td>\n",
       "      <td>12464840</td>\n",
       "    </tr>\n",
       "  </tbody>\n",
       "</table>\n",
       "<p>10 rows × 25 columns</p>\n",
       "</div>"
      ],
      "text/plain": [
       "자치구별(1) (자치구별(2), 자치구별(2), 자치구별(2), 자치구별(2)) (용도지역총합계, 소계, 소계, 소계)  \\\n",
       "자치구별(1)                                                              \n",
       "서울시                                       소계             605598290   \n",
       "서울시                                      종로구              23972507   \n",
       "서울시                                       중구               9974292   \n",
       "서울시                                      용산구              21898766   \n",
       "서울시                                      성동구              16804426   \n",
       "서울시                                      광진구              17075115   \n",
       "서울시                                     동대문구              14245433   \n",
       "서울시                                      중랑구              18531520   \n",
       "서울시                                      성북구              24621432   \n",
       "서울시                                      강북구              23636019   \n",
       "\n",
       "자치구별(1) (용도지역총합계, 주거지역, 소계, 소계) (용도지역총합계, 주거지역, 전용주거지역, 소계)  \\\n",
       "자치구별(1)                                                       \n",
       "서울시                   326503779                     5891548   \n",
       "서울시                     9830838                     1589410   \n",
       "서울시                     6013132                           -   \n",
       "서울시                    12181023                      224153   \n",
       "서울시                     9931728                           -   \n",
       "서울시                    11593626                      140987   \n",
       "서울시                    13036995                           -   \n",
       "서울시                    10808521                           -   \n",
       "서울시                    17826125                      990658   \n",
       "서울시                    10890430                           -   \n",
       "\n",
       "자치구별(1) (용도지역총합계, 주거지역, 전용주거지역, 제1종전용) (용도지역총합계, 주거지역, 전용주거지역, 제2종전용)  \\\n",
       "자치구별(1)                                                                 \n",
       "서울시                            5047184                         844365   \n",
       "서울시                            1589410                              -   \n",
       "서울시                                  -                              -   \n",
       "서울시                             224153                              -   \n",
       "서울시                                  -                              -   \n",
       "서울시                             140987                              -   \n",
       "서울시                                  -                              -   \n",
       "서울시                                  -                              -   \n",
       "서울시                             990658                              -   \n",
       "서울시                                  -                              -   \n",
       "\n",
       "자치구별(1) (용도지역총합계, 주거지역, 일반주거지역, 소계) (용도지역총합계, 주거지역, 일반주거지역, 제1종일반)  \\\n",
       "자치구별(1)                                                              \n",
       "서울시                       306807626                       67524772   \n",
       "서울시                         8042329                        4376462   \n",
       "서울시                         5740685                        2767697   \n",
       "서울시                        11353194                        4097899   \n",
       "서울시                         9657083                        2386869   \n",
       "서울시                        10465173                        2239038   \n",
       "서울시                        12465015                        2655472   \n",
       "서울시                         9966445                        1034286   \n",
       "서울시                        16267757                        5204458   \n",
       "서울시                        10459698                        2840961   \n",
       "\n",
       "자치구별(1) (용도지역총합계, 주거지역, 일반주거지역, 제2종일반(7층이하)) (용도지역총합계, 주거지역, 일반주거지역, 제2종일반)  \\\n",
       "자치구별(1)                                                                       \n",
       "서울시                                 85315392                       55714514   \n",
       "서울시                                  2198489                         704764   \n",
       "서울시                                  1264611                         514821   \n",
       "서울시                                  3251844                        1243251   \n",
       "서울시                                  3048494                        1255166   \n",
       "서울시                                  2895373                        2807352   \n",
       "서울시                                  3515108                        2378304   \n",
       "서울시                                  4297193                        1640845   \n",
       "서울시                                  4418093                        2460528   \n",
       "서울시                                  4242062                        1028274   \n",
       "\n",
       "자치구별(1)  ... (용도지역총합계, 상업지역, 근린, 소계) (용도지역총합계, 상업지역, 유통, 소계)  \\\n",
       "자치구별(1)  ...                                                   \n",
       "서울시      ...                  881448                 1524439   \n",
       "서울시      ...                       -                       -   \n",
       "서울시      ...                       -                       -   \n",
       "서울시      ...                       -                       -   \n",
       "서울시      ...                    4152                   72405   \n",
       "서울시      ...                       -                       -   \n",
       "서울시      ...                   68979                    5593   \n",
       "서울시      ...                  106596                       -   \n",
       "서울시      ...                   64396                       -   \n",
       "서울시      ...                    7114                       -   \n",
       "\n",
       "자치구별(1) (용도지역총합계, 공업지역, 소계, 소계) (용도지역총합계, 공업지역, 전용, 소계)  \\\n",
       "자치구별(1)                                                   \n",
       "서울시                    19974140                       -   \n",
       "서울시                           -                       -   \n",
       "서울시                           -                       -   \n",
       "서울시                           -                       -   \n",
       "서울시                     2051234                       -   \n",
       "서울시                           -                       -   \n",
       "서울시                           -                       -   \n",
       "서울시                           -                       -   \n",
       "서울시                           -                       -   \n",
       "서울시                           -                       -   \n",
       "\n",
       "자치구별(1) (용도지역총합계, 공업지역, 일반, 소계) (용도지역총합계, 공업지역, 준공업, 소계)  \\\n",
       "자치구별(1)                                                    \n",
       "서울시                           -                 19974140   \n",
       "서울시                           -                        -   \n",
       "서울시                           -                        -   \n",
       "서울시                           -                        -   \n",
       "서울시                           -                  2051234   \n",
       "서울시                           -                        -   \n",
       "서울시                           -                        -   \n",
       "서울시                           -                        -   \n",
       "서울시                           -                        -   \n",
       "서울시                           -                        -   \n",
       "\n",
       "자치구별(1) (용도지역총합계, 녹지지역, 소계, 소계) (용도지역총합계, 녹지지역, 보전, 소계)  \\\n",
       "자치구별(1)                                                   \n",
       "서울시                   233471327                   72603   \n",
       "서울시                    11204384                       -   \n",
       "서울시                       25135                       -   \n",
       "서울시                     8443345                   72603   \n",
       "서울시                     4332406                       -   \n",
       "서울시                     5274873                       -   \n",
       "서울시                      383081                       -   \n",
       "서울시                     7352187                       -   \n",
       "서울시                     6394593                       -   \n",
       "서울시                    12464840                       -   \n",
       "\n",
       "자치구별(1) (용도지역총합계, 녹지지역, 생산, 소계) (용도지역총합계, 녹지지역, 지연, 소계)  \n",
       "자치구별(1)                                                  \n",
       "서울시                     1057622               232341102  \n",
       "서울시                           -                11204384  \n",
       "서울시                           -                   25135  \n",
       "서울시                           -                 8370742  \n",
       "서울시                           -                 4332406  \n",
       "서울시                           -                 5274873  \n",
       "서울시                           -                  383081  \n",
       "서울시                           -                 7352187  \n",
       "서울시                           -                 6394593  \n",
       "서울시                           -                12464840  \n",
       "\n",
       "[10 rows x 25 columns]"
      ]
     },
     "execution_count": 34,
     "metadata": {},
     "output_type": "execute_result"
    }
   ],
   "source": [
    "df1.set_index(\"자치구별(1)\", inplace=True)\n",
    "df1 = df1.transpose()\n",
    "df1.set_index(\"자치구별(1)\", inplace=True)\n",
    "df1 = df1.transpose()\n",
    "df1.head(10)"
   ]
  },
  {
   "cell_type": "markdown",
   "metadata": {},
   "source": [
    "## 재개발 데이터"
   ]
  },
  {
   "cell_type": "code",
   "execution_count": 35,
   "metadata": {},
   "outputs": [],
   "source": [
    "#데이터 불러오기\n",
    "df2 = pd.read_csv('/Users/joozero/Desktop/joozero/서울시 재개발 재건축 정비사업 현황.csv', encoding='cp949')"
   ]
  },
  {
   "cell_type": "code",
   "execution_count": 36,
   "metadata": {},
   "outputs": [
    {
     "data": {
      "text/plain": [
       "Index(['사업번호', '자치구', '법정동', '사업구분', '운영구분', '추진위원회/조합명', '대표지번', '진행단계', '상태',\n",
       "       '토지등 소유자 수', '정비구역명칭', '정비구역위치', '정비구역면적(㎡)', '건축연면적(㎡)', '용도지역',\n",
       "       '용도지구', '택지면적(㎡)', '도로면적(㎡)', '공원면적(㎡)', '녹지면적(㎡)', '공공공지면적(㎡)',\n",
       "       '학교면적(㎡)', '기타면적(㎡)', '주용도', '건폐율', '용적률', '높이(m)', '지상층수', '지하층수',\n",
       "       '분양세대총수', '60㎡이하', '60㎡초과~85㎡이하', '85㎡초과', '임대세대총수', '(임대)40㎡이하',\n",
       "       '(임대)40㎡초과~50㎡이하', '(임대)50㎡초과', '건축계획비고', '위치도', '조감도', '배치도',\n",
       "       '조합사무실 주소', '조합사무실 전화번호'],\n",
       "      dtype='object')"
      ]
     },
     "execution_count": 36,
     "metadata": {},
     "output_type": "execute_result"
    }
   ],
   "source": [
    "df2.columns"
   ]
  },
  {
   "cell_type": "code",
   "execution_count": 37,
   "metadata": {},
   "outputs": [
    {
     "data": {
      "text/html": [
       "<div>\n",
       "<style scoped>\n",
       "    .dataframe tbody tr th:only-of-type {\n",
       "        vertical-align: middle;\n",
       "    }\n",
       "\n",
       "    .dataframe tbody tr th {\n",
       "        vertical-align: top;\n",
       "    }\n",
       "\n",
       "    .dataframe thead th {\n",
       "        text-align: right;\n",
       "    }\n",
       "</style>\n",
       "<table border=\"1\" class=\"dataframe\">\n",
       "  <thead>\n",
       "    <tr style=\"text-align: right;\">\n",
       "      <th></th>\n",
       "      <th>사업번호</th>\n",
       "      <th>자치구</th>\n",
       "      <th>법정동</th>\n",
       "      <th>사업구분</th>\n",
       "      <th>운영구분</th>\n",
       "      <th>추진위원회/조합명</th>\n",
       "      <th>대표지번</th>\n",
       "      <th>진행단계</th>\n",
       "      <th>상태</th>\n",
       "      <th>토지등 소유자 수</th>\n",
       "      <th>...</th>\n",
       "      <th>임대세대총수</th>\n",
       "      <th>(임대)40㎡이하</th>\n",
       "      <th>(임대)40㎡초과~50㎡이하</th>\n",
       "      <th>(임대)50㎡초과</th>\n",
       "      <th>건축계획비고</th>\n",
       "      <th>위치도</th>\n",
       "      <th>조감도</th>\n",
       "      <th>배치도</th>\n",
       "      <th>조합사무실 주소</th>\n",
       "      <th>조합사무실 전화번호</th>\n",
       "    </tr>\n",
       "  </thead>\n",
       "  <tbody>\n",
       "    <tr>\n",
       "      <th>0</th>\n",
       "      <td>11110-100002009</td>\n",
       "      <td>종로구</td>\n",
       "      <td>무악동</td>\n",
       "      <td>재건축</td>\n",
       "      <td>조합청산</td>\n",
       "      <td>무악연립제2주택재건축정비사업조합</td>\n",
       "      <td>무악동 71-1</td>\n",
       "      <td>조합청산</td>\n",
       "      <td>운영</td>\n",
       "      <td>60</td>\n",
       "      <td>...</td>\n",
       "      <td>NaN</td>\n",
       "      <td>NaN</td>\n",
       "      <td>NaN</td>\n",
       "      <td>NaN</td>\n",
       "      <td>NaN</td>\n",
       "      <td>/servlet/image/assc/20100217153930126638877090...</td>\n",
       "      <td>/servlet/image/assc/2009/12/200912301628331262...</td>\n",
       "      <td>/servlet/image/assc/2010/03/201003301443011269...</td>\n",
       "      <td>NaN</td>\n",
       "      <td>02-736-4612</td>\n",
       "    </tr>\n",
       "    <tr>\n",
       "      <th>1</th>\n",
       "      <td>11110-100002000</td>\n",
       "      <td>종로구</td>\n",
       "      <td>신영동</td>\n",
       "      <td>재개발(주택정비형)</td>\n",
       "      <td>조합</td>\n",
       "      <td>신영제1구역 주택재개발정비사업조합</td>\n",
       "      <td>신영동 158-2</td>\n",
       "      <td>관리처분인가</td>\n",
       "      <td>운영</td>\n",
       "      <td>56</td>\n",
       "      <td>...</td>\n",
       "      <td>NaN</td>\n",
       "      <td>NaN</td>\n",
       "      <td>NaN</td>\n",
       "      <td>NaN</td>\n",
       "      <td>NaN</td>\n",
       "      <td>/servlet/image/assc/20100310114115126818887557...</td>\n",
       "      <td>/servlet/image/assc/2023/07/202307241353051690...</td>\n",
       "      <td>/servlet/image?url=images/assc/2022/03/2022031...</td>\n",
       "      <td>서울특별시 종로구 자하문로42길 29 (신영동)</td>\n",
       "      <td>02-395-0045</td>\n",
       "    </tr>\n",
       "    <tr>\n",
       "      <th>2</th>\n",
       "      <td>11110-900000727</td>\n",
       "      <td>종로구</td>\n",
       "      <td>교남동</td>\n",
       "      <td>재개발(주택정비형)</td>\n",
       "      <td>공공지원자</td>\n",
       "      <td>돈의문2구역 도시정비형 재개발사업(신탁시행자 방식)</td>\n",
       "      <td>교남동 28</td>\n",
       "      <td>정비구역지정</td>\n",
       "      <td>운영</td>\n",
       "      <td>0</td>\n",
       "      <td>...</td>\n",
       "      <td>NaN</td>\n",
       "      <td>NaN</td>\n",
       "      <td>NaN</td>\n",
       "      <td>NaN</td>\n",
       "      <td>85초과없어 저장안됨</td>\n",
       "      <td>NaN</td>\n",
       "      <td>NaN</td>\n",
       "      <td>NaN</td>\n",
       "      <td>NaN</td>\n",
       "      <td>NaN</td>\n",
       "    </tr>\n",
       "    <tr>\n",
       "      <th>3</th>\n",
       "      <td>11110-900001050</td>\n",
       "      <td>종로구</td>\n",
       "      <td>창신동</td>\n",
       "      <td>재개발(주택정비형)</td>\n",
       "      <td>추진위원회</td>\n",
       "      <td>창신동23?숭인동56일대 주택재개발 정비사업(추정분담금 계산용 홈페이지)</td>\n",
       "      <td>창신동 23-2</td>\n",
       "      <td>조합설립추진위원회승인</td>\n",
       "      <td>운영</td>\n",
       "      <td>0</td>\n",
       "      <td>...</td>\n",
       "      <td>NaN</td>\n",
       "      <td>NaN</td>\n",
       "      <td>NaN</td>\n",
       "      <td>NaN</td>\n",
       "      <td>NaN</td>\n",
       "      <td>NaN</td>\n",
       "      <td>NaN</td>\n",
       "      <td>NaN</td>\n",
       "      <td>NaN</td>\n",
       "      <td>NaN</td>\n",
       "    </tr>\n",
       "    <tr>\n",
       "      <th>4</th>\n",
       "      <td>11110-100003002</td>\n",
       "      <td>종로구</td>\n",
       "      <td>교남동</td>\n",
       "      <td>재개발(도시정비형)</td>\n",
       "      <td>조합</td>\n",
       "      <td>돈의문1구역도시환경정비사업조합</td>\n",
       "      <td>교남동 62-1</td>\n",
       "      <td>조합해산</td>\n",
       "      <td>운영</td>\n",
       "      <td>989</td>\n",
       "      <td>...</td>\n",
       "      <td>496.0</td>\n",
       "      <td>244.0</td>\n",
       "      <td>201.0</td>\n",
       "      <td>51.0</td>\n",
       "      <td>NaN</td>\n",
       "      <td>/servlet/image/assc/20100305104933126775377359...</td>\n",
       "      <td>/servlet/image/assc/2009/12/200912301628331262...</td>\n",
       "      <td>/servlet/image/assc/2010/01/201001121650111263...</td>\n",
       "      <td>서울특별시 종로구 송월길 136, 403호 (행촌동)</td>\n",
       "      <td>02-720-5834</td>\n",
       "    </tr>\n",
       "  </tbody>\n",
       "</table>\n",
       "<p>5 rows × 43 columns</p>\n",
       "</div>"
      ],
      "text/plain": [
       "              사업번호  자치구  법정동        사업구분   운영구분  \\\n",
       "0  11110-100002009  종로구  무악동         재건축   조합청산   \n",
       "1  11110-100002000  종로구  신영동  재개발(주택정비형)     조합   \n",
       "2  11110-900000727  종로구  교남동  재개발(주택정비형)  공공지원자   \n",
       "3  11110-900001050  종로구  창신동  재개발(주택정비형)  추진위원회   \n",
       "4  11110-100003002  종로구  교남동  재개발(도시정비형)     조합   \n",
       "\n",
       "                                  추진위원회/조합명       대표지번         진행단계  상태  \\\n",
       "0                         무악연립제2주택재건축정비사업조합   무악동 71-1         조합청산  운영   \n",
       "1                        신영제1구역 주택재개발정비사업조합  신영동 158-2       관리처분인가  운영   \n",
       "2              돈의문2구역 도시정비형 재개발사업(신탁시행자 방식)     교남동 28       정비구역지정  운영   \n",
       "3  창신동23?숭인동56일대 주택재개발 정비사업(추정분담금 계산용 홈페이지)   창신동 23-2  조합설립추진위원회승인  운영   \n",
       "4                          돈의문1구역도시환경정비사업조합   교남동 62-1         조합해산  운영   \n",
       "\n",
       "   토지등 소유자 수  ... 임대세대총수 (임대)40㎡이하  (임대)40㎡초과~50㎡이하  (임대)50㎡초과       건축계획비고  \\\n",
       "0         60  ...    NaN       NaN              NaN        NaN          NaN   \n",
       "1         56  ...    NaN       NaN              NaN        NaN          NaN   \n",
       "2          0  ...    NaN       NaN              NaN        NaN  85초과없어 저장안됨   \n",
       "3          0  ...    NaN       NaN              NaN        NaN          NaN   \n",
       "4        989  ...  496.0     244.0            201.0       51.0          NaN   \n",
       "\n",
       "                                                 위치도  \\\n",
       "0  /servlet/image/assc/20100217153930126638877090...   \n",
       "1  /servlet/image/assc/20100310114115126818887557...   \n",
       "2                                                NaN   \n",
       "3                                                NaN   \n",
       "4  /servlet/image/assc/20100305104933126775377359...   \n",
       "\n",
       "                                                 조감도  \\\n",
       "0  /servlet/image/assc/2009/12/200912301628331262...   \n",
       "1  /servlet/image/assc/2023/07/202307241353051690...   \n",
       "2                                                NaN   \n",
       "3                                                NaN   \n",
       "4  /servlet/image/assc/2009/12/200912301628331262...   \n",
       "\n",
       "                                                 배치도  \\\n",
       "0  /servlet/image/assc/2010/03/201003301443011269...   \n",
       "1  /servlet/image?url=images/assc/2022/03/2022031...   \n",
       "2                                                NaN   \n",
       "3                                                NaN   \n",
       "4  /servlet/image/assc/2010/01/201001121650111263...   \n",
       "\n",
       "                        조합사무실 주소   조합사무실 전화번호  \n",
       "0                            NaN  02-736-4612  \n",
       "1     서울특별시 종로구 자하문로42길 29 (신영동)  02-395-0045  \n",
       "2                            NaN          NaN  \n",
       "3                            NaN          NaN  \n",
       "4  서울특별시 종로구 송월길 136, 403호 (행촌동)  02-720-5834  \n",
       "\n",
       "[5 rows x 43 columns]"
      ]
     },
     "execution_count": 37,
     "metadata": {},
     "output_type": "execute_result"
    }
   ],
   "source": [
    "df2.head()"
   ]
  }
 ],
 "metadata": {
  "kernelspec": {
   "display_name": "Python 3",
   "language": "python",
   "name": "python3"
  },
  "language_info": {
   "codemirror_mode": {
    "name": "ipython",
    "version": 3
   },
   "file_extension": ".py",
   "mimetype": "text/x-python",
   "name": "python",
   "nbconvert_exporter": "python",
   "pygments_lexer": "ipython3",
   "version": "3.8.2"
  }
 },
 "nbformat": 4,
 "nbformat_minor": 2
}
