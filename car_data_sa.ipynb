{
 "cells": [
  {
   "cell_type": "markdown",
   "metadata": {},
   "source": [
    "### 서울시 행정동별 연료별 자동차 등록현황\n",
    "http://data.seoul.go.kr/dataList/OA-21236/F/1/datasetView.do"
   ]
  },
  {
   "cell_type": "code",
   "execution_count": 17,
   "metadata": {},
   "outputs": [],
   "source": [
    "import pandas as pd\n",
    "import matplotlib.pyplot as plt\n",
    "import numpy as np\n",
    "import seaborn as sns\n",
    "import warnings"
   ]
  },
  {
   "cell_type": "code",
   "execution_count": 18,
   "metadata": {},
   "outputs": [
    {
     "data": {
      "text/html": [
       "<div>\n",
       "<style scoped>\n",
       "    .dataframe tbody tr th:only-of-type {\n",
       "        vertical-align: middle;\n",
       "    }\n",
       "\n",
       "    .dataframe tbody tr th {\n",
       "        vertical-align: top;\n",
       "    }\n",
       "\n",
       "    .dataframe thead th {\n",
       "        text-align: right;\n",
       "    }\n",
       "</style>\n",
       "<table border=\"1\" class=\"dataframe\">\n",
       "  <thead>\n",
       "    <tr style=\"text-align: right;\">\n",
       "      <th></th>\n",
       "      <th>행정동</th>\n",
       "      <th>연료</th>\n",
       "      <th>계</th>\n",
       "    </tr>\n",
       "  </thead>\n",
       "  <tbody>\n",
       "    <tr>\n",
       "      <th>0</th>\n",
       "      <td>종로구 기타</td>\n",
       "      <td>휘발유(무연)</td>\n",
       "      <td>1</td>\n",
       "    </tr>\n",
       "    <tr>\n",
       "      <th>1</th>\n",
       "      <td>종로구 기타</td>\n",
       "      <td>휘발유</td>\n",
       "      <td>2</td>\n",
       "    </tr>\n",
       "    <tr>\n",
       "      <th>2</th>\n",
       "      <td>종로구 기타</td>\n",
       "      <td>경유</td>\n",
       "      <td>1</td>\n",
       "    </tr>\n",
       "    <tr>\n",
       "      <th>3</th>\n",
       "      <td>종로구 청운효자동</td>\n",
       "      <td>휘발유</td>\n",
       "      <td>741</td>\n",
       "    </tr>\n",
       "    <tr>\n",
       "      <th>4</th>\n",
       "      <td>종로구 청운효자동</td>\n",
       "      <td>경유</td>\n",
       "      <td>963</td>\n",
       "    </tr>\n",
       "    <tr>\n",
       "      <th>5</th>\n",
       "      <td>종로구 청운효자동</td>\n",
       "      <td>엘피지</td>\n",
       "      <td>152</td>\n",
       "    </tr>\n",
       "    <tr>\n",
       "      <th>6</th>\n",
       "      <td>종로구 청운효자동</td>\n",
       "      <td>전기</td>\n",
       "      <td>62</td>\n",
       "    </tr>\n",
       "    <tr>\n",
       "      <th>7</th>\n",
       "      <td>종로구 청운효자동</td>\n",
       "      <td>휘발유(유연)</td>\n",
       "      <td>2</td>\n",
       "    </tr>\n",
       "    <tr>\n",
       "      <th>8</th>\n",
       "      <td>종로구 청운효자동</td>\n",
       "      <td>휘발유(무연)</td>\n",
       "      <td>1,108</td>\n",
       "    </tr>\n",
       "    <tr>\n",
       "      <th>9</th>\n",
       "      <td>종로구 청운효자동</td>\n",
       "      <td>하이브리드(휘발유+전기)</td>\n",
       "      <td>270</td>\n",
       "    </tr>\n",
       "  </tbody>\n",
       "</table>\n",
       "</div>"
      ],
      "text/plain": [
       "          행정동             연료       계\n",
       "0      종로구 기타        휘발유(무연)      1 \n",
       "1      종로구 기타            휘발유      2 \n",
       "2      종로구 기타             경유      1 \n",
       "3  종로구 청운효자동             휘발유    741 \n",
       "4  종로구 청운효자동              경유    963 \n",
       "5  종로구 청운효자동             엘피지    152 \n",
       "6  종로구 청운효자동              전기     62 \n",
       "7  종로구 청운효자동         휘발유(유연)      2 \n",
       "8  종로구 청운효자동         휘발유(무연)  1,108 \n",
       "9  종로구 청운효자동   하이브리드(휘발유+전기)    270 "
      ]
     },
     "execution_count": 18,
     "metadata": {},
     "output_type": "execute_result"
    }
   ],
   "source": [
    "car_2403 = pd.read_csv('C:/Users/USER/OneDrive/바탕 화면/Final_project/서울시 자치구 읍면동별 연료별 자동차 등록현황(행정동)(24년03월)_1차가공.csv')\n",
    "car_2403.head(10)"
   ]
  },
  {
   "cell_type": "code",
   "execution_count": 19,
   "metadata": {},
   "outputs": [],
   "source": [
    "# '계' 컬럼에서 쉼표 제거하고 정수로 변환하는 함수 정의\n",
    "def remove_comma_and_convert_to_int(value):\n",
    "    return int(value.replace(',', ''))"
   ]
  },
  {
   "cell_type": "code",
   "execution_count": 20,
   "metadata": {},
   "outputs": [],
   "source": [
    "car_2403['계'] = car_2403['계'].apply(lambda x: remove_comma_and_convert_to_int(x))"
   ]
  },
  {
   "cell_type": "code",
   "execution_count": 23,
   "metadata": {},
   "outputs": [
    {
     "data": {
      "text/html": [
       "<div>\n",
       "<style scoped>\n",
       "    .dataframe tbody tr th:only-of-type {\n",
       "        vertical-align: middle;\n",
       "    }\n",
       "\n",
       "    .dataframe tbody tr th {\n",
       "        vertical-align: top;\n",
       "    }\n",
       "\n",
       "    .dataframe thead th {\n",
       "        text-align: right;\n",
       "    }\n",
       "</style>\n",
       "<table border=\"1\" class=\"dataframe\">\n",
       "  <thead>\n",
       "    <tr style=\"text-align: right;\">\n",
       "      <th></th>\n",
       "      <th>행정동</th>\n",
       "      <th>연료</th>\n",
       "      <th>계</th>\n",
       "    </tr>\n",
       "  </thead>\n",
       "  <tbody>\n",
       "    <tr>\n",
       "      <th>0</th>\n",
       "      <td>종로구 기타</td>\n",
       "      <td>휘발유(무연)</td>\n",
       "      <td>1</td>\n",
       "    </tr>\n",
       "    <tr>\n",
       "      <th>1</th>\n",
       "      <td>종로구 기타</td>\n",
       "      <td>휘발유</td>\n",
       "      <td>2</td>\n",
       "    </tr>\n",
       "    <tr>\n",
       "      <th>2</th>\n",
       "      <td>종로구 기타</td>\n",
       "      <td>경유</td>\n",
       "      <td>1</td>\n",
       "    </tr>\n",
       "    <tr>\n",
       "      <th>3</th>\n",
       "      <td>종로구 청운효자동</td>\n",
       "      <td>휘발유</td>\n",
       "      <td>741</td>\n",
       "    </tr>\n",
       "    <tr>\n",
       "      <th>4</th>\n",
       "      <td>종로구 청운효자동</td>\n",
       "      <td>경유</td>\n",
       "      <td>963</td>\n",
       "    </tr>\n",
       "    <tr>\n",
       "      <th>5</th>\n",
       "      <td>종로구 청운효자동</td>\n",
       "      <td>엘피지</td>\n",
       "      <td>152</td>\n",
       "    </tr>\n",
       "    <tr>\n",
       "      <th>6</th>\n",
       "      <td>종로구 청운효자동</td>\n",
       "      <td>전기</td>\n",
       "      <td>62</td>\n",
       "    </tr>\n",
       "    <tr>\n",
       "      <th>7</th>\n",
       "      <td>종로구 청운효자동</td>\n",
       "      <td>휘발유(유연)</td>\n",
       "      <td>2</td>\n",
       "    </tr>\n",
       "    <tr>\n",
       "      <th>8</th>\n",
       "      <td>종로구 청운효자동</td>\n",
       "      <td>휘발유(무연)</td>\n",
       "      <td>1108</td>\n",
       "    </tr>\n",
       "    <tr>\n",
       "      <th>9</th>\n",
       "      <td>종로구 청운효자동</td>\n",
       "      <td>하이브리드(휘발유+전기)</td>\n",
       "      <td>270</td>\n",
       "    </tr>\n",
       "  </tbody>\n",
       "</table>\n",
       "</div>"
      ],
      "text/plain": [
       "          행정동             연료     계\n",
       "0      종로구 기타        휘발유(무연)     1\n",
       "1      종로구 기타            휘발유     2\n",
       "2      종로구 기타             경유     1\n",
       "3  종로구 청운효자동             휘발유   741\n",
       "4  종로구 청운효자동              경유   963\n",
       "5  종로구 청운효자동             엘피지   152\n",
       "6  종로구 청운효자동              전기    62\n",
       "7  종로구 청운효자동         휘발유(유연)     2\n",
       "8  종로구 청운효자동         휘발유(무연)  1108\n",
       "9  종로구 청운효자동   하이브리드(휘발유+전기)   270"
      ]
     },
     "execution_count": 23,
     "metadata": {},
     "output_type": "execute_result"
    }
   ],
   "source": [
    "car_2403.head(10)"
   ]
  },
  {
   "cell_type": "code",
   "execution_count": 21,
   "metadata": {},
   "outputs": [
    {
     "data": {
      "text/plain": [
       "3187771"
      ]
     },
     "execution_count": 21,
     "metadata": {},
     "output_type": "execute_result"
    }
   ],
   "source": [
    "# 원본 총계에서 -5 차이 발생 > 원본 오류로 가정 후 무시하고 진행\n",
    "car_total = sum(car_2403['계'])\n",
    "car_total"
   ]
  },
  {
   "cell_type": "code",
   "execution_count": 24,
   "metadata": {},
   "outputs": [],
   "source": [
    "#Python 전처리 후 csv 파일로 저장하여 SQL로 이어서 전처리 진행\n",
    "car_2403.to_csv('서울시 자치구 읍면동별 연료별 자동차 등록현황(행정동)(24년03월)_2차가공.csv', index=False)"
   ]
  },
  {
   "cell_type": "code",
   "execution_count": null,
   "metadata": {},
   "outputs": [],
   "source": []
  }
 ],
 "metadata": {
  "kernelspec": {
   "display_name": "Python 3",
   "language": "python",
   "name": "python3"
  },
  "language_info": {
   "codemirror_mode": {
    "name": "ipython",
    "version": 3
   },
   "file_extension": ".py",
   "mimetype": "text/x-python",
   "name": "python",
   "nbconvert_exporter": "python",
   "pygments_lexer": "ipython3",
   "version": "3.8.6"
  }
 },
 "nbformat": 4,
 "nbformat_minor": 2
}
